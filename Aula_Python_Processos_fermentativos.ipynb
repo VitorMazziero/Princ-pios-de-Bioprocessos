{
  "nbformat": 4,
  "nbformat_minor": 0,
  "metadata": {
    "colab": {
      "provenance": [],
      "collapsed_sections": [],
      "include_colab_link": true
    },
    "language_info": {
      "name": "python"
    },
    "kernelspec": {
      "name": "python3",
      "display_name": "Python 3"
    }
  },
  "cells": [
    {
      "cell_type": "markdown",
      "metadata": {
        "id": "view-in-github",
        "colab_type": "text"
      },
      "source": [
        "<a href=\"https://colab.research.google.com/github/VitorMazziero/Princ-pios-de-Bioprocessos/blob/main/Aula_Python_Processos_fermentativos.ipynb\" target=\"_parent\"><img src=\"https://colab.research.google.com/assets/colab-badge.svg\" alt=\"Open In Colab\"/></a>"
      ]
    },
    {
      "metadata": {
        "id": "VmriwdpCr1MD"
      },
      "cell_type": "markdown",
      "source": [
        "#Introdução ao Python"
      ]
    },
    {
      "cell_type": "markdown",
      "metadata": {
        "id": "c7uQwVs79X-h"
      },
      "source": [
        "### Python"
      ]
    },
    {
      "cell_type": "markdown",
      "metadata": {
        "id": "PaNRpAhn9X-h"
      },
      "source": [
        "Python é uma linguagem de programação interpretada que foi lançada em 1991 e vem ganhando muitos adeptos por já ter uma forte comunidade que trabalha para o desenvolvimento de aplicações, utiliza o modelo comunitário de desenvolvimento e tem licença livre. "
      ]
    },
    {
      "cell_type": "markdown",
      "metadata": {
        "id": "__gMkhu89X-h"
      },
      "source": [
        "### Anaconda"
      ]
    },
    {
      "cell_type": "markdown",
      "metadata": {
        "id": "i17P1Q0J9X-h"
      },
      "source": [
        "Anaconda é um software de distribuição livre e de código aberto para as linguagens de programação em Python e R, Anaconda facilita muito o trabalho das pessoas que querem aprender a programar em Python ou R, pois já instala mais de 250 pacotes científicos para o usuário sem a necessidade instalação manual.\n",
        "\n",
        "Para instalação da Anaconda entre no site www.anaconda.com/downloads, escolha a versão do Python 3.6 ou 2.7, neste livro utilizaremos a versão 3.6\n",
        "\n",
        "Dentro do software Anaconda contém aplicações com interface gráfica para os usuários, onde facilitará o uso do Python ou R para os usuários.\n",
        "\n",
        "Uma destas aplicações é Jupyter Notebook é um ambiente gráfico para a programação em Python, R e Julia, que pode ser acessado online que o usuário pode programar mesmo online ou instalar o Jupyter Notebook em seu computador. O website é http://jupyter.org/.\n"
      ]
    },
    {
      "cell_type": "markdown",
      "metadata": {
        "id": "pFGh3ivx9X-i"
      },
      "source": [
        "### Comandos Básicos"
      ]
    },
    {
      "cell_type": "markdown",
      "metadata": {
        "id": "PB5HYO2J9X-j"
      },
      "source": [
        "Em Python a cerquilha (#) é utilizado para comentários do programa, tudo que vem posterior à cerquilha será ignorado pelo Python, serve apenas para explicar ou orientar o programador.\n",
        "A primeira função é o print, que tem a função de imprimir, então temos que escrever print e entres os parênteses colocar o que queremos que o Python imprima.\n"
      ]
    },
    {
      "cell_type": "code",
      "execution_count": null,
      "metadata": {
        "id": "k7sOIwv49X-j"
      },
      "outputs": [],
      "source": [
        "# Teste"
      ]
    },
    {
      "metadata": {
        "id": "rpUqzxRhm-Wk",
        "colab": {
          "base_uri": "https://localhost:8080/"
        },
        "outputId": "a5d3285c-1f10-4ea3-e499-10df26556a0a"
      },
      "cell_type": "code",
      "source": [
        "# Minha primeira frase\n",
        "print('Olá Mundo')"
      ],
      "execution_count": 85,
      "outputs": [
        {
          "output_type": "stream",
          "name": "stdout",
          "text": [
            "Olá Mundo\n"
          ]
        }
      ]
    },
    {
      "metadata": {
        "id": "XH40mBV4tArL",
        "colab": {
          "base_uri": "https://localhost:8080/"
        },
        "outputId": "c5fb9e8a-56b3-4fbe-dfbf-f7869c24a69e"
      },
      "cell_type": "code",
      "source": [
        "# Vamos tentar diferente\n",
        "a='Olá ' #necessita do espaço, senão ele irá unir sem o espaço entre eles, ficando tudo junto\n",
        "b=\"Python\" #entrada de dados\n",
        "print(a+b)"
      ],
      "execution_count": null,
      "outputs": [
        {
          "output_type": "stream",
          "name": "stdout",
          "text": [
            "Olá Python\n"
          ]
        }
      ]
    },
    {
      "metadata": {
        "id": "NQyjPyOluFhC",
        "colab": {
          "base_uri": "https://localhost:8080/"
        },
        "outputId": "b5ee39bf-4a84-4c3d-fa4e-4f0e360301f9"
      },
      "cell_type": "code",
      "source": [
        "print('@Deus ' + 'me ' + 'ajuda')"
      ],
      "execution_count": null,
      "outputs": [
        {
          "output_type": "stream",
          "name": "stdout",
          "text": [
            "@Deus me ajuda\n"
          ]
        }
      ]
    },
    {
      "metadata": {
        "id": "2IIG4pX8tyWt",
        "colab": {
          "base_uri": "https://localhost:8080/"
        },
        "outputId": "94d6121d-a721-49b0-ca72-1e32f8827092"
      },
      "cell_type": "code",
      "source": [
        "#Contas simples\n",
        "print(4+7)"
      ],
      "execution_count": null,
      "outputs": [
        {
          "output_type": "stream",
          "name": "stdout",
          "text": [
            "11\n"
          ]
        }
      ]
    },
    {
      "cell_type": "markdown",
      "metadata": {
        "id": "STchuWHP9X-m"
      },
      "source": [
        "Pode-se também realizar expressões mais complexas com os operadores básicos:\n",
        "\n",
        "Adição (+);\n",
        "\n",
        "Subtração (-) ;\n",
        "\n",
        "Multiplicação (*);\n",
        "\n",
        "Divisão (/)\n",
        "\n",
        "Exponenciação (**) ;\n",
        "\n",
        "Parte inteira da divisão (//)\n",
        "\n",
        "Resto da divisão (%)\n"
      ]
    },
    {
      "cell_type": "code",
      "execution_count": null,
      "metadata": {
        "id": "4yMNaRLO9X-m",
        "outputId": "f7c294f4-c784-496d-d983-9d0d20f22c0e",
        "colab": {
          "base_uri": "https://localhost:8080/"
        }
      },
      "outputs": [
        {
          "output_type": "execute_result",
          "data": {
            "text/plain": [
              "3"
            ]
          },
          "metadata": {},
          "execution_count": 48
        }
      ],
      "source": [
        "#Subtração\n",
        "7 - 4"
      ]
    },
    {
      "cell_type": "code",
      "execution_count": null,
      "metadata": {
        "id": "bIEtyNvc9X-m",
        "outputId": "2f138640-c47f-437b-ad9c-1c53fbda2754",
        "colab": {
          "base_uri": "https://localhost:8080/"
        }
      },
      "outputs": [
        {
          "output_type": "execute_result",
          "data": {
            "text/plain": [
              "10.0"
            ]
          },
          "metadata": {},
          "execution_count": 56
        }
      ],
      "source": [
        "# Divisão \n",
        "20 / 2"
      ]
    },
    {
      "cell_type": "code",
      "execution_count": null,
      "metadata": {
        "id": "za6znu4e9X-n",
        "outputId": "6a1846e0-ddbd-4db5-fd2b-7e749a928401",
        "colab": {
          "base_uri": "https://localhost:8080/"
        }
      },
      "outputs": [
        {
          "output_type": "execute_result",
          "data": {
            "text/plain": [
              "77"
            ]
          },
          "metadata": {},
          "execution_count": 50
        }
      ],
      "source": [
        "# Multiplicação\n",
        "11 * 7 "
      ]
    },
    {
      "cell_type": "code",
      "execution_count": null,
      "metadata": {
        "id": "Z3HQCkB79X-n",
        "outputId": "962365d3-2379-4a83-98de-bd54435ca61f",
        "colab": {
          "base_uri": "https://localhost:8080/"
        }
      },
      "outputs": [
        {
          "output_type": "execute_result",
          "data": {
            "text/plain": [
              "4"
            ]
          },
          "metadata": {},
          "execution_count": 59
        }
      ],
      "source": [
        "# Exponenciação\n",
        "2 ** 2"
      ]
    },
    {
      "cell_type": "code",
      "execution_count": null,
      "metadata": {
        "id": "VvmaxyqH9X-n",
        "outputId": "3ff63cbf-c8b8-44e3-b3ba-90fdb11d091b",
        "colab": {
          "base_uri": "https://localhost:8080/"
        }
      },
      "outputs": [
        {
          "output_type": "execute_result",
          "data": {
            "text/plain": [
              "5"
            ]
          },
          "metadata": {},
          "execution_count": 52
        }
      ],
      "source": [
        "# Divisão - Parte Inteira\n",
        "11 // 2"
      ]
    },
    {
      "cell_type": "code",
      "execution_count": null,
      "metadata": {
        "id": "jHfPezzj9X-o",
        "outputId": "6e9e67b2-936c-4491-df77-50c05b72fd4a",
        "colab": {
          "base_uri": "https://localhost:8080/"
        }
      },
      "outputs": [
        {
          "output_type": "execute_result",
          "data": {
            "text/plain": [
              "1"
            ]
          },
          "metadata": {},
          "execution_count": 61
        }
      ],
      "source": [
        "# Divisão - Resto\n",
        "13 % 2"
      ]
    },
    {
      "cell_type": "markdown",
      "source": [
        "### Tipos de Variáveis"
      ],
      "metadata": {
        "id": "OprRXFm6Bi-U"
      }
    },
    {
      "cell_type": "markdown",
      "metadata": {
        "id": "YRC2VSty9X-o"
      },
      "source": [
        "Existem alguns padrões de tipos de dados em Python, que são padrões de dados reconhecidos pela linguagem de programação, normalmente quando possíveis eles são mutáveis, dentro dos padrões numéricos existentes alguns tipos, que são os números inteiros (‘int’), números decimais (‘float’), números complexos (‘complex’) e um subitem dos números inteiros são os booleanos (‘bool’), este último está relacionado com Verdadeiro (‘True’) e Falso (‘False’), o valor Verdadeiro também recebe o valor de 1, e o valor Falso recebe 0.\n",
        "\n",
        "As saídas do exemplo anterior já foram classificadas automaticamente os tipos de dados de acordo com a sua entrada.\n",
        "\n",
        "O comando type retorna o tipo de padrão de dados que a Python classificou.\n"
      ]
    },
    {
      "cell_type": "code",
      "execution_count": null,
      "metadata": {
        "id": "MTBxzevU9X-o",
        "outputId": "83d9f154-e0b2-4f47-df8c-930a8efc579f",
        "colab": {
          "base_uri": "https://localhost:8080/"
        }
      },
      "outputs": [
        {
          "output_type": "stream",
          "name": "stdout",
          "text": [
            "<class 'int'>\n"
          ]
        }
      ],
      "source": [
        "a = 7 - 4 \n",
        "print(type(a))"
      ]
    },
    {
      "cell_type": "code",
      "execution_count": null,
      "metadata": {
        "id": "TtabHyFK9X-p",
        "outputId": "bc56e825-b38c-4480-fa4f-32c5ee1ee712",
        "colab": {
          "base_uri": "https://localhost:8080/"
        }
      },
      "outputs": [
        {
          "output_type": "stream",
          "name": "stdout",
          "text": [
            "<class 'float'>\n"
          ]
        }
      ],
      "source": [
        "b = 7 - 4.2\n",
        "print(type(b))"
      ]
    },
    {
      "cell_type": "code",
      "execution_count": null,
      "metadata": {
        "id": "k6oOdWye9X-q",
        "outputId": "4cea2cb4-68bd-4375-c973-8bbccb1b20d7",
        "colab": {
          "base_uri": "https://localhost:8080/"
        }
      },
      "outputs": [
        {
          "output_type": "stream",
          "name": "stdout",
          "text": [
            "<class 'str'>\n"
          ]
        }
      ],
      "source": [
        "c = \"quatro\"\n",
        "print(type(c))"
      ]
    },
    {
      "cell_type": "code",
      "execution_count": null,
      "metadata": {
        "id": "_W2J-PhW9X-q",
        "outputId": "4fe9cd14-323d-4d00-e357-59e3864ea58c",
        "colab": {
          "base_uri": "https://localhost:8080/"
        }
      },
      "outputs": [
        {
          "output_type": "stream",
          "name": "stdout",
          "text": [
            "<class 'complex'>\n"
          ]
        }
      ],
      "source": [
        "d = 4 + 2j\n",
        "print(type(d))"
      ]
    },
    {
      "cell_type": "code",
      "execution_count": null,
      "metadata": {
        "id": "EQOmUpQp9X-q",
        "outputId": "f7cfb462-2cfd-47d8-f26f-39d4d69797c0",
        "colab": {
          "base_uri": "https://localhost:8080/"
        }
      },
      "outputs": [
        {
          "output_type": "stream",
          "name": "stdout",
          "text": [
            "<class 'bool'>\n"
          ]
        }
      ],
      "source": [
        "e = False\n",
        "print(type(e))"
      ]
    },
    {
      "cell_type": "markdown",
      "source": [
        "### Transformação entre tipos"
      ],
      "metadata": {
        "id": "QTeH_y-rBtqk"
      }
    },
    {
      "cell_type": "code",
      "execution_count": null,
      "metadata": {
        "id": "lwJkDuBX9X-q",
        "outputId": "ba4c0c1c-5bde-4010-edf0-20e18ef41b17",
        "colab": {
          "base_uri": "https://localhost:8080/"
        }
      },
      "outputs": [
        {
          "output_type": "stream",
          "name": "stdout",
          "text": [
            "5.35\n",
            "5\n"
          ]
        }
      ],
      "source": [
        "a = 2.1\n",
        "b = 3.25\n",
        "\n",
        "c = int(a)\n",
        "d = int(b)\n",
        "print (a + b)\n",
        "print (c + d)"
      ]
    },
    {
      "cell_type": "code",
      "source": [
        "e = 4\n",
        "f = float(c)\n",
        "\n",
        "# Consegue fazer operação entre float e int mas é indicado transformar no mesmo tipo\n",
        "print (e)\n",
        "print (f)\n",
        "print (e + f)"
      ],
      "metadata": {
        "colab": {
          "base_uri": "https://localhost:8080/"
        },
        "id": "2uJGQT5eONUo",
        "outputId": "fcfae9db-ccc7-46fe-b314-40a6c08ddf60"
      },
      "execution_count": null,
      "outputs": [
        {
          "output_type": "stream",
          "name": "stdout",
          "text": [
            "4\n",
            "2.0\n",
            "6.0\n"
          ]
        }
      ]
    },
    {
      "cell_type": "code",
      "source": [
        "print ('Tipo de a:', type(a))\n",
        "print ('Tipo de b:', type(b))\n",
        "print ('Tipo de c:', type(c))\n",
        "print ('Tipo de d:', type(d))\n",
        "print ('Tipo de e:', type(e))\n",
        "print ('Tipo de f:', type(f))"
      ],
      "metadata": {
        "colab": {
          "base_uri": "https://localhost:8080/"
        },
        "id": "qU1QGLR0NDXg",
        "outputId": "534c494b-9fb2-43c0-a7fa-ba40bde4255f"
      },
      "execution_count": null,
      "outputs": [
        {
          "output_type": "stream",
          "name": "stdout",
          "text": [
            "Tipo de a: <class 'float'>\n",
            "Tipo de b: <class 'float'>\n",
            "Tipo de c: <class 'int'>\n",
            "Tipo de d: <class 'int'>\n",
            "Tipo de e: <class 'int'>\n",
            "Tipo de f: <class 'float'>\n"
          ]
        }
      ]
    },
    {
      "cell_type": "markdown",
      "metadata": {
        "id": "wfJc1WG69X-2"
      },
      "source": [
        "### Sequência de execução"
      ]
    },
    {
      "cell_type": "markdown",
      "metadata": {
        "id": "s5ZDxOem9X-3"
      },
      "source": [
        "Um programa é executado linha por linha pelo computador, executando as operações descritas no programa uma após a outra. Quando trabalhamos com variáveis, devemos lembrar de que o conteúdo de uma variável pode variar com o tempo."
      ]
    },
    {
      "cell_type": "code",
      "execution_count": null,
      "metadata": {
        "id": "UGvsBmyU9X-3",
        "outputId": "64f10fc3-6622-4197-d0ba-e0434c765585"
      },
      "outputs": [
        {
          "name": "stdout",
          "output_type": "stream",
          "text": [
            "765\n"
          ]
        }
      ],
      "source": [
        "divida = 0\n",
        "compra = 200\n",
        "divida = divida + compra\n",
        "compra = 250\n",
        "divida = divida + compra\n",
        "compra = 315\n",
        "divida = divida + compra\n",
        "compra = 0\n",
        "print(divida)"
      ]
    },
    {
      "cell_type": "code",
      "source": [
        "x=1\n",
        "x+=1\n",
        "print(x)"
      ],
      "metadata": {
        "colab": {
          "base_uri": "https://localhost:8080/"
        },
        "id": "GHhIuWq7jXpP",
        "outputId": "b829a498-3edb-411c-a500-abac4049a2b1"
      },
      "execution_count": null,
      "outputs": [
        {
          "output_type": "stream",
          "name": "stdout",
          "text": [
            "2\n"
          ]
        }
      ]
    },
    {
      "cell_type": "markdown",
      "metadata": {
        "id": "ERti2e8g9X-3"
      },
      "source": [
        "### Entrada de dados"
      ]
    },
    {
      "cell_type": "code",
      "execution_count": null,
      "metadata": {
        "id": "YQmmHLvk9X-3",
        "outputId": "e2f1f7ce-7be1-492e-e517-cb84d0437136"
      },
      "outputs": [
        {
          "name": "stdout",
          "output_type": "stream",
          "text": [
            "Qual é o seu nome?Marcel\n",
            "Olá Marcel\n"
          ]
        }
      ],
      "source": [
        "nome = input(\"Qual é o seu nome?\")\n",
        "print(\"Olá \"+ nome)"
      ]
    },
    {
      "cell_type": "code",
      "execution_count": null,
      "metadata": {
        "id": "jlHyQp-U9X-3",
        "outputId": "f097a728-9f65-4513-ca90-2276adee91d3"
      },
      "outputs": [
        {
          "name": "stdout",
          "output_type": "stream",
          "text": [
            "Digite um número: 12\n",
            "12\n"
          ]
        }
      ],
      "source": [
        "x = input(\"Digite um número: \")\n",
        "print(x)"
      ]
    },
    {
      "cell_type": "markdown",
      "source": [
        "### Programa - Cálculo de aumento de salário"
      ],
      "metadata": {
        "id": "zADY5DgfB23N"
      }
    },
    {
      "cell_type": "markdown",
      "source": [
        "Aumento de salário por um percentual"
      ],
      "metadata": {
        "id": "EnVZba-uB4rr"
      }
    },
    {
      "cell_type": "code",
      "execution_count": null,
      "metadata": {
        "id": "Ibxi8EDz9X-r",
        "outputId": "25086469-3846-44ee-cc82-5c30e59430ce",
        "colab": {
          "base_uri": "https://localhost:8080/"
        }
      },
      "outputs": [
        {
          "output_type": "stream",
          "name": "stdout",
          "text": [
            "Salário: 3500\n",
            "3683.75\n"
          ]
        }
      ],
      "source": [
        "# sal = salário, aum = aumento, n_sal = novo salário\n",
        "# Transformar para Float porque a entrada é string\n",
        "sal = float(input(\"Salário: \"))\n",
        "aum = 5.25\n",
        "n_sal = sal + (sal * (aum/100))\n",
        "print(n_sal)"
      ]
    },
    {
      "cell_type": "markdown",
      "source": [
        "###Exercício 1"
      ],
      "metadata": {
        "id": "ukIrry0ZDvFV"
      }
    },
    {
      "cell_type": "markdown",
      "metadata": {
        "id": "tr7517WM9X-6"
      },
      "source": [
        "1 - Escreva um programa que converta uma temperatura digitada em graus Celsius para graus Fahrenheit."
      ]
    },
    {
      "cell_type": "markdown",
      "source": [
        "$F=(C*9/5)+32$"
      ],
      "metadata": {
        "id": "c5Q1qweyEwbH"
      }
    },
    {
      "cell_type": "code",
      "execution_count": null,
      "metadata": {
        "id": "nfarIg7P9X-7",
        "outputId": "5a45a540-7c81-411c-fe79-008e533ae803"
      },
      "outputs": [
        {
          "name": "stdout",
          "output_type": "stream",
          "text": [
            "Entre com o valor em graus Celsius: 35\n",
            "A Temperatura em graus Fahrenheit é 95.0\n"
          ]
        }
      ],
      "source": [
        "# Exercício 1 - Converte graus Celsius em Fahrenheit\n",
        "C = float(input(\"Entre com o valor em graus Celsius: \"))\n",
        "F = ((9 * C)/5)+32\n",
        "print(\"A Temperatura em graus Fahrenheit é {}\".format(F))\n"
      ]
    },
    {
      "cell_type": "markdown",
      "source": [
        "###Exercício 2"
      ],
      "metadata": {
        "id": "mJBc58-F0MQE"
      }
    },
    {
      "cell_type": "markdown",
      "source": [
        "2 - Faça um programa que receba (entrada de dados) o valor correspondente ao lado de um quadrado, calcule e imprima (saída de dados) seu perímetro e sua área."
      ],
      "metadata": {
        "id": "w_rSr8730Whe"
      }
    },
    {
      "cell_type": "code",
      "execution_count": null,
      "metadata": {
        "id": "yY9a238h9X-7",
        "outputId": "50d7025e-ee0e-403a-dd9c-c09007b736c6",
        "colab": {
          "base_uri": "https://localhost:8080/"
        }
      },
      "outputs": [
        {
          "output_type": "stream",
          "name": "stdout",
          "text": [
            "Entre com o valor do lado do quadrado 85\n",
            "Perímetro: 340 \n",
            "Área: 7225\n"
          ]
        }
      ],
      "source": [
        "#Exercício 2 - Calcula o perímetro e área de um quadrado de lado l\n",
        "\n",
        "L = input(\"Entre com o valor do lado do quadrado \")\n",
        "L = int(L)\n",
        "\n",
        "x = L*4\n",
        "y = L**2\n",
        "\n",
        "print('Perímetro:', x, '\\nÁrea:', y)"
      ]
    },
    {
      "cell_type": "markdown",
      "source": [
        "##Operadores"
      ],
      "metadata": {
        "id": "VUlTTfKjWaCj"
      }
    },
    {
      "cell_type": "markdown",
      "source": [
        "### Operadores relacionais"
      ],
      "metadata": {
        "id": "REQ3p9YOB-_c"
      }
    },
    {
      "cell_type": "code",
      "execution_count": null,
      "metadata": {
        "id": "5lppkipb9X-s"
      },
      "outputs": [],
      "source": [
        "a = 1\n",
        "b = 5 \n",
        "c = 2\n",
        "d = 1 "
      ]
    },
    {
      "cell_type": "code",
      "execution_count": null,
      "metadata": {
        "id": "OA5wUOI39X-s",
        "outputId": "feda3baa-bdba-4ca7-e3f9-55c4530a9f86"
      },
      "outputs": [
        {
          "data": {
            "text/plain": [
              "False"
            ]
          },
          "execution_count": 64,
          "metadata": {},
          "output_type": "execute_result"
        }
      ],
      "source": [
        "a == b # a é igual a b?"
      ]
    },
    {
      "cell_type": "code",
      "execution_count": null,
      "metadata": {
        "id": "ARcE-6oP9X-t",
        "outputId": "d73f4766-2aa8-4ca8-da88-e58dd4ced8f8"
      },
      "outputs": [
        {
          "data": {
            "text/plain": [
              "True"
            ]
          },
          "execution_count": 70,
          "metadata": {},
          "output_type": "execute_result"
        }
      ],
      "source": [
        "d != b # d é diferente de b?"
      ]
    },
    {
      "cell_type": "code",
      "execution_count": null,
      "metadata": {
        "id": "_lfEDakH9X-t",
        "outputId": "69e26b34-ff46-414b-8189-168253fab144"
      },
      "outputs": [
        {
          "data": {
            "text/plain": [
              "False"
            ]
          },
          "execution_count": 69,
          "metadata": {},
          "output_type": "execute_result"
        }
      ],
      "source": [
        "d != a # d é diferente de a ?"
      ]
    },
    {
      "cell_type": "code",
      "execution_count": null,
      "metadata": {
        "id": "lMKduT299X-s",
        "outputId": "1d300327-c609-4ff5-a7ac-1d07a3e25b81"
      },
      "outputs": [
        {
          "data": {
            "text/plain": [
              "True"
            ]
          },
          "execution_count": 65,
          "metadata": {},
          "output_type": "execute_result"
        }
      ],
      "source": [
        "a < b # a é menor que b?"
      ]
    },
    {
      "cell_type": "code",
      "execution_count": null,
      "metadata": {
        "id": "x-pBig4D9X-t",
        "outputId": "469ca8e7-9755-4c7a-b50a-3fae6b2f184e"
      },
      "outputs": [
        {
          "data": {
            "text/plain": [
              "True"
            ]
          },
          "execution_count": 66,
          "metadata": {},
          "output_type": "execute_result"
        }
      ],
      "source": [
        "b > a # b é maior que a?"
      ]
    },
    {
      "cell_type": "markdown",
      "metadata": {
        "id": "n-n-J5509X-u"
      },
      "source": [
        "### Operadores lógicos"
      ]
    },
    {
      "cell_type": "code",
      "execution_count": null,
      "metadata": {
        "id": "60wBx3W19X-u",
        "outputId": "ed0dc4d8-7b12-4051-fae1-0628a778ff7d"
      },
      "outputs": [
        {
          "data": {
            "text/plain": [
              "False"
            ]
          },
          "execution_count": 71,
          "metadata": {},
          "output_type": "execute_result"
        }
      ],
      "source": [
        "not True"
      ]
    },
    {
      "cell_type": "code",
      "execution_count": null,
      "metadata": {
        "id": "B08RXpm49X-u",
        "outputId": "2385f768-90b8-4482-ddfb-612a9b60895c"
      },
      "outputs": [
        {
          "data": {
            "text/plain": [
              "True"
            ]
          },
          "execution_count": 72,
          "metadata": {},
          "output_type": "execute_result"
        }
      ],
      "source": [
        "not False"
      ]
    },
    {
      "cell_type": "code",
      "execution_count": null,
      "metadata": {
        "id": "IE5FSxM69X-u",
        "outputId": "c76983b9-2969-40aa-8560-7b4cc9fc4d97"
      },
      "outputs": [
        {
          "data": {
            "text/plain": [
              "True"
            ]
          },
          "execution_count": 73,
          "metadata": {},
          "output_type": "execute_result"
        }
      ],
      "source": [
        "True and True"
      ]
    },
    {
      "cell_type": "code",
      "execution_count": null,
      "metadata": {
        "id": "uHE8av5R9X-v",
        "outputId": "1942be26-7ab3-443b-b217-0bc64cd3f76e"
      },
      "outputs": [
        {
          "data": {
            "text/plain": [
              "False"
            ]
          },
          "execution_count": 74,
          "metadata": {},
          "output_type": "execute_result"
        }
      ],
      "source": [
        "True and False"
      ]
    },
    {
      "cell_type": "code",
      "execution_count": null,
      "metadata": {
        "id": "Rt9qnFhu9X-v",
        "outputId": "abe2cec2-9c64-4b5f-e341-7fdebc897bcf"
      },
      "outputs": [
        {
          "data": {
            "text/plain": [
              "False"
            ]
          },
          "execution_count": 75,
          "metadata": {},
          "output_type": "execute_result"
        }
      ],
      "source": [
        "False and False"
      ]
    },
    {
      "cell_type": "code",
      "execution_count": null,
      "metadata": {
        "id": "dNYkvlQx9X-v",
        "outputId": "c43904fc-4927-4d8e-f3c1-82483eec2563"
      },
      "outputs": [
        {
          "data": {
            "text/plain": [
              "False"
            ]
          },
          "execution_count": 76,
          "metadata": {},
          "output_type": "execute_result"
        }
      ],
      "source": [
        "False and True"
      ]
    },
    {
      "cell_type": "code",
      "execution_count": null,
      "metadata": {
        "id": "StOM-XE59X-v",
        "outputId": "e084ffc3-ae67-4a89-a4cc-96cfd28c8183"
      },
      "outputs": [
        {
          "data": {
            "text/plain": [
              "True"
            ]
          },
          "execution_count": 77,
          "metadata": {},
          "output_type": "execute_result"
        }
      ],
      "source": [
        "True or False"
      ]
    },
    {
      "cell_type": "code",
      "execution_count": null,
      "metadata": {
        "id": "o0Z925ql9X-v",
        "outputId": "1dded5e7-23a9-4b78-dca1-829f2d0a46d1"
      },
      "outputs": [
        {
          "data": {
            "text/plain": [
              "True"
            ]
          },
          "execution_count": 78,
          "metadata": {},
          "output_type": "execute_result"
        }
      ],
      "source": [
        "True or True"
      ]
    },
    {
      "cell_type": "code",
      "execution_count": null,
      "metadata": {
        "id": "-uYhI63q9X-w",
        "outputId": "e6519789-4ad5-45c4-90c5-69f895a8c657"
      },
      "outputs": [
        {
          "data": {
            "text/plain": [
              "True"
            ]
          },
          "execution_count": 79,
          "metadata": {},
          "output_type": "execute_result"
        }
      ],
      "source": [
        "False or True"
      ]
    },
    {
      "cell_type": "code",
      "execution_count": null,
      "metadata": {
        "id": "zfG_YGT19X-w",
        "outputId": "ff234f8b-0747-4a41-ab4b-ef5529a405cb"
      },
      "outputs": [
        {
          "data": {
            "text/plain": [
              "False"
            ]
          },
          "execution_count": 80,
          "metadata": {},
          "output_type": "execute_result"
        }
      ],
      "source": [
        "False or False"
      ]
    },
    {
      "cell_type": "markdown",
      "metadata": {
        "id": "uEAwNbEL9X-w"
      },
      "source": [
        "Teste que o salário tem que ser maior que 1000 e ter idade maior que 18 anos"
      ]
    },
    {
      "cell_type": "code",
      "execution_count": null,
      "metadata": {
        "id": "Jl2Vpl8X9X-w",
        "outputId": "dd1ecfcc-34cf-4f78-de9c-5a46895cc675"
      },
      "outputs": [
        {
          "data": {
            "text/plain": [
              "True"
            ]
          },
          "execution_count": 81,
          "metadata": {},
          "output_type": "execute_result"
        }
      ],
      "source": [
        "salario = 1500\n",
        "idade = 18\n",
        "salario > 1000 and idade >= 18"
      ]
    },
    {
      "cell_type": "code",
      "execution_count": null,
      "metadata": {
        "id": "JjRg41rf9X-w",
        "outputId": "074d4971-904d-4a78-f36c-f48783daea64"
      },
      "outputs": [
        {
          "data": {
            "text/plain": [
              "False"
            ]
          },
          "execution_count": 82,
          "metadata": {},
          "output_type": "execute_result"
        }
      ],
      "source": [
        "salario = 1500\n",
        "idade = 17\n",
        "salario > 1000 and idade >= 18"
      ]
    },
    {
      "cell_type": "markdown",
      "source": [
        "##String"
      ],
      "metadata": {
        "id": "PbhEV09QWfOD"
      }
    },
    {
      "cell_type": "markdown",
      "metadata": {
        "id": "LxGBySa89X-x"
      },
      "source": [
        "### Variáveis string"
      ]
    },
    {
      "cell_type": "markdown",
      "metadata": {
        "id": "wy641FXV9X-x"
      },
      "source": [
        "A função len retorna o tamanho da string, um número inteiro, para ver a documentação aperte o botão shift + Tab"
      ]
    },
    {
      "cell_type": "code",
      "execution_count": null,
      "metadata": {
        "scrolled": true,
        "id": "55crMaKn9X-x",
        "outputId": "cf17822d-984a-4fab-eb6f-5dd1870a97e1",
        "colab": {
          "base_uri": "https://localhost:8080/"
        }
      },
      "outputs": [
        {
          "output_type": "execute_result",
          "data": {
            "text/plain": [
              "1"
            ]
          },
          "metadata": {},
          "execution_count": 97
        }
      ],
      "source": [
        "len(\"A\")"
      ]
    },
    {
      "cell_type": "code",
      "execution_count": null,
      "metadata": {
        "id": "83St_51d9X-x",
        "outputId": "776d33d7-ca3a-4ce2-b821-e68ca19417bc",
        "colab": {
          "base_uri": "https://localhost:8080/"
        }
      },
      "outputs": [
        {
          "output_type": "execute_result",
          "data": {
            "text/plain": [
              "2"
            ]
          },
          "metadata": {},
          "execution_count": 98
        }
      ],
      "source": [
        "len(\"AB\")"
      ]
    },
    {
      "cell_type": "code",
      "execution_count": null,
      "metadata": {
        "id": "QiHYei2r9X-x",
        "outputId": "8a85b967-5d41-4ae8-f489-6bb74199dde2",
        "colab": {
          "base_uri": "https://localhost:8080/"
        }
      },
      "outputs": [
        {
          "output_type": "execute_result",
          "data": {
            "text/plain": [
              "19"
            ]
          },
          "metadata": {},
          "execution_count": 99
        }
      ],
      "source": [
        "len(\"o rato roeu a roupa\")"
      ]
    },
    {
      "cell_type": "code",
      "execution_count": null,
      "metadata": {
        "id": "TSnrfRvz9X-x"
      },
      "outputs": [],
      "source": [
        "a = \"ABCDEF\""
      ]
    },
    {
      "cell_type": "code",
      "execution_count": null,
      "metadata": {
        "id": "HJoFFZSg9X-x",
        "outputId": "7aa4ce2b-cfb6-452f-a46e-a1b4d05a4115",
        "colab": {
          "base_uri": "https://localhost:8080/",
          "height": 35
        }
      },
      "outputs": [
        {
          "output_type": "execute_result",
          "data": {
            "text/plain": [
              "'A'"
            ],
            "application/vnd.google.colaboratory.intrinsic+json": {
              "type": "string"
            }
          },
          "metadata": {},
          "execution_count": 101
        }
      ],
      "source": [
        "a[0]"
      ]
    },
    {
      "cell_type": "code",
      "execution_count": null,
      "metadata": {
        "id": "DPFLZ7uh9X-y",
        "outputId": "eec8c103-308c-4887-9be2-ee7d79c1a1f3",
        "colab": {
          "base_uri": "https://localhost:8080/",
          "height": 35
        }
      },
      "outputs": [
        {
          "output_type": "execute_result",
          "data": {
            "text/plain": [
              "'B'"
            ],
            "application/vnd.google.colaboratory.intrinsic+json": {
              "type": "string"
            }
          },
          "metadata": {},
          "execution_count": 102
        }
      ],
      "source": [
        "a[1]"
      ]
    },
    {
      "cell_type": "code",
      "execution_count": null,
      "metadata": {
        "id": "dhSAWV2h9X-y",
        "outputId": "54a0bd14-c9ef-4ffd-dcff-cd63ad936433",
        "colab": {
          "base_uri": "https://localhost:8080/",
          "height": 169
        }
      },
      "outputs": [
        {
          "output_type": "error",
          "ename": "IndexError",
          "evalue": "ignored",
          "traceback": [
            "\u001b[0;31m---------------------------------------------------------------------------\u001b[0m",
            "\u001b[0;31mIndexError\u001b[0m                                Traceback (most recent call last)",
            "\u001b[0;32m<ipython-input-103-84c1e027215d>\u001b[0m in \u001b[0;36m<module>\u001b[0;34m\u001b[0m\n\u001b[0;32m----> 1\u001b[0;31m \u001b[0ma\u001b[0m\u001b[0;34m[\u001b[0m\u001b[0;36m6\u001b[0m\u001b[0;34m]\u001b[0m\u001b[0;34m\u001b[0m\u001b[0;34m\u001b[0m\u001b[0m\n\u001b[0m",
            "\u001b[0;31mIndexError\u001b[0m: string index out of range"
          ]
        }
      ],
      "source": [
        "a[6]"
      ]
    },
    {
      "cell_type": "code",
      "execution_count": null,
      "metadata": {
        "id": "UAWBHQoK9X-y",
        "colab": {
          "base_uri": "https://localhost:8080/",
          "height": 35
        },
        "outputId": "8ee945c5-1c29-42fe-c9df-04c389d43a33"
      },
      "outputs": [
        {
          "output_type": "execute_result",
          "data": {
            "text/plain": [
              "'F'"
            ],
            "application/vnd.google.colaboratory.intrinsic+json": {
              "type": "string"
            }
          },
          "metadata": {},
          "execution_count": 104
        }
      ],
      "source": [
        "a[-1]"
      ]
    },
    {
      "cell_type": "code",
      "execution_count": null,
      "metadata": {
        "id": "m6lkd7Hk9X-y",
        "colab": {
          "base_uri": "https://localhost:8080/",
          "height": 35
        },
        "outputId": "b0b18eee-4f2c-44ae-9b58-0d0e8664f339"
      },
      "outputs": [
        {
          "output_type": "execute_result",
          "data": {
            "text/plain": [
              "'E'"
            ],
            "application/vnd.google.colaboratory.intrinsic+json": {
              "type": "string"
            }
          },
          "metadata": {},
          "execution_count": 105
        }
      ],
      "source": [
        "a[-2]"
      ]
    },
    {
      "cell_type": "code",
      "execution_count": null,
      "metadata": {
        "id": "H_h9yJj29X-y",
        "colab": {
          "base_uri": "https://localhost:8080/",
          "height": 35
        },
        "outputId": "604b4420-3415-41ab-bc33-4c68a482da3b"
      },
      "outputs": [
        {
          "output_type": "execute_result",
          "data": {
            "text/plain": [
              "'ABCDEF'"
            ],
            "application/vnd.google.colaboratory.intrinsic+json": {
              "type": "string"
            }
          },
          "metadata": {},
          "execution_count": 106
        }
      ],
      "source": [
        "a[:]"
      ]
    },
    {
      "cell_type": "code",
      "execution_count": null,
      "metadata": {
        "id": "jVQNlU3e9X-z",
        "colab": {
          "base_uri": "https://localhost:8080/",
          "height": 35
        },
        "outputId": "4cf26d61-b41c-4c1c-f977-2331112f1c6b"
      },
      "outputs": [
        {
          "output_type": "execute_result",
          "data": {
            "text/plain": [
              "'ABCDEF'"
            ],
            "application/vnd.google.colaboratory.intrinsic+json": {
              "type": "string"
            }
          },
          "metadata": {},
          "execution_count": 107
        }
      ],
      "source": [
        "a[0:6]"
      ]
    },
    {
      "cell_type": "code",
      "execution_count": null,
      "metadata": {
        "id": "Wfk882Gq9X-z",
        "colab": {
          "base_uri": "https://localhost:8080/",
          "height": 35
        },
        "outputId": "bb458138-c861-4bdd-faa7-dcf887ebc03e"
      },
      "outputs": [
        {
          "output_type": "execute_result",
          "data": {
            "text/plain": [
              "'ABC'"
            ],
            "application/vnd.google.colaboratory.intrinsic+json": {
              "type": "string"
            }
          },
          "metadata": {},
          "execution_count": 108
        }
      ],
      "source": [
        "a[0:3]"
      ]
    },
    {
      "cell_type": "code",
      "execution_count": null,
      "metadata": {
        "id": "dUcy2kyH9X-z",
        "colab": {
          "base_uri": "https://localhost:8080/",
          "height": 35
        },
        "outputId": "facbee99-7e55-4783-9af8-9b7111eca6fb"
      },
      "outputs": [
        {
          "output_type": "execute_result",
          "data": {
            "text/plain": [
              "'CDEF'"
            ],
            "application/vnd.google.colaboratory.intrinsic+json": {
              "type": "string"
            }
          },
          "metadata": {},
          "execution_count": 109
        }
      ],
      "source": [
        "a[2:6]"
      ]
    },
    {
      "cell_type": "markdown",
      "metadata": {
        "id": "LlKKLkgg9X-z"
      },
      "source": [
        "### Concatenação"
      ]
    },
    {
      "cell_type": "code",
      "execution_count": null,
      "metadata": {
        "id": "_i5jLgJ59X-0",
        "outputId": "ea7f28c1-991e-4f63-af1d-ecc8ef092006"
      },
      "outputs": [
        {
          "data": {
            "text/plain": [
              "'ABCC'"
            ]
          },
          "execution_count": 2,
          "metadata": {},
          "output_type": "execute_result"
        }
      ],
      "source": [
        "s = \"ABC\"\n",
        "s + \"C\""
      ]
    },
    {
      "cell_type": "code",
      "execution_count": null,
      "metadata": {
        "id": "jCgprbTv9X-0",
        "outputId": "823e0675-19ea-4d8f-f97b-cc947ee6f7b6"
      },
      "outputs": [
        {
          "data": {
            "text/plain": [
              "'ABCDDDD'"
            ]
          },
          "execution_count": 3,
          "metadata": {},
          "output_type": "execute_result"
        }
      ],
      "source": [
        "s + \"D\" * 4"
      ]
    },
    {
      "cell_type": "code",
      "execution_count": null,
      "metadata": {
        "id": "LO294iWh9X-0",
        "outputId": "a833df8d-abd1-4909-d6bc-bd9061fda235"
      },
      "outputs": [
        {
          "data": {
            "text/plain": [
              "'X----------X'"
            ]
          },
          "execution_count": 4,
          "metadata": {},
          "output_type": "execute_result"
        }
      ],
      "source": [
        "\"X\"+ \"-\"*10 + \"X\""
      ]
    },
    {
      "cell_type": "markdown",
      "metadata": {
        "id": "3zV2Fddp9X-0"
      },
      "source": [
        "Esta forma de concatenação só pode ser utilizado por strings"
      ]
    },
    {
      "cell_type": "markdown",
      "metadata": {
        "id": "W-lsvhu29X-0"
      },
      "source": [
        "### Composição"
      ]
    },
    {
      "cell_type": "code",
      "execution_count": null,
      "metadata": {
        "id": "GbjHRp0F9X-1",
        "outputId": "089ab7e5-9a99-472d-a6e4-5457982c19ea"
      },
      "outputs": [
        {
          "data": {
            "text/plain": [
              "'João tem 39 anos'"
            ]
          },
          "execution_count": 5,
          "metadata": {},
          "output_type": "execute_result"
        }
      ],
      "source": [
        "idade = 39\n",
        "\"João tem %d anos\" % idade #estamos inserindo %d para um valor inteiro"
      ]
    },
    {
      "cell_type": "code",
      "execution_count": null,
      "metadata": {
        "id": "FWdJolsz9X-1",
        "outputId": "b55ead9f-f457-4fb4-e106-74729ca15802"
      },
      "outputs": [
        {
          "data": {
            "text/plain": [
              "'João tem 39.000000 anos'"
            ]
          },
          "execution_count": 6,
          "metadata": {},
          "output_type": "execute_result"
        }
      ],
      "source": [
        "idade = 39\n",
        "\"João tem %f anos\" % idade # estamos inserindo %f para um valor flutuante"
      ]
    },
    {
      "cell_type": "code",
      "execution_count": null,
      "metadata": {
        "id": "fHjXKLyL9X-1",
        "outputId": "ccb59281-813c-42a2-9545-12a5c283bd82",
        "colab": {
          "base_uri": "https://localhost:8080/",
          "height": 35
        }
      },
      "outputs": [
        {
          "output_type": "execute_result",
          "data": {
            "text/plain": [
              "'João tem 39.00 anos'"
            ],
            "application/vnd.google.colaboratory.intrinsic+json": {
              "type": "string"
            }
          },
          "metadata": {},
          "execution_count": 4
        }
      ],
      "source": [
        "idade = 39\n",
        "\"João tem %.2f anos\" % idade # estamos inserindo %f para um valor flutuante"
      ]
    },
    {
      "cell_type": "code",
      "execution_count": null,
      "metadata": {
        "id": "MxSlGFG39X-1",
        "outputId": "2ae1c082-33fe-42e8-e840-5d5d21b9667b"
      },
      "outputs": [
        {
          "data": {
            "text/plain": [
              "'João tem 39 anos'"
            ]
          },
          "execution_count": 8,
          "metadata": {},
          "output_type": "execute_result"
        }
      ],
      "source": [
        "nome = \"João\"\n",
        "idade = 39\n",
        "\"%s tem %d anos\" % (nome,idade) # estamos inserindo %s para um string"
      ]
    },
    {
      "cell_type": "code",
      "execution_count": null,
      "metadata": {
        "id": "WahxppRU9X-1",
        "outputId": "665cef0e-6253-4c75-f676-2123f3926e3a"
      },
      "outputs": [
        {
          "data": {
            "text/plain": [
              "'João tem 39 anos e R$ 60.59 no bolso'"
            ]
          },
          "execution_count": 9,
          "metadata": {},
          "output_type": "execute_result"
        }
      ],
      "source": [
        "nome = \"João\"\n",
        "idade = 39\n",
        "grana = 60.59\n",
        "\"%s tem %d anos e R$ %2.2f no bolso\" %(nome,idade, grana)"
      ]
    },
    {
      "cell_type": "markdown",
      "metadata": {
        "id": "Pq0hE_Mv9X-2"
      },
      "source": [
        "Forma mais moderna para compor a frase é utilizando format"
      ]
    },
    {
      "cell_type": "code",
      "execution_count": null,
      "metadata": {
        "id": "iUH2chGM9X-2",
        "outputId": "31d7ec2c-c2ab-4b74-f2b3-4da384a9dee5"
      },
      "outputs": [
        {
          "data": {
            "text/plain": [
              "'João tem 39 anos e R$ 60.59 no bolso'"
            ]
          },
          "execution_count": 10,
          "metadata": {},
          "output_type": "execute_result"
        }
      ],
      "source": [
        "nome = \"João\"\n",
        "idade = 39\n",
        "grana = 60.59\n",
        "\"{} tem {} anos e R$ {} no bolso\" .format(nome , idade , grana)"
      ]
    },
    {
      "cell_type": "code",
      "execution_count": null,
      "metadata": {
        "id": "LM9Z4X5a9X-2",
        "outputId": "f8df705f-d77b-43d6-b442-8371dc730653"
      },
      "outputs": [
        {
          "data": {
            "text/plain": [
              "'João tem 39 anos e R$ 60.59 no bolso'"
            ]
          },
          "execution_count": 11,
          "metadata": {},
          "output_type": "execute_result"
        }
      ],
      "source": [
        "nome = \"João\"\n",
        "idade = 39\n",
        "grana = 60.59\n",
        "\"{} tem {} anos e R$ {} no bolso\" .format(nome , idade , grana)"
      ]
    },
    {
      "cell_type": "markdown",
      "source": [
        "### Importar bibliotecas"
      ],
      "metadata": {
        "id": "FVgsesKxU9Do"
      }
    },
    {
      "metadata": {
        "id": "bCTYdDJ6wz1D",
        "colab": {
          "base_uri": "https://localhost:8080/"
        },
        "outputId": "2c212099-f9f1-4b16-d7c4-60e62ab6fc25"
      },
      "cell_type": "code",
      "source": [
        "print('Site onde temos as demais funções https://docs.python.org/3/library/functions.html')\n",
        "print('O pacote que mais utilizamos é o NumPy: http://www.numpy.org/ representado por np')"
      ],
      "execution_count": null,
      "outputs": [
        {
          "output_type": "stream",
          "name": "stdout",
          "text": [
            "Site onde temos as demais funções https://docs.python.org/3/library/functions.html\n",
            "O pacote que mais utilizamos é o NumPy: http://www.numpy.org/ representado por np\n"
          ]
        }
      ]
    },
    {
      "metadata": {
        "id": "HWXG7VRnxxEJ"
      },
      "cell_type": "code",
      "source": [
        "import numpy as np"
      ],
      "execution_count": null,
      "outputs": []
    },
    {
      "metadata": {
        "id": "v9PKcn_T3GVA"
      },
      "cell_type": "markdown",
      "source": [
        "###Como criar vetores "
      ]
    },
    {
      "metadata": {
        "id": "bhAfpW0CyRg4"
      },
      "cell_type": "code",
      "source": [
        "a=np.array([1,2,3,4])\n",
        "print(a)\n",
        "print(type(a))"
      ],
      "execution_count": null,
      "outputs": []
    },
    {
      "metadata": {
        "id": "MK6bVwEHyY1O"
      },
      "cell_type": "code",
      "source": [
        "b=np.array([(1.5 ,2,3),(4,5,6)])\n",
        "print(b)"
      ],
      "execution_count": null,
      "outputs": []
    },
    {
      "metadata": {
        "id": "Cvji--vzy8bp",
        "colab": {
          "base_uri": "https://localhost:8080/"
        },
        "outputId": "c3295cf5-f0ab-40fb-ffd0-70c6c6e72d4f"
      },
      "cell_type": "code",
      "source": [
        "c=np.zeros((3,4)) #coloca o número de (linhas,colunas)\n",
        "print(c)"
      ],
      "execution_count": null,
      "outputs": [
        {
          "output_type": "stream",
          "name": "stdout",
          "text": [
            "[[0. 0. 0. 0.]\n",
            " [0. 0. 0. 0.]\n",
            " [0. 0. 0. 0.]]\n"
          ]
        }
      ]
    },
    {
      "metadata": {
        "id": "F05gE-5yzbjq"
      },
      "cell_type": "code",
      "source": [
        "d=np.eye(6) #O np.eye cria uma matriz identidade\n",
        "print(d)"
      ],
      "execution_count": null,
      "outputs": []
    },
    {
      "metadata": {
        "id": "_eFs1VFr0M0w",
        "colab": {
          "base_uri": "https://localhost:8080/"
        },
        "outputId": "fe42962a-7804-425e-9cb0-432c8d28148c"
      },
      "cell_type": "code",
      "source": [
        "e=np.random.random((2,2)) #Valores aleatórios\n",
        "print(e)"
      ],
      "execution_count": null,
      "outputs": [
        {
          "output_type": "stream",
          "name": "stdout",
          "text": [
            "[[0.83345543 0.23832736]\n",
            " [0.07643948 0.61718475]]\n"
          ]
        }
      ]
    },
    {
      "metadata": {
        "id": "toW33ARV0kDq",
        "colab": {
          "base_uri": "https://localhost:8080/"
        },
        "outputId": "fbe258b9-70a1-4a5b-a0b5-4691d64e74d8"
      },
      "cell_type": "code",
      "source": [
        "A=np.array([(1,2,3,4),(5,6,7,8),(9,10,11,12)])\n",
        "print(A)"
      ],
      "execution_count": null,
      "outputs": [
        {
          "output_type": "stream",
          "name": "stdout",
          "text": [
            "[[ 1  2  3  4]\n",
            " [ 5  6  7  8]\n",
            " [ 9 10 11 12]]\n"
          ]
        }
      ]
    },
    {
      "metadata": {
        "id": "vrp-R_dL1Zyo",
        "colab": {
          "base_uri": "https://localhost:8080/"
        },
        "outputId": "21d37f61-5b57-4e82-e30f-33e881d2a799"
      },
      "cell_type": "code",
      "source": [
        "B=A[1,1] #Como acessar os dados do vetor, primeiro número da linha, depois número da coluna (ambos começam do ZERO)\n",
        "print (B)"
      ],
      "execution_count": null,
      "outputs": [
        {
          "output_type": "stream",
          "name": "stdout",
          "text": [
            "6\n"
          ]
        }
      ]
    },
    {
      "metadata": {
        "id": "hojJ2_I72DNj",
        "colab": {
          "base_uri": "https://localhost:8080/"
        },
        "outputId": "942487fa-083b-47f6-e769-823270867f0c"
      },
      "cell_type": "code",
      "source": [
        "C=A[:,2] #Todos os valores da terceira coluna\n",
        "print(C)"
      ],
      "execution_count": null,
      "outputs": [
        {
          "output_type": "stream",
          "name": "stdout",
          "text": [
            "[1 5 9]\n"
          ]
        }
      ]
    },
    {
      "metadata": {
        "id": "X9lLcmRz2nNr",
        "colab": {
          "base_uri": "https://localhost:8080/"
        },
        "outputId": "f046e9d0-81e2-4025-fa08-5952ba5e30ce"
      },
      "cell_type": "code",
      "source": [
        "D=A[2,:] #Todos os valores da terceira linha\n",
        "print(D)"
      ],
      "execution_count": null,
      "outputs": [
        {
          "output_type": "stream",
          "name": "stdout",
          "text": [
            "[ 9 10 11 12]\n"
          ]
        }
      ]
    },
    {
      "metadata": {
        "id": "BSifMcmP3Jhz"
      },
      "cell_type": "code",
      "source": [
        "V=np.arange(10,30,5) #Coloca onde COMEÇA onde TERMINA e o STEP, não incluindo o valor de TERMINA https://docs.scipy.org/doc/numpy/reference/generated/numpy.arange.html\n",
        "print(V)\n",
        "Z=np.arange(5) #Se coloca apenas um número, ele considera como sendo onde TERMINA com o PASSO padrão\n",
        "print(Z)\n",
        "O=np.arange(-1,-5,-1) #Negativo\n",
        "print(O)\n",
        "W=np.arange(0,2,0.3)\n",
        "print(W)"
      ],
      "execution_count": null,
      "outputs": []
    },
    {
      "metadata": {
        "id": "TVeayLt63R7K"
      },
      "cell_type": "code",
      "source": [
        "AB=np.linspace(0,2,9) #Coloca onde COMEÇA e onde TERMINA, no lugar do STEP você coloca o passo que ele irá dar para retornar a resposta\n",
        "print(AB)"
      ],
      "execution_count": null,
      "outputs": []
    },
    {
      "metadata": {
        "id": "cdGIqC7Y5VHV"
      },
      "cell_type": "code",
      "source": [
        "x=np.arange(0,2*(np.pi),0.25)\n",
        "print(x)\n",
        "y=np.sin(x)\n",
        "print(y)"
      ],
      "execution_count": null,
      "outputs": []
    },
    {
      "metadata": {
        "id": "YC30wXwQ6w6W"
      },
      "cell_type": "code",
      "source": [
        "A=np.array([[1,1],[0,1]])\n",
        "B=np.array([[2,0],[3,4]])\n",
        "print(A)\n",
        "print(B)"
      ],
      "execution_count": null,
      "outputs": []
    },
    {
      "metadata": {
        "id": "R6trgYeg8YVB"
      },
      "cell_type": "code",
      "source": [
        "A*B #Produto escalar"
      ],
      "execution_count": null,
      "outputs": []
    },
    {
      "metadata": {
        "id": "e7eOsDHTGbdW"
      },
      "cell_type": "markdown",
      "source": [
        "###Raízes de uma equação de segundo grau"
      ]
    },
    {
      "cell_type": "markdown",
      "source": [
        "$a^{2}+bx+c$"
      ],
      "metadata": {
        "id": "Zj6bxSF63pd4"
      }
    },
    {
      "metadata": {
        "id": "uTVOgXyVGeR4",
        "colab": {
          "base_uri": "https://localhost:8080/"
        },
        "outputId": "7fe75c1c-dff6-41a0-9654-56e1b17028fb"
      },
      "cell_type": "code",
      "source": [
        "import math as m #https://docs.python.org/3.2/library/math.html\n",
        "a=1\n",
        "b=6\n",
        "c=2\n",
        "d=(b**2-4*a*c)\n",
        "r1=(-b-m.sqrt(d))/2*a\n",
        "r2=(-b+m.sqrt(d))/2*a\n",
        "print(\"raiz 1 = \", r1)\n",
        "print(\"raiz 2 = \", r2)"
      ],
      "execution_count": null,
      "outputs": [
        {
          "output_type": "stream",
          "name": "stdout",
          "text": [
            "raiz 1 =  -5.645751311064591\n",
            "raiz 2 =  -0.3542486889354093\n"
          ]
        }
      ]
    },
    {
      "metadata": {
        "id": "hinQfTKZJc3A",
        "colab": {
          "base_uri": "https://localhost:8080/"
        },
        "outputId": "2264e1a3-a8df-4f03-d9a4-6076bdd52799"
      },
      "cell_type": "code",
      "source": [
        "import math\n",
        "a=float(input(\"Digite o valor de A: \")) \n",
        "b=float(input(\"Digite o valor de B: \"))\n",
        "c=float(input(\"Digite o valor de C: \"))\n",
        "\n",
        "delta=(b**2)-(4*a*c)\n",
        "\n",
        "if delta<0:\n",
        "      print(\"A equação não possui raízes reais.\")\n",
        "elif delta==0:\n",
        "      print(\"A equação possui apenas uma raíz real:\")\n",
        "      r=(-b-m.sqrt(d))/(2*a)\n",
        "      print(\"Raiz = \", r)\n",
        "elif  delta>0:\n",
        "      print(\"A equação possui duas raízes reais:\")\n",
        "      r1=(-b-m.sqrt(d))/(2*a)\n",
        "      r2=(-b+m.sqrt(d))/(2*a)\n",
        "      print(\"Raiz 1 = \", r1)\n",
        "      print(\"Raiz 2 = \", r2)"
      ],
      "execution_count": null,
      "outputs": [
        {
          "output_type": "stream",
          "name": "stdout",
          "text": [
            "Digite o valor de A: 1\n",
            "Digite o valor de B: 6\n",
            "Digite o valor de C: 2\n",
            "A equação possui duas raízes reais:\n",
            "Raiz 1 =  -5.645751311064591\n",
            "Raiz 2 =  -0.3542486889354093\n"
          ]
        }
      ]
    },
    {
      "metadata": {
        "id": "xFHR_VlvJZLL"
      },
      "cell_type": "markdown",
      "source": [
        "*Outro* *jeito*:"
      ]
    },
    {
      "metadata": {
        "id": "y8LLk6rSKrpR",
        "colab": {
          "base_uri": "https://localhost:8080/"
        },
        "outputId": "d88b56a7-8a68-4786-be03-bc5bbf5b4f24"
      },
      "cell_type": "code",
      "source": [
        "a=float(input(\"Digite o valor de A: \"))\n",
        "b=float(input(\"Digite o valor de B: \"))\n",
        "c=float(input(\"Digite o valor de C: \"))\n",
        "coeff=[a,b,c]\n",
        "np.roots(coeff)"
      ],
      "execution_count": null,
      "outputs": [
        {
          "name": "stdout",
          "output_type": "stream",
          "text": [
            "Digite o valor de A: 1\n",
            "Digite o valor de B: 6\n",
            "Digite o valor de C: 2\n"
          ]
        },
        {
          "output_type": "execute_result",
          "data": {
            "text/plain": [
              "array([-5.64575131, -0.35424869])"
            ]
          },
          "metadata": {},
          "execution_count": 142
        }
      ]
    },
    {
      "metadata": {
        "id": "248jCjbm992D"
      },
      "cell_type": "code",
      "source": [
        "A = np.array([[1,1],[-3,1]])\n",
        "B = np.array([6,2])\n",
        "print(np.linalg.solve(A,B))\n"
      ],
      "execution_count": null,
      "outputs": []
    },
    {
      "cell_type": "markdown",
      "source": [
        "##Plotar gráficos"
      ],
      "metadata": {
        "id": "E0UDLiwZ17Te"
      }
    },
    {
      "cell_type": "code",
      "execution_count": null,
      "metadata": {
        "id": "aKb5YycL9iOO",
        "outputId": "e2e39367-ca47-4447-e402-56907b237cf0",
        "colab": {
          "base_uri": "https://localhost:8080/",
          "height": 446
        }
      },
      "outputs": [
        {
          "output_type": "execute_result",
          "data": {
            "text/plain": [
              "[<matplotlib.lines.Line2D at 0x7f848fdf9dd0>]"
            ]
          },
          "metadata": {},
          "execution_count": 146
        },
        {
          "output_type": "display_data",
          "data": {
            "text/plain": [
              "<Figure size 792x504 with 1 Axes>"
            ],
            "image/png": "[encoded data removed]"
          },
          "metadata": {
            "needs_background": "light"
          }
        }
      ],
      "source": [
        "import matplotlib.pyplot as plt\n",
        "import numpy as np\n",
        "\n",
        "x = np.arange(-80,80,0.2)\n",
        "y = a*x**2+b*x+c\n",
        "plt.plot(x,y)"
      ]
    },
    {
      "metadata": {
        "id": "XnuvMxpLO2dV"
      },
      "cell_type": "markdown",
      "source": [
        "##**Linearização**"
      ]
    },
    {
      "metadata": {
        "id": "nRJKUXETO61F",
        "colab": {
          "base_uri": "https://localhost:8080/"
        },
        "outputId": "111edf6a-2383-424c-8dd7-2c04e01aa6c2"
      },
      "cell_type": "code",
      "source": [
        "import numpy as np\n",
        "#entrada de dados experimentais, valores de x e y\n",
        "x=np.array([0,1,2,3,4,5,6])\n",
        "y=np.array([0,2.2,4.1,6.7,8,9.8,13])\n",
        "print(x)\n",
        "print(y)"
      ],
      "execution_count": null,
      "outputs": [
        {
          "output_type": "stream",
          "name": "stdout",
          "text": [
            "[0 1 2 3 4 5 6]\n",
            "[ 0.   2.2  4.1  6.7  8.   9.8 13. ]\n"
          ]
        }
      ]
    },
    {
      "metadata": {
        "id": "iJu0FR3APdpK",
        "colab": {
          "base_uri": "https://localhost:8080/"
        },
        "outputId": "8e00af13-8601-4082-dd49-91882d2ef0cf"
      },
      "cell_type": "code",
      "source": [
        "#importando o pacote numpy e utilizando a função polyfit para ajusrar o modelo\n",
        "\n",
        "mod_linear=np.polyfit(x,y,1)\n",
        "print(mod_linear) #Vai sair COEFICIENTE ANGULAR e depois o LINEAR"
      ],
      "execution_count": null,
      "outputs": [
        {
          "output_type": "stream",
          "name": "stdout",
          "text": [
            "[2.075      0.03214286]\n"
          ]
        }
      ]
    },
    {
      "metadata": {
        "id": "2atfjzHpPuZ0",
        "colab": {
          "base_uri": "https://localhost:8080/"
        },
        "outputId": "2bad6888-d2f2-488d-f1c9-20998247788a"
      },
      "cell_type": "code",
      "source": [
        "#Calculando os valores do modelo\n",
        "A=mod_linear[0]\n",
        "B=mod_linear[1]\n",
        "novo_y=A*x+B\n",
        "print(novo_y)\n",
        "\n",
        "#calculando os vallores do modelo, chamando a função polyval\n",
        "#novo_y=np.poluval(mod_linear,x)"
      ],
      "execution_count": null,
      "outputs": [
        {
          "output_type": "stream",
          "name": "stdout",
          "text": [
            "[ 0.03214286  2.10714286  4.18214286  6.25714286  8.33214286 10.40714286\n",
            " 12.48214286]\n"
          ]
        }
      ]
    },
    {
      "cell_type": "code",
      "source": [
        "#importando o pacote matplotlib para construção do gráfico\n",
        "import matplotlib.pyplot as plt\n",
        "plt.plot(x,y, \"o\", label = \"pontos experimentais\")\n",
        "plt.plot(x,novo_y,\"-r\", label = \"modelo\")\n",
        "plt.xlabel(\"x\")\n",
        "plt.ylabel(\"y\")\n",
        "plt.title(\"Ajuste de uma reta\")\n",
        "plt.legend()\n",
        "plt.show()"
      ],
      "metadata": {
        "id": "zV0PieOOim6Q",
        "outputId": "c602ee57-126f-400f-dbd4-cdb3ad39d44f",
        "colab": {
          "base_uri": "https://localhost:8080/",
          "height": 295
        }
      },
      "execution_count": null,
      "outputs": [
        {
          "output_type": "display_data",
          "data": {
            "text/plain": [
              "<Figure size 432x288 with 1 Axes>"
            ],
            "image/png": "[encoded data removed]"
          },
          "metadata": {
            "needs_background": "light"
          }
        }
      ]
    },
    {
      "metadata": {
        "id": "45WTH57WQTEj",
        "colab": {
          "base_uri": "https://localhost:8080/"
        },
        "outputId": "18291b34-f46a-4b63-99a5-4537952b32f3"
      },
      "cell_type": "code",
      "source": [
        "plt = np.polyfit(x,y,1) #O r^2 da reta plotada\n",
        "yresid = y - novo_y\n",
        "SQresid = sum(pow(yresid,2))\n",
        "SQtotal = len(y)*np.var(y)\n",
        "R2 = 1 - SQresid/SQtotal\n",
        "print(\"O valor de r^2: \", R2)"
      ],
      "execution_count": null,
      "outputs": [
        {
          "output_type": "stream",
          "name": "stdout",
          "text": [
            "O valor de r^2:  0.9921028191201712\n"
          ]
        }
      ]
    },
    {
      "cell_type": "markdown",
      "source": [
        "##Arrhenius"
      ],
      "metadata": {
        "id": "sRziau-piaQS"
      }
    },
    {
      "cell_type": "code",
      "metadata": {
        "id": "CVJZxV-aT09q"
      },
      "source": [
        "# importando os pacotes do python\n",
        "import numpy as np\n",
        "import pandas as pd\n",
        "import matplotlib.pyplot as plt"
      ],
      "execution_count": null,
      "outputs": []
    },
    {
      "cell_type": "code",
      "metadata": {
        "id": "VF1HmkPR1eYM"
      },
      "source": [
        "# Dados experimentais de T e k\n",
        "T = np.array([280, 285, 289, 297, 306, 312])\n",
        "k = np.array([0.000145, 0.000268, 0.000432, 0.001780, 0.002849, 0.005279])"
      ],
      "execution_count": null,
      "outputs": []
    },
    {
      "cell_type": "code",
      "source": [
        "#vetor do eixo x\n",
        "x = 1/T\n",
        "#vetor do eixo y\n",
        "y = np.log(k)"
      ],
      "metadata": {
        "id": "BB8sTSdWGcNa"
      },
      "execution_count": null,
      "outputs": []
    },
    {
      "cell_type": "code",
      "metadata": {
        "id": "gWLUusahU1FZ",
        "colab": {
          "base_uri": "https://localhost:8080/"
        },
        "outputId": "14c22a9f-0d89-452c-9270-09847fae4860"
      },
      "source": [
        "#Ajustando a correlação linear\n",
        "linear_p = np.polyfit(x, y, 1)\n",
        "print(linear_p)\n",
        "\n",
        "Ea = linear_p[0] *(-8.314) # Estimativa da energia de ativação em J /mol\n",
        "A = np.exp(linear_p[1]) # Fator de frequencia\n",
        "print(Ea)\n",
        "print(A)"
      ],
      "execution_count": null,
      "outputs": [
        {
          "output_type": "stream",
          "name": "stdout",
          "text": [
            "[-9961.54590968    26.79584804]\n",
            "82820.29269304864\n",
            "433799393105.4561\n"
          ]
        }
      ]
    },
    {
      "cell_type": "code",
      "metadata": {
        "colab": {
          "base_uri": "https://localhost:8080/",
          "height": 295
        },
        "id": "haIULkvYU6pv",
        "outputId": "bf100426-787f-4b8e-f4a1-6efd6851733b"
      },
      "source": [
        "#impressão dos dados experimentais e do modelo linear\n",
        "plt.plot(x, y, \"o\", label = \"pontos experimentais\")\n",
        "plt.plot(x, np.polyval(linear_p, x), \"-r\", label = \"modelo\")\n",
        "plt.xlabel(\"1 / Temperatura\")\n",
        "plt.ylabel(\"Log de k\")\n",
        "plt.rcParams['figure.figsize'] = (11,7)\n",
        "plt.title(\"Ajuste de uma reta\")\n",
        "plt.legend()\n",
        "plt.show()"
      ],
      "execution_count": null,
      "outputs": [
        {
          "output_type": "display_data",
          "data": {
            "text/plain": [
              "<Figure size 432x288 with 1 Axes>"
            ],
            "image/png": "[encoded data removed]"
          },
          "metadata": {
            "needs_background": "light"
          }
        }
      ]
    },
    {
      "cell_type": "code",
      "metadata": {
        "id": "I1eIasOTVvNK",
        "colab": {
          "base_uri": "https://localhost:8080/"
        },
        "outputId": "86a60e5f-ab15-45a6-9613-fc911d92fa79"
      },
      "source": [
        "#Cálculo do R2 - Coeficiente de determinação\n",
        "yresid = y - np.polyval(linear_p, x) # resíduo = valor real - valor ajustado (valor predito)\n",
        "SQresid = sum(pow(yresid,2)) # soma dos quadrados dos resíduos \n",
        "SQtotal = len(y) * np.var(y) # número de elementos do vetor y vezes a variância de y\n",
        "r2 = 1 - SQresid/SQtotal # coeficiente de determinação\n",
        "print(r2)\n",
        "\n",
        "from sklearn.metrics import r2_score\n",
        "r_2 = r2_score(y, np.polyval(linear_p, x))\n",
        "print(r_2)"
      ],
      "execution_count": null,
      "outputs": [
        {
          "output_type": "stream",
          "name": "stdout",
          "text": [
            "0.9797779385853767\n",
            "0.9797779385853767\n"
          ]
        }
      ]
    },
    {
      "cell_type": "code",
      "metadata": {
        "colab": {
          "base_uri": "https://localhost:8080/"
        },
        "id": "_XrZ5mVbV6rT",
        "outputId": "9bb8f6d4-46bb-4e06-fd65-06141e4072bb"
      },
      "source": [
        "print(50*\"_\")\n",
        "print('Ajuste Linear')\n",
        "#dados do modelo ajustado\n",
        "dados_v = np.transpose(np.exp(np.polyval(linear_p, x)))\n",
        "dados_df = pd.DataFrame({\"Temperatura\":T, \"velocidade_mod\":dados_v, \"velocidade_exp\":k})\n",
        "print(dados_df)\n",
        "\n",
        "print(f'A energia de ativação é: {Ea:9.7} Joules/mol')\n",
        "print(f'O fator de frequencia é: {A:5.1} L/mol.s')\n",
        "print(f'O Coeficiente de ajuste é: {r2:5.5}')\n",
        "print(50*\"_\")"
      ],
      "execution_count": null,
      "outputs": [
        {
          "output_type": "stream",
          "name": "stdout",
          "text": [
            "__________________________________________________\n",
            "Ajuste Linear\n",
            "   Temperatura  velocidade_mod  velocidade_exp\n",
            "0          280        0.000154        0.000145\n",
            "1          285        0.000287        0.000268\n",
            "2          289        0.000465        0.000432\n",
            "3          297        0.001177        0.001780\n",
            "4          306        0.003157        0.002849\n",
            "5          312        0.005904        0.005279\n",
            "A energia de ativação é:  82820.29 Joules/mol\n",
            "O fator de frequencia é: 4e+11 L/mol.s\n",
            "O Coeficiente de ajuste é: 0.97978\n",
            "__________________________________________________\n"
          ]
        }
      ]
    },
    {
      "metadata": {
        "id": "9Cb3ZKjF2jZK"
      },
      "cell_type": "markdown",
      "source": [
        "##Equação de resolução - primeira ordem"
      ]
    },
    {
      "cell_type": "code",
      "source": [
        "import numpy as np\n",
        "from scipy.integrate import odeint\n",
        "import matplotlib.pyplot as plt "
      ],
      "metadata": {
        "id": "kyZ59-ggF1O8"
      },
      "execution_count": null,
      "outputs": []
    },
    {
      "cell_type": "code",
      "source": [
        "#Função para retornar dy/dt\n",
        "def model1(y,t):\n",
        "  k = 0.2\n",
        "  dydt=-k*y\n",
        "  return dydt"
      ],
      "metadata": {
        "id": "rtyCRpRBF2n0"
      },
      "execution_count": null,
      "outputs": []
    },
    {
      "cell_type": "code",
      "source": [
        "#Função para retornar dy/dt\n",
        "def model2(a,t):\n",
        "  k2 = 0.1\n",
        "  dadt=-k2*a\n",
        "  return dadt"
      ],
      "metadata": {
        "id": "5TkdLQJoF316"
      },
      "execution_count": null,
      "outputs": []
    },
    {
      "cell_type": "code",
      "source": [
        "#Função para retornar dy/dt\n",
        "def model3(b,t):\n",
        "  k3 = 0.5\n",
        "  dbdt=-k3*b\n",
        "  return dbdt"
      ],
      "metadata": {
        "id": "qPohOyUiF43z"
      },
      "execution_count": null,
      "outputs": []
    },
    {
      "cell_type": "code",
      "source": [
        "#Condição inicial\n",
        "y0=5\n",
        "a0=5\n",
        "b0=5\n",
        "\n",
        "#Pontos de tempo\n",
        "t=np.linspace(0,20,50)"
      ],
      "metadata": {
        "id": "HZBwbd6OF6Li"
      },
      "execution_count": null,
      "outputs": []
    },
    {
      "cell_type": "code",
      "source": [
        "#Solve ODE\n",
        "y=odeint(model1,y0,t)\n",
        "a=odeint(model2,a0,t)\n",
        "b=odeint(model3,b0,t)"
      ],
      "metadata": {
        "id": "wuA4auT9F9Uz"
      },
      "execution_count": null,
      "outputs": []
    },
    {
      "metadata": {
        "id": "QCN0wwy-0I5Z",
        "colab": {
          "base_uri": "https://localhost:8080/",
          "height": 279
        },
        "outputId": "ae405c02-f96c-4e1c-a158-dc338049150f"
      },
      "cell_type": "code",
      "source": [
        "#Plotar resultados\n",
        "plt.plot(t,b,'g:',linewidth=2,label='k=0.5')  # Variável x ; Variável y ; \n",
        "plt.plot(t,y, 'r-',linewidth=2,label='k=0.2')\n",
        "plt.plot(t,a,'b--',linewidth=2,label='k=0.1')\n",
        "plt.xlabel('Time')\n",
        "plt.ylabel('y(t)')\n",
        "plt.legend()\n",
        "plt.show()"
      ],
      "execution_count": null,
      "outputs": [
        {
          "output_type": "display_data",
          "data": {
            "text/plain": [
              "<Figure size 432x288 with 1 Axes>"
            ],
            "image/png": "[encoded data removed]"
          },
          "metadata": {
            "needs_background": "light"
          }
        }
      ]
    },
    {
      "cell_type": "code",
      "source": [
        "from scipy.integrate import odeint\n",
        "from numpy import arange\n",
        "import matplotlib.pyplot as plt"
      ],
      "metadata": {
        "id": "qADNYIt0GBWE"
      },
      "execution_count": null,
      "outputs": []
    },
    {
      "cell_type": "code",
      "source": [
        "def BoatFishSystem(state,t): #Esse state servirá como matriz, pois as variáveis peixe e barco são dependentes, mas caso não seja colocado assim, o sistema não irá reconhecer isso;\n",
        "  fish,boat=state\n",
        "  d_fish=fish*(10-boat-fish)\n",
        "  d_boat=-boat*(1.25-1.5*fish)\n",
        "  return [d_fish,d_boat] #retorna os valores de cada função (d_variável) e coloca na matriz chamada state;"
      ],
      "metadata": {
        "id": "iINAZj32GCdL"
      },
      "execution_count": null,
      "outputs": []
    },
    {
      "cell_type": "code",
      "source": [
        "t=arange(0,20,0.01) #Variação do tempo;\n",
        "init_state=[1,1] #Estado inicial da matriz [peixe,barco];\n",
        "state = odeint(BoatFishSystem, init_state, t) #A matriz será a integração do connjunto de fórmulas a partir do estado inicial com o tempo variando;"
      ],
      "metadata": {
        "id": "vPPSGEtpGDq6"
      },
      "execution_count": null,
      "outputs": []
    },
    {
      "cell_type": "code",
      "source": [
        "#Plotar resultados\n",
        "plt.plot(t,state[:,0])\n",
        "plt.xlabel('Time')\n",
        "plt.ylabel('Peixes(t)')\n",
        "plt.show()"
      ],
      "metadata": {
        "colab": {
          "base_uri": "https://localhost:8080/",
          "height": 279
        },
        "id": "0TbbD3yKGErT",
        "outputId": "c884e2a3-a0f1-4679-ceda-9905e6a461ca"
      },
      "execution_count": null,
      "outputs": [
        {
          "output_type": "display_data",
          "data": {
            "text/plain": [
              "<Figure size 432x288 with 1 Axes>"
            ],
            "image/png": "[encoded data removed]"
          },
          "metadata": {
            "needs_background": "light"
          }
        }
      ]
    },
    {
      "cell_type": "code",
      "source": [
        "#Plotar resultados\n",
        "plt.plot(t,state[:,1])\n",
        "plt.xlabel('Time')\n",
        "plt.ylabel('Barco(t)')\n",
        "plt.show()"
      ],
      "metadata": {
        "colab": {
          "base_uri": "https://localhost:8080/",
          "height": 279
        },
        "id": "wc-M25cFGFjc",
        "outputId": "ad35603f-dccc-40b6-9a7e-9e14ebfc80e4"
      },
      "execution_count": null,
      "outputs": [
        {
          "output_type": "display_data",
          "data": {
            "text/plain": [
              "<Figure size 432x288 with 1 Axes>"
            ],
            "image/png": "[encoded data removed]"
          },
          "metadata": {
            "needs_background": "light"
          }
        }
      ]
    },
    {
      "metadata": {
        "id": "32XpRpgA2rB6",
        "colab": {
          "base_uri": "https://localhost:8080/",
          "height": 279
        },
        "outputId": "066fdf73-fa89-4464-9e25-21fadaa21779"
      },
      "cell_type": "code",
      "source": [
        "plt.plot(state[:,0],state[:,1],'b-',alpha=0.2)\n",
        "plt.xlabel('Numero de peixes')\n",
        "plt.ylabel('Numero de barcos')\n",
        "plt.show()"
      ],
      "execution_count": null,
      "outputs": [
        {
          "output_type": "display_data",
          "data": {
            "text/plain": [
              "<Figure size 432x288 with 1 Axes>"
            ],
            "image/png": "[encoded data removed]"
          },
          "metadata": {
            "needs_background": "light"
          }
        }
      ]
    },
    {
      "cell_type": "markdown",
      "source": [
        "## Monod - Simulação e Modelagem"
      ],
      "metadata": {
        "id": "CENTSEhjdJvL"
      }
    },
    {
      "cell_type": "markdown",
      "source": [
        "Utilizando a função *odeint()* é possível a integração numérica da variação da concentração celular e de substrado a partir dos valores estipulados das variáveis do modelo:\n",
        " **μ_max; y_xs; ks; kd** "
      ],
      "metadata": {
        "id": "_zdXkfPKrWZg"
      }
    },
    {
      "metadata": {
        "id": "x9lLVL_2-xZy",
        "colab": {
          "base_uri": "https://localhost:8080/",
          "height": 279
        },
        "outputId": "78a2f826-5e25-46a7-8349-94a15a69b6ce"
      },
      "cell_type": "code",
      "source": [
        "from scipy.integrate import odeint\n",
        "from numpy import arange\n",
        "import matplotlib.pyplot as plt\n",
        "import numpy as np\n",
        "\n",
        "#Função para retornar dCx/dt\n",
        "def Concentracao(state,t):\n",
        "    Cx,Cs=state\n",
        "    um = 2\n",
        "    y = 0.456\n",
        "    ks= 2.5\n",
        "    kd= 0.1\n",
        "    dCxdt= (((um*Cs)/(ks+Cs))-kd)*Cx\n",
        "    dCsdt= -(1/y)*((um*Cs)/(ks+Cs))*Cx\n",
        "    return [dCxdt,dCsdt]\n",
        "\n",
        "init_state=[0.1,30] #Colocar valores de início para o Cx e Cs\n",
        "t=arange(0,8,0.1) #Variação do tempo;\n",
        "state = odeint(Concentracao, init_state, t) \n",
        "\n",
        "#Plotar resultados\n",
        "plt.plot(t,state[:,0],label='Cx')\n",
        "plt.plot(t,state[:,1],label='Cs')\n",
        "plt.xlabel('Tempo')\n",
        "plt.ylabel('Concentracao celular(t)')\n",
        "plt.legend()\n",
        "plt.show()"
      ],
      "execution_count": null,
      "outputs": [
        {
          "output_type": "display_data",
          "data": {
            "text/plain": [
              "<Figure size 432x288 with 1 Axes>"
            ],
            "image/png": "[encoded data removed]"
          },
          "metadata": {
            "needs_background": "light"
          }
        }
      ]
    },
    {
      "cell_type": "markdown",
      "source": [
        "###  Batelada"
      ],
      "metadata": {
        "id": "rP7SlOK3dxrX"
      }
    },
    {
      "cell_type": "markdown",
      "source": [
        "![image.png](data:image/png;base64,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)"
      ],
      "metadata": {
        "id": "z-ORvWgHbFX2"
      }
    },
    {
      "cell_type": "markdown",
      "source": [
        "Variação da concentração de células (Cx) - Monod:\n",
        "\n",
        "$\\frac{\\mathrm{dC_{x}} }{\\mathrm{d} t} = \\frac{\\mu_{max}C_{s} }{K_{s}+C_{s}}C_{x}$ ⠀⠀⠀⠀⠀⠀⠀⠀⠀⠀⠀⠀⠀⠀⠀⠀⠀⠀⠀⠀⠀⠀⠀⠀⠀⠀"
      ],
      "metadata": {
        "id": "sq84br7R7BtA"
      }
    },
    {
      "cell_type": "markdown",
      "source": [
        "Variação da concentração de substrato (Cs) - Monod:\n",
        "\n",
        "\n",
        "$\\frac{\\mathrm{dC_{s}} }{\\mathrm{d} t} =-\\frac{\\mu_{max}C_{s} }{K_{s}+C_{s}}\\frac{C_{x}}{Y_{\\frac{x}{s}}}$"
      ],
      "metadata": {
        "id": "a3nxloBW8ChW"
      }
    },
    {
      "cell_type": "markdown",
      "source": [
        "Pode-se então, importar dados de concentração celular e de substrato obtidos de cultivos como os valores experimentais : **Cx_exp** e **Cs_exp**"
      ],
      "metadata": {
        "id": "3BdK59Mer6Do"
      }
    },
    {
      "metadata": {
        "id": "xby_5DbX6DBW",
        "colab": {
          "base_uri": "https://localhost:8080/",
          "height": 279
        },
        "outputId": "b84b8fea-68ad-449a-ec46-1af21368c6e4"
      },
      "cell_type": "code",
      "source": [
        "from scipy.integrate import odeint\n",
        "from numpy import arange\n",
        "import matplotlib.pyplot as plt\n",
        "import numpy as np\n",
        "\n",
        "#Função para retornar dCx/dt\n",
        "def Concentracao(state,t):\n",
        "    Cx,Cs=state\n",
        "    um = 0.42\n",
        "    y = 0.3\n",
        "    ks= 1.2\n",
        "    kd= 0.1\n",
        "    dCxdt= (((um*Cs)/(ks+Cs))-kd)*Cx\n",
        "    dCsdt= -((um*Cs)/(ks+Cs))*Cx/y\n",
        "    return [dCxdt,dCsdt]\n",
        "\n",
        "\n",
        "init_state=[0.1,30] #Colocar valores de início para o Cx e Cs\n",
        "t=arange(0,20,0.05) #Variação do tempo;\n",
        "state = odeint(Concentracao, init_state, t)\n",
        "\n",
        "Cx_exp=np.array([0.247,0.235,0.295,0.328,0.426,0.483,0.547,0.618,0.794,1.185,1.254,2.328,2.580,2.890,3.375,3.350,3.510,3.890,3.87,4.6,5.8,6.7,8.3,7.2,8.1,7.8,8.4,7.3,6.6,5.3]) #Valores de tempo e Cx\n",
        "Cs_exp=np.array([29.58,28.86,30.82,27.31,30.3604,30.512,32.07,31.09,30.3817,19.9537,21.88,25.1167,21.01,20.81,19.0656,15.93,14.96,12.82,11.36,10.3,8.7,6.3,2.1,0,0,0,0,0,0,0]) #Valores de tempo e Cs\n",
        "texp=arange(0,15,0.5) #Variação do tempo experimental\n",
        "\n",
        "#Plotar resultados\n",
        "plt.plot(t,state[:,0],label='Cx')\n",
        "plt.plot(t,state[:,1],label='Cs')\n",
        "plt.plot(texp,Cx_exp,\"o\", label='Exp Cx')\n",
        "plt.plot(texp,Cs_exp,\"o\", label='Exp Cs')\n",
        "plt.xlabel('Tempo')\n",
        "plt.ylabel('Concentracao (t)')\n",
        "plt.legend()\n",
        "plt.show()\n"
      ],
      "execution_count": null,
      "outputs": [
        {
          "output_type": "display_data",
          "data": {
            "text/plain": [
              "<Figure size 432x288 with 1 Axes>"
            ],
            "image/png": "[encoded data removed]"
          },
          "metadata": {
            "needs_background": "light"
          }
        }
      ]
    },
    {
      "cell_type": "markdown",
      "source": [
        "No entanto, observa-se que cada cultivo terá uma cinética distinta que é uma combinação de diversos fatores indicados pelas variáveis do modelo e  os parametros selecionados não representam a cinética real (baixo ajuste)."
      ],
      "metadata": {
        "id": "kpzi2-8csHQI"
      }
    },
    {
      "cell_type": "markdown",
      "source": [
        "Assim, Ferramentas de ajuste e minimização de erros podem ser utilizadas para ajustar os valores das variáveis do modelo. Uma delas é o algoritmo genético, utilizado a seguir a partir da função *differential_evolution()*"
      ],
      "metadata": {
        "id": "rQExooQosXLn"
      }
    },
    {
      "cell_type": "code",
      "source": [
        "from scipy.integrate import odeint\n",
        "from numpy import arange\n",
        "import matplotlib.pyplot as plt\n",
        "import numpy as np\n",
        "from scipy.optimize import differential_evolution"
      ],
      "metadata": {
        "id": "3jhXulcGFiaa"
      },
      "execution_count": null,
      "outputs": []
    },
    {
      "cell_type": "code",
      "source": [
        "Cx_exp=np.array([0.247,0.235,0.295,0.328,0.426,0.483,0.547,0.618,0.794,1.185,1.254,2.328,2.580,2.890,3.375,3.350,3.510,3.890,3.87,4.6,5.8,6.7,8.3,7.2,8.1,7.8,8.4,7.3,6.6,5.3]) #Valores de tempo e Cx\n",
        "Cs_exp=np.array([29.58,28.86,30.82,27.31,30.3604,30.512,32.07,31.09,30.3817,19.9537,21.88,25.1167,21.01,20.81,19.0656,15.93,14.96,12.82,11.36,10.3,8.7,6.3,2.1,0,0,0,0,0,0,0]) #Valores de tempo e Cs\n",
        "texp=arange(0,15,0.5) #Variação do tempo experimental\n",
        "t=arange(0,15,0.5) #Variação do tempo;\n",
        "\n",
        "#w[0] um\n",
        "#w[1] yxs\n",
        "#w[2] ks\n",
        "#w[3] kd\n",
        "#w[4] Cx\n",
        "#w[5] Cs"
      ],
      "metadata": {
        "id": "9AOVPN_fFjmD"
      },
      "execution_count": null,
      "outputs": []
    },
    {
      "cell_type": "code",
      "source": [
        "#Função para retornar dCx/dt\n",
        "def Concentracao(state, t, k):\n",
        "    um = k[0]\n",
        "    yxs = k[1]\n",
        "    ks = k[2]\n",
        "    kd = k[3]\n",
        "    Cx, Cs = state\n",
        "    dCxdt= (((um*Cs)/(ks+Cs))-kd)*Cx\n",
        "    dCsdt= -(1/yxs)*((um*Cs)/(ks+Cs))*Cx\n",
        "    return [dCxdt, dCsdt]\n",
        "\n",
        "def Integração(w):\n",
        "    global C_sim\n",
        "    init_state=[w[4],w[5]] #Colocar valores de início para o Cx e Cs\n",
        "    k = [w[0], w[1], w[2], w[3]]\n",
        "    C_sim = odeint(Concentracao, init_state, t, args = (k,))\n",
        "    residuoCx = np.sqrt(sum((Cx_exp - C_sim[:,0])**2)/len(Cx_exp))\n",
        "    residuoCs = np.sqrt(sum((Cs_exp - C_sim[:,1])**2)/len(Cs_exp))\n",
        "    residuoC = np.sqrt(residuoCx**2 + residuoCs**2)\n",
        "    return residuoC\n",
        "\n",
        "resultado = differential_evolution(Integração, bounds = [(0,0.6), (0,0.6), (0,3), (0,3), (0,2), (20,50)], maxiter=1000, popsize=25)"
      ],
      "metadata": {
        "id": "Lo4Mg6U-Forb"
      },
      "execution_count": null,
      "outputs": []
    },
    {
      "metadata": {
        "colab": {
          "base_uri": "https://localhost:8080/",
          "height": 404
        },
        "outputId": "81bc0ba9-2001-4c0e-b206-e40682bf98f8",
        "id": "IJtrCdzKAwQo"
      },
      "cell_type": "code",
      "source": [
        "print('umax = %.2f' %resultado.x[0]) \n",
        "print('yxs = %.2f' %resultado.x[1]) \n",
        "print('ks = %.2f' %resultado.x[2])\n",
        "print('kd = %.2f' %resultado.x[3])\n",
        "print('Cx inicial = %.2f' %resultado.x[4])\n",
        "print('Cs inicial = %.2f' %resultado.x[5])\n",
        "print('-'*20)\n",
        "\n",
        "#Plotar resultados\n",
        "plt.plot(t,C_sim[:,0],label='Cx')\n",
        "plt.plot(t,C_sim[:,1],label='Cs')\n",
        "plt.plot(texp,Cx_exp,\"o\", label='Exp Cx')\n",
        "plt.plot(texp,Cs_exp,\"o\", label='Exp Cs')\n",
        "plt.xlabel('Tempo')\n",
        "plt.ylabel('Concentracao (t)')\n",
        "plt.legend()\n",
        "plt.show()"
      ],
      "execution_count": null,
      "outputs": [
        {
          "output_type": "stream",
          "name": "stdout",
          "text": [
            "umax = 0.30\n",
            "yxs = 0.26\n",
            "ks = 3.00\n",
            "kd = 0.03\n",
            "Cx inicial = 0.60\n",
            "Cs inicial = 30.82\n",
            "--------------------\n"
          ]
        },
        {
          "output_type": "display_data",
          "data": {
            "text/plain": [
              "<Figure size 432x288 with 1 Axes>"
            ],
            "image/png": "[encoded data removed]"
          },
          "metadata": {
            "needs_background": "light"
          }
        }
      ]
    },
    {
      "cell_type": "markdown",
      "source": [
        "### Balelada Alimentada"
      ],
      "metadata": {
        "id": "JLAqEh1nluMJ"
      }
    },
    {
      "cell_type": "markdown",
      "source": [
        "![image.png](data:image/png;base64,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)"
      ],
      "metadata": {
        "id": "MSE62B2pbnTg"
      }
    },
    {
      "cell_type": "markdown",
      "source": [
        "####Variação da taxa de alimentação de meio"
      ],
      "metadata": {
        "id": "a5aXEk4RCt61"
      }
    },
    {
      "cell_type": "markdown",
      "source": [
        "Vazão é definida como variação do volume pelo tempo: $ Q = \\frac{\\mathrm{d} V}{\\mathrm{d} t}$\n",
        "\n",
        "Para vazão constante: $\\frac{\\mathrm{d} V}{\\mathrm{d} t} = \\beta$\n",
        "\n",
        "Integrando: $V = V_{0} + \\beta t$"
      ],
      "metadata": {
        "id": "qNuNYv40C2i3"
      }
    },
    {
      "cell_type": "markdown",
      "source": [
        "Para variação linear da vazão: $\\frac{\\mathrm{d} V}{\\mathrm{d} t} =Q_{0} + \\beta $\n",
        "\n",
        "Integrando: $V = V_{0} + \\frac{\\beta t^2}{2}$"
      ],
      "metadata": {
        "id": "RJWOa41JD4Va"
      }
    },
    {
      "cell_type": "markdown",
      "source": [
        "Para variação exponencial da vazão: $\\frac{\\mathrm{d} V}{\\mathrm{d} t} =Q_{0}(1+e^{\\beta t})$\n",
        "\n",
        "Integrando: $V = V_{0}+\\frac{Q_{0}{(1+e)^{\\beta t}}}{\\beta ln(1+e)}$\n"
      ],
      "metadata": {
        "id": "4rvq5b4EGT-k"
      }
    },
    {
      "cell_type": "code",
      "source": [
        "from numpy import arange\n",
        "import matplotlib.pyplot as plt\n",
        "import numpy as np\n",
        "import math as m"
      ],
      "metadata": {
        "id": "z_WXcWiDI06b"
      },
      "execution_count": null,
      "outputs": []
    },
    {
      "cell_type": "code",
      "source": [
        "t= np.arange(0,80,0.25)\n",
        "\n",
        "# Vazão constante\n",
        "V0 = 2.0\n",
        "Q=0.25\n",
        "\n",
        "Q_1 = [Q] * len(t)\n",
        "V_1 = V0+Q_1*t\n",
        "\n",
        "#Plotar resultados\n",
        "fig, ax1 = plt.subplots()\n",
        "ax1.plot(t,Q_1,label='Vazão Constante (β)', color ='r')\n",
        "ax1.set_ylabel('Q (t)')\n",
        "ax1.set_ylim([0, 1.5])\n",
        "ax2 = ax1.twinx()\n",
        "ax2.plot(t,V_1,label='Volume (Vazão constante)', color ='b')\n",
        "ax2.set_ylabel('Volume (t)')\n",
        "ax2.set_ylim([0, 30])\n",
        "ax1.set_xlabel('Tempo')\n",
        "plt.legend()\n",
        "plt.show()\n",
        "\n",
        "#Vazão linear\n",
        "Q0 = 0\n",
        "V0 = 2.0\n",
        "β = 0.005\n",
        "Q_2 = Q0 + β*t\n",
        "V_2 = V0 + Q0*t + (β*t**2)/2\n",
        "\n",
        "#Plotar resultados\n",
        "fig, ax1 = plt.subplots()\n",
        "ax1.plot(t,Q_2,label='Vazão Linear (Q0+βt)', color ='r')\n",
        "ax1.set_ylabel('Q (t)')\n",
        "ax1.set_ylim([0, 1.5])\n",
        "ax2 = ax1.twinx()\n",
        "ax2.plot(t,V_2,label='Volume (Vazão linear)', color ='b')\n",
        "ax2.set_ylabel('Volume (t)')\n",
        "ax2.set_ylim([0, 30])\n",
        "ax1.set_xlabel('Tempo')\n",
        "plt.legend()\n",
        "plt.show()\n",
        "\n",
        "#Vazão exponencial\n",
        "Q0 = 0.001\n",
        "V0 = 2.0\n",
        "β = 0.07\n",
        "Q_3 = Q0*((1+2.71828)**(β*t))\n",
        "V_3 = V0 + Q0*(1+2.71828)**(β*t)/(β*m.log(1+2.71828))\n",
        "\n",
        "#Plotar resultados\n",
        "fig, ax1 = plt.subplots()\n",
        "ax1.plot(t,Q_3,label='Vazão exponencial (Q0+e^βt)', color ='r')\n",
        "ax1.set_ylabel('Q (t)')\n",
        "ax1.set_ylim([0, 1.5])\n",
        "ax2 = ax1.twinx()\n",
        "ax2.plot(t,V_3,label='Volume (Vazão exponencial)', color ='b')\n",
        "ax2.set_ylabel('Volume (t)')\n",
        "ax2.set_ylim([0, 30])\n",
        "ax1.set_xlabel('Tempo')\n",
        "plt.legend()\n",
        "plt.show()"
      ],
      "metadata": {
        "colab": {
          "base_uri": "https://localhost:8080/",
          "height": 815
        },
        "id": "iEkAysi1I2Kq",
        "outputId": "8a6bcfb5-7344-4468-9cac-d0b189e4dd5d"
      },
      "execution_count": null,
      "outputs": [
        {
          "output_type": "display_data",
          "data": {
            "text/plain": [
              "<Figure size 432x288 with 2 Axes>"
            ],
            "image/png": "[encoded data removed]"
          },
          "metadata": {
            "needs_background": "light"
          }
        },
        {
          "output_type": "display_data",
          "data": {
            "text/plain": [
              "<Figure size 432x288 with 2 Axes>"
            ],
            "image/png": "[encoded data removed]"
          },
          "metadata": {
            "needs_background": "light"
          }
        },
        {
          "output_type": "display_data",
          "data": {
            "text/plain": [
              "<Figure size 432x288 with 2 Axes>"
            ],
            "image/png": "[encoded data removed]"
          },
          "metadata": {
            "needs_background": "light"
          }
        }
      ]
    },
    {
      "cell_type": "markdown",
      "source": [
        "####Balanço de Massa"
      ],
      "metadata": {
        "id": "Ms509GvyIfOF"
      }
    },
    {
      "cell_type": "markdown",
      "source": [
        "Variação da concentração de células (Cx) - Monod:\n",
        "\n",
        "$\\frac{\\mathrm{dC_{x}} }{\\mathrm{d} t} = C_{x}(\\frac{umax*Cs}{Ks+Cs}-D-k_{d})$"
      ],
      "metadata": {
        "id": "qtP80gJg-myJ"
      }
    },
    {
      "cell_type": "markdown",
      "source": [
        "Variação da concentração de substrato (Cs) - Monod\n",
        "\n",
        "$\\frac{\\mathrm{dC_{s}} }{\\mathrm{d} t}=-\\frac{umax*Cs}{K_{s}+C_{s}}\\frac{1}{y_{x/s}} C_{x}+D(Csi - Cs)$"
      ],
      "metadata": {
        "id": "lvpllR0L-vxJ"
      }
    },
    {
      "cell_type": "markdown",
      "source": [
        "Da mesma maneira, na batelada alimentada, a variação da concentração é integrada"
      ],
      "metadata": {
        "id": "NEWS45Q2op2y"
      }
    },
    {
      "cell_type": "code",
      "source": [
        "from scipy.integrate import odeint\n",
        "from numpy import arange\n",
        "import matplotlib.pyplot as plt\n",
        "import numpy as np"
      ],
      "metadata": {
        "id": "jiNmj7iSFVG7"
      },
      "execution_count": null,
      "outputs": []
    },
    {
      "cell_type": "code",
      "source": [
        "#Função para retornar dCx/dt\n",
        "def Concentracao(state,t):\n",
        "    Cx, Cs = state\n",
        "    umax = 0.3\n",
        "    Ks= 3\n",
        "    yxs= 0.322862263410841\n",
        "    kd = 0.05\n",
        "    Q = 0.2\n",
        "    V0=2.0\n",
        "    D=Q/(V0+Q*t)\n",
        "    Csi = 169.63680561761663\n",
        "    dCx_dt = ((((umax*Cs)/(Ks+Cs))-kd)-D)*Cx\n",
        "    dCs_dt = (-(1/yxs)*(umax*Cs)/(Ks+Cs))*Cx + (D*(Csi - Cs))\n",
        "    return [dCx_dt, dCs_dt]\n",
        "\n",
        "init_state = [3.474067087310976,10.076434571773264]\n",
        "t= arange(0,80,0.5)\n",
        "state=odeint(Concentracao, init_state, t)"
      ],
      "metadata": {
        "id": "ygpd_kZXFWZN"
      },
      "execution_count": null,
      "outputs": []
    },
    {
      "metadata": {
        "id": "rHajd9VEAkJq",
        "colab": {
          "base_uri": "https://localhost:8080/",
          "height": 282
        },
        "outputId": "df1d827e-17c6-4fe2-8da3-308203c49095"
      },
      "cell_type": "code",
      "source": [
        "# Dados Experimentais\n",
        "Cx=np.array([4.5, 4.35, 4.04, 4.44, 3.96, 3.735, 4.09, 4.23, 5.95, 4.41, 4.17, 4.735, 4.47, 5.075, 3.66, 3.425, 4.025]) #Valores de tempo e Cx\n",
        "Cs=np.array([16.51, 13.43, 15.36, 26.8, 22.82, 32.25, 39.59, 41.964, 46.895, 47.739, 76.739, 61.397, 52.119, 63.9, 55.688, 57.327, 58.798]) #Valores de tempo e Cs\n",
        "texp=np.array([0,0.5,1,1.5,2,2.5,3,3.5,4,4.5,5,6,6.5,7,7.5, 8, 8.5]) #Variação do tempo experimental\n",
        "\n",
        "#Plotar resultados\n",
        "plt.plot(t,state[:,0],label='Cx')\n",
        "plt.plot(t,state[:,1],label='Cs')\n",
        "plt.plot(texp,Cx,\"o\", label='Exp Cx')\n",
        "plt.plot(texp,Cs,\"o\", label='Exp Cs')\n",
        "plt.xlabel('Tempo')\n",
        "plt.ylabel('Concentracao (t)')\n",
        "plt.legend()\n",
        "plt.show()"
      ],
      "execution_count": null,
      "outputs": [
        {
          "output_type": "display_data",
          "data": {
            "text/plain": [
              "<Figure size 432x288 with 1 Axes>"
            ],
            "image/png": "[encoded data removed]"
          },
          "metadata": {
            "needs_background": "light"
          }
        }
      ]
    },
    {
      "cell_type": "markdown",
      "source": [
        "Utilizando o algoritmo genético, ajusta-se o modelo aos dados experimentais \n",
        "(Variação do volume do reator no eixo secundário)"
      ],
      "metadata": {
        "id": "RK18EvhNo5Qp"
      }
    },
    {
      "cell_type": "code",
      "source": [
        "from scipy.integrate import odeint\n",
        "from numpy import arange\n",
        "import matplotlib.pyplot as plt\n",
        "import numpy as np\n",
        "import pandas as pd\n",
        "from scipy.optimize import differential_evolution"
      ],
      "metadata": {
        "id": "YiGcnngLEads"
      },
      "execution_count": 68,
      "outputs": []
    },
    {
      "cell_type": "code",
      "source": [
        "#Conjunto de Dados\n",
        "importado = pd.read_excel(\"Dados_Batelada_Alimentada.xlsx\")\n",
        "importado_np = importado.values\n",
        "Cx_exp = importado_np[:,1]\n",
        "Cs_exp = importado_np[:,2]\n",
        "texp = importado_np[:,0]\n",
        "\n",
        "t=texp #Variação do tempo;"
      ],
      "metadata": {
        "id": "gqPGsbl7Eb_T"
      },
      "execution_count": 69,
      "outputs": []
    },
    {
      "cell_type": "code",
      "source": [
        "#w[0] um\n",
        "#w[1] yxs\n",
        "#w[2] ks\n",
        "#w[3] kd\n",
        "#w[4] Cx\n",
        "#w[5] Cs\n",
        "#w[6] Csi"
      ],
      "metadata": {
        "id": "AKlE3vQNEdyS"
      },
      "execution_count": 70,
      "outputs": []
    },
    {
      "cell_type": "code",
      "source": [
        "#Função para retornar dCx/dt\n",
        "counter = 1\n",
        "def Concentracao(state, t, k):\n",
        "    umax = k[0]\n",
        "    yxs = k[1]\n",
        "    ks = k[2]\n",
        "    kd = k[3]\n",
        "    Q = 0.25\n",
        "    V0 = 2\n",
        "    Csi = k[4]\n",
        "    Cx, Cs = state\n",
        "    D=Q/(V0+Q*t)\n",
        "    dCx_dt = ((((umax*Cs)/(ks+Cs))-kd)-D)*Cx\n",
        "    dCs_dt = (-(1/yxs)*(umax*Cs)/(ks+Cs))*Cx + (D*(Csi - Cs))\n",
        "    return [dCx_dt, dCs_dt]\n",
        "\n",
        "def Integração(w):\n",
        "    global C_sim\n",
        "    init_state=[w[4],w[5]] #Colocar valores de início para o Cx e Cs\n",
        "    k = [w[0], w[1], w[2], w[3], w[6]]\n",
        "    C_sim = odeint(Concentracao, init_state, t, args = (k,))\n",
        "    if counter == 1:\n",
        "      residuoCx = np.sqrt(sum((Cx_exp - C_sim[:,0])**2)/len(Cx_exp))\n",
        "      residuoCs = np.sqrt(sum((Cs_exp - C_sim[:,1])**2)/len(Cs_exp))\n",
        "      residuoC = np.sqrt(residuoCx**2 + residuoCs**2)\n",
        "      return residuoC\n",
        "    else:\n",
        "      return C_sim\n",
        "\n",
        "resultado = differential_evolution(Integração, bounds = [(0.01,0.5), (0,0.6), (0,10), (0,1), (0,10), (5,20), (75,300)], maxiter=2000, popsize=35)\n",
        "parametros = resultado.x"
      ],
      "metadata": {
        "id": "wj-g7s2FEhwb",
        "colab": {
          "base_uri": "https://localhost:8080/"
        },
        "outputId": "e530c3b3-3a28-47d5-b902-c63436ac50bf"
      },
      "execution_count": 71,
      "outputs": [
        {
          "output_type": "stream",
          "name": "stderr",
          "text": [
            "/usr/local/lib/python3.7/dist-packages/scipy/integrate/odepack.py:247: ODEintWarning: Excess work done on this call (perhaps wrong Dfun type). Run with full_output = 1 to get quantitative information.\n",
            "  warnings.warn(warning_msg, ODEintWarning)\n"
          ]
        }
      ]
    },
    {
      "cell_type": "code",
      "source": [
        "print('umax = %.2f' %resultado.x[0]) \n",
        "print('yxs = %.2f' %resultado.x[1])\n",
        "print('ks = %.2f' %resultado.x[2])\n",
        "print('kd = %.2f' %resultado.x[3])\n",
        "print('Cx = %.2f' %resultado.x[4])\n",
        "print('Cs = %.2f' %resultado.x[5])\n",
        "print('Cs_i = %.2f' %resultado.x[6])\n",
        "print('-'*20)"
      ],
      "metadata": {
        "colab": {
          "base_uri": "https://localhost:8080/"
        },
        "id": "jIbHqrIQEtrk",
        "outputId": "86fcc82c-4057-4745-91dd-e71216053849"
      },
      "execution_count": 72,
      "outputs": [
        {
          "output_type": "stream",
          "name": "stdout",
          "text": [
            "umax = 0.50\n",
            "yxs = 0.60\n",
            "ks = 6.18\n",
            "kd = 0.31\n",
            "Cx = 3.46\n",
            "Cs = 9.95\n",
            "Cs_i = 160.31\n",
            "--------------------\n"
          ]
        }
      ]
    },
    {
      "cell_type": "code",
      "source": [
        "t= arange(0,30,0.5)\n",
        "Q=0.25\n",
        "V0 = 2.0\n",
        "Volume = V0+Q*t"
      ],
      "metadata": {
        "id": "1fipuROiJngs"
      },
      "execution_count": 73,
      "outputs": []
    },
    {
      "cell_type": "code",
      "source": [
        "counter = 0\n",
        "Csim = Integração ((resultado.x[0], resultado.x[1], resultado.x[2], resultado.x[3], resultado.x[4], resultado.x[5], resultado.x[6]))\n",
        "\n",
        "#Plotar resultados\n",
        "fig, ax1 = plt.subplots()\n",
        "\n",
        "ax1.plot(t,Csim,label='Cx')\n",
        "ax1.plot(t,Csim,label='Cs')\n",
        "ax1.plot(texp,Cx_exp,\"o\", label='Exp Cx')\n",
        "ax1.plot(texp,Cs_exp,\"o\", label='Exp Cs')\n",
        "ax1.set_ylabel('Concentracao (t)')\n",
        "ax2 = ax1.twinx()\n",
        "ax2.plot(t,Volume,label='Volume(t)')\n",
        "ax2.set_ylabel('Volume (t)')\n",
        "ax2.set_ylim([0, 10])\n",
        "ax1.set_xlabel('Tempo')\n",
        "plt.legend()\n",
        "plt.show()"
      ],
      "metadata": {
        "id": "7viOvM8nezcV",
        "colab": {
          "base_uri": "https://localhost:8080/",
          "height": 283
        },
        "outputId": "dde77187-0fc3-4ea3-b8ab-839c1db209b2"
      },
      "execution_count": 74,
      "outputs": [
        {
          "output_type": "display_data",
          "data": {
            "text/plain": [
              "<Figure size 432x288 with 2 Axes>"
            ],
            "image/png": "[encoded data removed]"
          },
          "metadata": {
            "needs_background": "light"
          }
        }
      ]
    },
    {
      "cell_type": "markdown",
      "source": [
        "#Contínuo"
      ],
      "metadata": {
        "id": "TvH6B5lT61-R"
      }
    },
    {
      "cell_type": "markdown",
      "source": [
        "###Processo Contínuo sem Reciclo"
      ],
      "metadata": {
        "id": "Bah9iRGI9pRI"
      }
    },
    {
      "cell_type": "markdown",
      "source": [
        "**O que é um processo contínuo sem reciclo?**\n",
        "\n",
        "Um processo contínuo sem reciclo é carecterizado pela **entrada e saída constante** de volume do processo, de maneira que o volume presente no reator não varie, **sem realimentação de células no processo**."
      ],
      "metadata": {
        "id": "-hjBRfCl9tDe"
      }
    },
    {
      "cell_type": "markdown",
      "source": [
        "Como o processo é contínuo, isto é, o volume no reator não varia ao longo do tempo, temos:"
      ],
      "metadata": {
        "id": "5qCUJ4uv_0uI"
      }
    },
    {
      "cell_type": "markdown",
      "source": [
        "$Cs=\\frac{ksD}{\\mu_{max}-D}$\n",
        "\n",
        "$Cx = Yxs\\cdot(C_{si}-\\frac{ksD}{mimax-D})$"
      ],
      "metadata": {
        "id": "Wo-hEnmTM8jc"
      }
    },
    {
      "cell_type": "code",
      "source": [
        "import numpy as np\n",
        "import matplotlib.pyplot as plt"
      ],
      "metadata": {
        "id": "zLwbdwpi_AAO"
      },
      "execution_count": 76,
      "outputs": []
    },
    {
      "cell_type": "code",
      "source": [
        "# Definição dos parâmetros necessários\n",
        "\n",
        "mimax = 0.5 # [mimax] = 1/h\n",
        "ks = 0.2 # [ks] = kg/m³\n",
        "Yxs = 0.5 # [Yxs] = -\n",
        "Csi = 20 # [Cs de entrada] = kg/m³\n",
        "D=np.arange(0,0.4951,0.0001) # [D] = 1/h"
      ],
      "metadata": {
        "id": "5Fc7APewAS0x"
      },
      "execution_count": 77,
      "outputs": []
    },
    {
      "cell_type": "code",
      "source": [
        "# Cálculo das Variáveis de Interesse\n",
        "\n",
        "#Concentração de Substrato (kg/m³)\n",
        "Cs=(ks*D)/(mimax-D)\n",
        "\n",
        "#Concentração de Células (kg/m³)\n",
        "Cx=(Csi-((ks*D)/(mimax-D)))*Yxs"
      ],
      "metadata": {
        "id": "uyrP6-6yAooc"
      },
      "execution_count": 80,
      "outputs": []
    },
    {
      "cell_type": "code",
      "source": [
        "# Construção do Gráfico\n",
        "\n",
        "plt.figure(figsize=(10,6), facecolor=\"white\", edgecolor=\"black\")\n",
        "\n",
        "plt.plot(D, Cs, label = \"Cs\", color=\"blue\", linewidth=2, linestyle=\"-\")\n",
        "plt.plot(D, Cx, label = \"Cx\", color=\"red\", linewidth=2, linestyle=\"-\")\n",
        "\n",
        "plt.title(\"Processo Contínuo Sem Reciclo\",fontdict={'fontsize':22})\n",
        "plt.xlabel(\"Taxa de Diluição (1/h)\", fontdict={'fontsize':15})\n",
        "plt.ylabel(\"Concentração (kg/m³)\", fontdict={'fontsize':15})\n",
        "\n",
        "plt.legend(fontsize=15, edgecolor=\"black\")\n",
        "\n",
        "plt.show()"
      ],
      "metadata": {
        "colab": {
          "base_uri": "https://localhost:8080/",
          "height": 415
        },
        "id": "dLbcgSLTAqSI",
        "outputId": "18430eb7-86a3-4da7-c963-733ffd4ab2e5"
      },
      "execution_count": 84,
      "outputs": [
        {
          "output_type": "display_data",
          "data": {
            "text/plain": [
              "<Figure size 720x432 with 1 Axes>"
            ],
            "image/png": "[encoded data removed]"
          },
          "metadata": {}
        }
      ]
    },
    {
      "cell_type": "markdown",
      "source": [
        "###Processo Contínuo com Reciclo Externo"
      ],
      "metadata": {
        "id": "7fi3BgoWPa7i"
      }
    },
    {
      "cell_type": "markdown",
      "source": [
        "**O que é um processo contínuo com reciclo externo?**\n",
        "\n",
        "Um processo contínuo com reciclo externo é carecterizado pela **entrada e saída constante**, de maneira que o volume presente no reator não varie, com realimentação de células no processo. Essas **células são concentradas** em uma unidade de **separação externa** ao reator."
      ],
      "metadata": {
        "id": "wkHvogtwOr-f"
      }
    },
    {
      "cell_type": "markdown",
      "source": [
        "$Cs = \\frac{ks\\cdot D\\cdot (1+r\\cdot (1-c))}{\\mu_{max}-D(1+r(1+c))}$\n",
        "\n",
        "$Cx = \\frac{y_{xs}}{(1+r(1-c)))}\\cdot \\frac{ks\\cdot D\\cdot (1+r\\cdot (1-c))}{\\mu_{max}-D(1+r(1+c))})\\cdot Csi$"
      ],
      "metadata": {
        "id": "0IeQuw7iRVtk"
      }
    },
    {
      "cell_type": "code",
      "source": [
        "import numpy as np\n",
        "import matplotlib.pyplot as plt"
      ],
      "metadata": {
        "id": "FcqmJ92a_KM4"
      },
      "execution_count": 86,
      "outputs": []
    },
    {
      "cell_type": "code",
      "source": [
        "# Definição dos parâmetros necessários\n",
        "\n",
        "# Processo Contínuo sem Reciclo\n",
        "Se=20 #[Se]=kg/m³\n",
        "Yxs=0.5 #[Yxs]=Adimensional\n",
        "mimax=0.5 #[mimax]=1/h\n",
        "ks=0.1 #[ks]=kg/m³\n",
        "D=np.arange(0,0.4976,0.0001) #[D]=1/h\n",
        "\n",
        "# Processo Contínuo com Reciclo Externo\n",
        "ra=0.2 #[ra]=Adimensional\n",
        "ca=2 #[ca]=Adimensional\n",
        "rb=0.3 #[rb]=Adimensional\n",
        "cb=2 #[cb]=Adimensional\n",
        "rc=0.2 #[rc]=Adimensional\n",
        "cc=3 #[cc]=Adimensional\n",
        "rd=0.3 #[rd]=Adimensional\n",
        "cd=3 #[cd]=Adimensional\n",
        "Da=1.25*D #[Da]=1/h\n",
        "Db=1.42862*D #[Db]=1/h\n",
        "Dc=1.66666*D #[Dc]=1/h\n",
        "Dd=2.49999*D #[Dd]=1/h"
      ],
      "metadata": {
        "id": "j3IoX3plT6Ou"
      },
      "execution_count": 87,
      "outputs": []
    },
    {
      "cell_type": "code",
      "source": [
        "# Cálculo das Variáveis de Interesse\n",
        "\n",
        "# Processo Contínuo sem Reciclo\n",
        "# Concentração de Substrato(kg/m³)\n",
        "Ssr=(ks*D)/(mimax-D)\n",
        "# Concentração de Células(kg/m³)\n",
        "Xsr=(Se-Ssr)*Yxs\n",
        "# Produtividade(kg/m³.h)\n",
        "Psr=Xsr*D\n",
        "\n",
        "# Processo Contínuo com Reciclo Externo\n",
        "# Concentração de Substrato(kg/m³)\n",
        "Screa=(ks*Da*(1+ra*(1-ca)))/(mimax-Da*(1+ra*(1-ca)))\n",
        "Screb=(ks*Db*(1+rb*(1-cb)))/(mimax-Db*(1+rb*(1-cb)))\n",
        "Screc=(ks*Dc*(1+rc*(1-cc)))/(mimax-Dc*(1+rc*(1-cc)))\n",
        "Scred=(ks*Dd*(1+rd*(1-cd)))/(mimax-Dd*(1+rd*(1-cd)))\n",
        "#Concentração de Células Com Reciclo Externo(kg/m³)\n",
        "Xcrea=(Se-Screa)*(Yxs/(1+ra*(1-ca)))\n",
        "Xcreb=(Se-Screb)*(Yxs/(1+rb*(1-cb)))\n",
        "Xcrec=(Se-Screc)*(Yxs/(1+rc*(1-cc)))\n",
        "Xcred=(Se-Scred)*(Yxs/(1+rd*(1-cd)))\n",
        "# Produtividade(kg/m³.h)\n",
        "Pcrea=Xcrea*Da\n",
        "Pcreb=Xcreb*Db\n",
        "Pcrec=Xcrec*Dc\n",
        "Pcred=Xcred*Dd"
      ],
      "metadata": {
        "id": "-jwxbiT4Uei3"
      },
      "execution_count": 88,
      "outputs": []
    },
    {
      "cell_type": "code",
      "source": [
        "# Construção do Gráfico\n",
        "\n",
        "fig, ax1 = plt.subplots(figsize=(15,9))\n",
        "\n",
        "ax1.plot(D, Xsr, linestyle=\"-\", color=\"red\", label=\"X sem reciclo\")\n",
        "ax1.plot(Da, Xcrea, linestyle=\"-\", color=\"blue\", label=\"Xa\")\n",
        "ax1.plot(Db, Xcreb, linestyle=\"-\", color=\"yellow\", label=\"Xb\")\n",
        "ax1.plot(Dc, Xcrec, linestyle=\"-\", color=\"green\", label=\"Xc\")\n",
        "ax1.plot(Dd, Xcred, linestyle=\"-\", color=\"black\", label=\"Xd\")\n",
        "\n",
        "ax1.set_xlabel(\"Taxa de Diluição (1/h)\", fontdict={'fontsize':15})\n",
        "ax1.set_ylabel(\"Concentração de Células (kg/m³)\", fontdict={'fontsize':15})\n",
        "ax1.set_ylim(0, 30)\n",
        "\n",
        "ax1.legend(ncol=5, bbox_to_anchor=(0.648,-0.1), fontsize=15)\n",
        "ax1.grid(linestyle=\":\")\n",
        "\n",
        "ax2 = plt.twinx(ax1)\n",
        "\n",
        "ax2.plot(D, Psr, linestyle=\"--\", color=\"red\", label=\"PX sem reciclo\")\n",
        "ax2.plot(Da, Pcrea, linestyle=\"--\", color=\"blue\", label=\"PXa\")\n",
        "ax2.plot(Db, Pcreb, linestyle=\"--\", color=\"yellow\", label=\"PXb\")\n",
        "ax2.plot(Dc, Pcrec, linestyle=\"--\", color=\"green\", label=\"PXc\")\n",
        "ax2.plot(Dd, Pcred, linestyle=\"--\", color=\"black\", label=\"PXd\")\n",
        "\n",
        "ax2.set_ylabel(\"Produtividade de Células (kg/m³.h)\", fontdict={'fontsize':15})\n",
        "ax2.set_ylim(0, 30)\n",
        "\n",
        "ax2.legend(ncol=5, bbox_to_anchor=(0.7,-0.18), fontsize=15)\n",
        "\n",
        "plt.title(\"Processo Contínuo com Reciclo Externo\",fontdict={'fontsize':25})"
      ],
      "metadata": {
        "colab": {
          "base_uri": "https://localhost:8080/",
          "height": 686
        },
        "id": "4Vffuxs_VmM0",
        "outputId": "74637549-a668-41fc-e122-3d07c06e9b15"
      },
      "execution_count": 89,
      "outputs": [
        {
          "output_type": "execute_result",
          "data": {
            "text/plain": [
              "Text(0.5, 1.0, 'Processo Contínuo com Reciclo Externo')"
            ]
          },
          "metadata": {},
          "execution_count": 89
        },
        {
          "output_type": "display_data",
          "data": {
            "text/plain": [
              "<Figure size 1080x648 with 2 Axes>"
            ],
            "image/png": "[encoded data removed]"
          },
          "metadata": {
            "needs_background": "light"
          }
        }
      ]
    },
    {
      "cell_type": "markdown",
      "source": [
        "###Processo Contínuo com Reciclo Interno"
      ],
      "metadata": {
        "id": "5bPPWW17PdkN"
      }
    },
    {
      "cell_type": "markdown",
      "source": [
        "**O que é um processo contínuo com reciclo interno?**\n",
        "\n",
        "Um processo contínuo com reciclo interno é carecterizado pela **entrada e saída constante** de volume do processo, de maneira que o volume presente no reator não varie, com **retenção de células no processo**. Essas células são concentradas em uma unidade de **separação interna** ao reator."
      ],
      "metadata": {
        "id": "LwrpAcosPjRM"
      }
    },
    {
      "cell_type": "markdown",
      "source": [
        "$Cs = \\frac{ks\\cdot D\\cdot (h(1-f)+f)}{\\mu_{max}-D(h(1-f)+f)}$\n",
        "\n",
        "$Cx = \\frac{y_{xs}}{h(1-f)+f)} \\cdot \\frac{ks\\cdot D\\cdot (h(1-f)+f)}{\\mu_{max}-D(h(1-f)+f)}$"
      ],
      "metadata": {
        "id": "l6fSifQZT5U4"
      }
    },
    {
      "cell_type": "code",
      "source": [
        "import numpy as np\n",
        "import matplotlib.pyplot as plt"
      ],
      "metadata": {
        "id": "xs7iuEqEX-2k"
      },
      "execution_count": 90,
      "outputs": []
    },
    {
      "cell_type": "code",
      "source": [
        "# Definição dos parâmetros necessários\n",
        "\n",
        "# Processo Contínuo sem Reciclo\n",
        "Se=20 #[Se]=kg/m³\n",
        "Yxs=0.5 #[Yxs]=Adimensional\n",
        "mimax=0.3 #[mimax]=1/h\n",
        "ks=0.5 #[ks]=kg/m³\n",
        "D=np.arange(0,0.2976,0.0001) #[D]=1/h\n",
        "\n",
        "# Processo contícuo com Reciclo Interno\n",
        "ha=0.2 #[ha]=Adimensional\n",
        "fa=0.8 #[fa]=Adimensional\n",
        "hb=0.6 #[hb]=Adimensional\n",
        "fb=0.2 #[fb]=Adimensional\n",
        "hc=0.2 #[hc]=Adimensional\n",
        "fc=0.4 #[fc]=Adimensional\n",
        "hd=0.3 #[hd]=Adimensional\n",
        "fd=0.2 #[fd]=Adimensional\n",
        "Da=1.19000*D #[Da]=1/h\n",
        "Db=1.47000*D #[Db]=1/h\n",
        "Dc=1.92000*D #[Dc]=1/h\n",
        "Dd=2.27000*D #[Dd]=1/h"
      ],
      "metadata": {
        "id": "YIcrVjyeYCTf"
      },
      "execution_count": 91,
      "outputs": []
    },
    {
      "cell_type": "code",
      "source": [
        "# Cálculo das Variáveis de Interesse\n",
        "\n",
        "# Processo Contínuo sem Reciclo\n",
        "#Concentração de Substrato(kg/m³)\n",
        "Ssr=(ks*D)/(mimax-D)\n",
        "#Concentração de Células(kg/m³)\n",
        "Xsr=(Se-Ssr)*Yxs\n",
        "#Produtividade(kg/m³.h)\n",
        "Psr=Xsr*D\n",
        "\n",
        "# Processo Contínuo com Reciclo Interno\n",
        "# Concentração de Substrato(kg/m³)\n",
        "Scria=(ks*Da*(ha*(1-fa)+fa))/(mimax-Da*(ha*(1-fa)+fa))\n",
        "Scrib=(ks*Db*(hb*(1-fb)+fb))/(mimax-Db*(hb*(1-fb)+fb))\n",
        "Scric=(ks*Dc*(hc*(1-fc)+fc))/(mimax-Dc*(hc*(1-fc)+fc))\n",
        "Scrid=(ks*Dd*(hd*(1-fd)+fd))/(mimax-Dd*(hd*(1-fd)+fd))\n",
        "# Concentração de Células Com Reciclo Externo(kg/m³)\n",
        "Xcria=(Se-Scria)*(Yxs/(ha*(1-fa)+fa))\n",
        "Xcrib=(Se-Scrib)*(Yxs/(hb*(1-fb)+fb))\n",
        "Xcric=(Se-Scric)*(Yxs/(hc*(1-fc)+fc))\n",
        "Xcrid=(Se-Scrid)*(Yxs/(hd*(1-fd)+fd))\n",
        "# Produtividade(kg/m³.h)\n",
        "Pcria=Xcria*Da\n",
        "Pcrib=Xcrib*Db\n",
        "Pcric=Xcric*Dc\n",
        "Pcrid=Xcrid*Dd"
      ],
      "metadata": {
        "id": "dqzRKVqzYF37"
      },
      "execution_count": 92,
      "outputs": []
    },
    {
      "cell_type": "code",
      "source": [
        "# Construção do Gráfico\n",
        "\n",
        "fig, ax1 = plt.subplots(figsize=(15,9))\n",
        "\n",
        "ax1.plot(D, Xsr, linestyle=\"-\", color=\"red\", label=\"X sem reciclo\")\n",
        "ax1.plot(Da, Xcria, linestyle=\"-\", color=\"blue\", label=\"Xa\")\n",
        "ax1.plot(Db, Xcrib, linestyle=\"-\", color=\"yellow\", label=\"Xb\")\n",
        "ax1.plot(Dc, Xcric, linestyle=\"-\", color=\"green\", label=\"Xc\")\n",
        "ax1.plot(Dd, Xcrid, linestyle=\"-\", color=\"black\", label=\"Xd\")\n",
        "\n",
        "ax1.set_xlabel(\"Taxa de Diluição (1/h)\", fontdict={'fontsize':15})\n",
        "ax1.set_ylabel(\"Concentração de Células (kg/m³)\", fontdict={'fontsize':15})\n",
        "ax1.set_ylim(0, 30)\n",
        "\n",
        "ax1.legend(ncol=5, bbox_to_anchor=(0.6176,-0.1), fontsize=15)\n",
        "ax1.grid(linestyle=\":\")\n",
        "\n",
        "ax2 = plt.twinx(ax1)\n",
        "\n",
        "ax2.plot(D, Psr, linestyle=\"--\", color=\"red\", label=\"PX sem reciclo\")\n",
        "ax2.plot(Da, Pcria, linestyle=\"--\", color=\"blue\", label=\"PXa\")\n",
        "ax2.plot(Db, Pcrib, linestyle=\"--\", color=\"yellow\", label=\"PXb\")\n",
        "ax2.plot(Dc, Pcric, linestyle=\"--\", color=\"green\", label=\"PXc\")\n",
        "ax2.plot(Dd, Pcrid, linestyle=\"--\", color=\"black\", label=\"PXd\")\n",
        "\n",
        "ax2.set_ylabel(\"Produtividade de Células (kg/m³.h)\", fontdict={'fontsize':15})\n",
        "ax2.set_ylim(0, 30)\n",
        "\n",
        "ax2.legend(ncol=5, bbox_to_anchor=(0.6411,-0.18), fontsize=15)\n",
        "\n",
        "plt.title(\"Processo Contínuo com Reciclo Interno\",fontdict={'fontsize':25})"
      ],
      "metadata": {
        "colab": {
          "base_uri": "https://localhost:8080/",
          "height": 686
        },
        "id": "lPz-qy6dYKVq",
        "outputId": "d7503a2e-1bad-4a53-8fa3-0f2e612e27ae"
      },
      "execution_count": 93,
      "outputs": [
        {
          "output_type": "execute_result",
          "data": {
            "text/plain": [
              "Text(0.5, 1.0, 'Processo Contínuo com Reciclo Interno')"
            ]
          },
          "metadata": {},
          "execution_count": 93
        },
        {
          "output_type": "display_data",
          "data": {
            "text/plain": [
              "<Figure size 1080x648 with 2 Axes>"
            ],
            "image/png": "[encoded data removed]"
          },
          "metadata": {
            "needs_background": "light"
          }
        }
      ]
    },
    {
      "cell_type": "markdown",
      "metadata": {
        "id": "C1wJ2wGx9X-6"
      },
      "source": [
        "## Exercícios"
      ]
    },
    {
      "cell_type": "markdown",
      "metadata": {
        "id": "J2Fv1hok9X-6"
      },
      "source": [
        "### Enunciado"
      ]
    },
    {
      "cell_type": "code",
      "execution_count": null,
      "metadata": {
        "outputId": "5a45a540-7c81-411c-fe79-008e533ae803",
        "id": "9fgtAR_jEKKM"
      },
      "outputs": [
        {
          "name": "stdout",
          "output_type": "stream",
          "text": [
            "Entre com o valor em graus Celsius: 35\n",
            "A Temperatura em graus Fahrenheit é 95.0\n"
          ]
        }
      ],
      "source": [
        "# Exercício 1 - Converte graus Celsius em Fahrenheit\n",
        "C = float(input(\"Entre com o valor em graus Celsius: \"))\n",
        "F = ((9 * C)/5)+32\n",
        "print(\"A Temperatura em graus Fahrenheit é {}\".format(F))\n"
      ]
    },
    {
      "cell_type": "code",
      "execution_count": null,
      "metadata": {
        "id": "OBBsSd2r9X-7",
        "outputId": "2fdda35e-7a7b-4dc9-8998-3316e28a1ffe"
      },
      "outputs": [
        {
          "name": "stdout",
          "output_type": "stream",
          "text": [
            "Entre com o valor da distância em metros: 10\n",
            "A distância em milimetros é 10000.0\n"
          ]
        }
      ],
      "source": [
        "# Exercício 2 - Converte metros em milimetros\n",
        "M = float(input(\"Entre com o valor da distância em metros: \"))\n",
        "mm = M * 1000\n",
        "print(\"A distância em milimetros é {}\".format(mm))"
      ]
    },
    {
      "cell_type": "code",
      "execution_count": null,
      "metadata": {
        "outputId": "87bee54a-6036-46fd-c239-c5c51c966a0f",
        "id": "6kWGHa2oEKKN"
      },
      "outputs": [
        {
          "name": "stdout",
          "output_type": "stream",
          "text": [
            "Entre com o valor do lado do quadrado 15\n",
            "perímetro: 60 -área: 225\n"
          ]
        }
      ],
      "source": [
        "#Exercício 3 - Calcula o perímetro e área de um quadrado de lado l\n",
        "\n",
        "l = input(\"Entre com o valor do lado do quadrado \")\n",
        "l = int(l)\n",
        "\n",
        "x = l *4\n",
        "y = l*l\n",
        "\n",
        "print('perímetro:', x, '-área:', y)"
      ]
    },
    {
      "cell_type": "code",
      "execution_count": null,
      "metadata": {
        "id": "TvqgCj2v9X-7",
        "outputId": "9ef9b96f-cc1c-42d6-faf2-612b3da53f02"
      },
      "outputs": [
        {
          "name": "stdout",
          "output_type": "stream",
          "text": [
            "Entre com o valor da primeira nota10\n",
            "Entre com o valor da segunda nota7\n",
            "Entre com o valor da terceira nota6\n",
            "Entre com o valor da quarta nota6.5\n",
            "A média aritmética é 7.375\n"
          ]
        }
      ],
      "source": [
        "#Exercício 4 - Faça um programa em Python que receba quatro notas, calcule e imprima a média aritmética.\n",
        "\n",
        "a = input('Entre com o valor da primeira nota')\n",
        "b = input('Entre com o valor da segunda nota')\n",
        "c = input('Entre com o valor da terceira nota')\n",
        "d = input('Entre com o valor da quarta nota')\n",
        "a = float(a)\n",
        "b = float(b)\n",
        "c = float(c)\n",
        "d = float(d)\n",
        "media = (a + b + c + d) / 4\n",
        "print('A média aritmética é', media)\n"
      ]
    },
    {
      "cell_type": "code",
      "execution_count": null,
      "metadata": {
        "id": "5sH_kVZB9X-7",
        "outputId": "10405dfb-100f-492c-8e1d-9a2cb01c31a4"
      },
      "outputs": [
        {
          "name": "stdout",
          "output_type": "stream",
          "text": [
            "Entre com o peso em quilogramas: 85\n",
            "Entre com a estatura em metros: 1.82\n",
            "O índice de massa corporal é 25.661152034778407\n"
          ]
        }
      ],
      "source": [
        "# Exercício 5 - Calcule IMC\n",
        "massa = float(input(\"Entre com o peso em quilogramas: \"))\n",
        "altura = float(input(\"Entre com a estatura em metros: \"))\n",
        "IMC = (massa) / (altura**2)\n",
        "print(\"O índice de massa corporal é {}\".format(IMC))"
      ]
    },
    {
      "cell_type": "markdown",
      "metadata": {
        "id": "QkI2gnEI9X-8"
      },
      "source": [
        "Desafio - Faça um programa em que dada a quantidade de segundos, converta esse valor em dias, horas, minutos e segundos. A saída deve estar no formato: a dias, b horas, c minutos e d segundos."
      ]
    },
    {
      "cell_type": "code",
      "execution_count": null,
      "metadata": {
        "id": "2JXCYuTn9X-8",
        "outputId": "95a52630-b0fe-4985-9663-7ed8f2892821"
      },
      "outputs": [
        {
          "name": "stdout",
          "output_type": "stream",
          "text": [
            "Entre com o tempo em segundos que quer converter: 2000\n",
            "0 dias, 0 horas, 33 minutos e 20 segundos.\n"
          ]
        }
      ],
      "source": [
        "seg = int(input(\"Entre com o tempo em segundos que quer converter: \"))\n",
        "dia = seg // 86400\n",
        "dia_rest = seg % 86400\n",
        "hora = dia_rest // 3600\n",
        "hora_rest = dia_rest % 3600\n",
        "min = hora_rest // 60\n",
        "seg_rest = hora_rest % 60\n",
        "\n",
        "print(dia, \"dias,\", hora, \"horas,\", min, \"minutos e\", seg_rest, \"segundos.\" )"
      ]
    }
  ]
}