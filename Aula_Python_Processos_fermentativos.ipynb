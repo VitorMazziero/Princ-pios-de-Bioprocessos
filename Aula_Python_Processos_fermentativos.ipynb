{
  "nbformat": 4,
  "nbformat_minor": 0,
  "metadata": {
    "colab": {
      "provenance": [],
      "collapsed_sections": [],
      "include_colab_link": true
    },
    "language_info": {
      "name": "python"
    },
    "kernelspec": {
      "name": "python3",
      "display_name": "Python 3"
    }
  },
  "cells": [
    {
      "cell_type": "markdown",
      "metadata": {
        "id": "view-in-github",
        "colab_type": "text"
      },
      "source": [
        "<a href=\"https://colab.research.google.com/github/VitorMazziero/Princ-pios-de-Bioprocessos/blob/main/Aula_Python_Processos_fermentativos.ipynb\" target=\"_parent\"><img src=\"https://colab.research.google.com/assets/colab-badge.svg\" alt=\"Open In Colab\"/></a>"
      ]
    },
    {
      "metadata": {
        "id": "VmriwdpCr1MD"
      },
      "cell_type": "markdown",
      "source": [
        "#Introdução ao Python"
      ]
    },
    {
      "cell_type": "markdown",
      "metadata": {
        "id": "c7uQwVs79X-h"
      },
      "source": [
        "### Python"
      ]
    },
    {
      "cell_type": "markdown",
      "metadata": {
        "id": "PaNRpAhn9X-h"
      },
      "source": [
        "Python é uma linguagem de programação interpretada que foi lançada em 1991 e vem ganhando muitos adeptos por já ter uma forte comunidade que trabalha para o desenvolvimento de aplicações, utiliza o modelo comunitário de desenvolvimento e tem licença livre. "
      ]
    },
    {
      "cell_type": "markdown",
      "metadata": {
        "id": "__gMkhu89X-h"
      },
      "source": [
        "### Anaconda"
      ]
    },
    {
      "cell_type": "markdown",
      "metadata": {
        "id": "i17P1Q0J9X-h"
      },
      "source": [
        "Anaconda é um software de distribuição livre e de código aberto para as linguagens de programação em Python e R, Anaconda facilita muito o trabalho das pessoas que querem aprender a programar em Python ou R, pois já instala mais de 250 pacotes científicos para o usuário sem a necessidade instalação manual.\n",
        "\n",
        "Para instalação da Anaconda entre no site www.anaconda.com/downloads, escolha a versão do Python 3.6 ou 2.7, neste livro utilizaremos a versão 3.6\n",
        "\n",
        "Dentro do software Anaconda contém aplicações com interface gráfica para os usuários, onde facilitará o uso do Python ou R para os usuários.\n",
        "\n",
        "Uma destas aplicações é Jupyter Notebook é um ambiente gráfico para a programação em Python, R e Julia, que pode ser acessado online que o usuário pode programar mesmo online ou instalar o Jupyter Notebook em seu computador. O website é http://jupyter.org/.\n"
      ]
    },
    {
      "cell_type": "markdown",
      "metadata": {
        "id": "pFGh3ivx9X-i"
      },
      "source": [
        "### Comandos Básicos"
      ]
    },
    {
      "cell_type": "markdown",
      "metadata": {
        "id": "PB5HYO2J9X-j"
      },
      "source": [
        "Em Python a cerquilha (#) é utilizado para comentários do programa, tudo que vem posterior à cerquilha será ignorado pelo Python, serve apenas para explicar ou orientar o programador.\n",
        "A primeira função é o print, que tem a função de imprimir, então temos que escrever print e entres os parênteses colocar o que queremos que o Python imprima.\n"
      ]
    },
    {
      "cell_type": "code",
      "execution_count": null,
      "metadata": {
        "id": "k7sOIwv49X-j"
      },
      "outputs": [],
      "source": [
        "# Teste"
      ]
    },
    {
      "metadata": {
        "id": "rpUqzxRhm-Wk",
        "colab": {
          "base_uri": "https://localhost:8080/"
        },
        "outputId": "a5d3285c-1f10-4ea3-e499-10df26556a0a"
      },
      "cell_type": "code",
      "source": [
        "# Minha primeira frase\n",
        "print('Olá Mundo')"
      ],
      "execution_count": 85,
      "outputs": [
        {
          "output_type": "stream",
          "name": "stdout",
          "text": [
            "Olá Mundo\n"
          ]
        }
      ]
    },
    {
      "metadata": {
        "id": "XH40mBV4tArL",
        "colab": {
          "base_uri": "https://localhost:8080/"
        },
        "outputId": "c5fb9e8a-56b3-4fbe-dfbf-f7869c24a69e"
      },
      "cell_type": "code",
      "source": [
        "# Vamos tentar diferente\n",
        "a='Olá ' #necessita do espaço, senão ele irá unir sem o espaço entre eles, ficando tudo junto\n",
        "b=\"Python\" #entrada de dados\n",
        "print(a+b)"
      ],
      "execution_count": null,
      "outputs": [
        {
          "output_type": "stream",
          "name": "stdout",
          "text": [
            "Olá Python\n"
          ]
        }
      ]
    },
    {
      "metadata": {
        "id": "NQyjPyOluFhC",
        "colab": {
          "base_uri": "https://localhost:8080/"
        },
        "outputId": "b5ee39bf-4a84-4c3d-fa4e-4f0e360301f9"
      },
      "cell_type": "code",
      "source": [
        "print('@Deus ' + 'me ' + 'ajuda')"
      ],
      "execution_count": null,
      "outputs": [
        {
          "output_type": "stream",
          "name": "stdout",
          "text": [
            "@Deus me ajuda\n"
          ]
        }
      ]
    },
    {
      "metadata": {
        "id": "2IIG4pX8tyWt",
        "colab": {
          "base_uri": "https://localhost:8080/"
        },
        "outputId": "94d6121d-a721-49b0-ca72-1e32f8827092"
      },
      "cell_type": "code",
      "source": [
        "#Contas simples\n",
        "print(4+7)"
      ],
      "execution_count": null,
      "outputs": [
        {
          "output_type": "stream",
          "name": "stdout",
          "text": [
            "11\n"
          ]
        }
      ]
    },
    {
      "cell_type": "markdown",
      "metadata": {
        "id": "STchuWHP9X-m"
      },
      "source": [
        "Pode-se também realizar expressões mais complexas com os operadores básicos:\n",
        "\n",
        "Adição (+);\n",
        "\n",
        "Subtração (-) ;\n",
        "\n",
        "Multiplicação (*);\n",
        "\n",
        "Divisão (/)\n",
        "\n",
        "Exponenciação (**) ;\n",
        "\n",
        "Parte inteira da divisão (//)\n",
        "\n",
        "Resto da divisão (%)\n"
      ]
    },
    {
      "cell_type": "code",
      "execution_count": null,
      "metadata": {
        "id": "4yMNaRLO9X-m",
        "outputId": "f7c294f4-c784-496d-d983-9d0d20f22c0e",
        "colab": {
          "base_uri": "https://localhost:8080/"
        }
      },
      "outputs": [
        {
          "output_type": "execute_result",
          "data": {
            "text/plain": [
              "3"
            ]
          },
          "metadata": {},
          "execution_count": 48
        }
      ],
      "source": [
        "#Subtração\n",
        "7 - 4"
      ]
    },
    {
      "cell_type": "code",
      "execution_count": null,
      "metadata": {
        "id": "bIEtyNvc9X-m",
        "outputId": "2f138640-c47f-437b-ad9c-1c53fbda2754",
        "colab": {
          "base_uri": "https://localhost:8080/"
        }
      },
      "outputs": [
        {
          "output_type": "execute_result",
          "data": {
            "text/plain": [
              "10.0"
            ]
          },
          "metadata": {},
          "execution_count": 56
        }
      ],
      "source": [
        "# Divisão \n",
        "20 / 2"
      ]
    },
    {
      "cell_type": "code",
      "execution_count": null,
      "metadata": {
        "id": "za6znu4e9X-n",
        "outputId": "6a1846e0-ddbd-4db5-fd2b-7e749a928401",
        "colab": {
          "base_uri": "https://localhost:8080/"
        }
      },
      "outputs": [
        {
          "output_type": "execute_result",
          "data": {
            "text/plain": [
              "77"
            ]
          },
          "metadata": {},
          "execution_count": 50
        }
      ],
      "source": [
        "# Multiplicação\n",
        "11 * 7 "
      ]
    },
    {
      "cell_type": "code",
      "execution_count": null,
      "metadata": {
        "id": "Z3HQCkB79X-n",
        "outputId": "962365d3-2379-4a83-98de-bd54435ca61f",
        "colab": {
          "base_uri": "https://localhost:8080/"
        }
      },
      "outputs": [
        {
          "output_type": "execute_result",
          "data": {
            "text/plain": [
              "4"
            ]
          },
          "metadata": {},
          "execution_count": 59
        }
      ],
      "source": [
        "# Exponenciação\n",
        "2 ** 2"
      ]
    },
    {
      "cell_type": "code",
      "execution_count": null,
      "metadata": {
        "id": "VvmaxyqH9X-n",
        "outputId": "3ff63cbf-c8b8-44e3-b3ba-90fdb11d091b",
        "colab": {
          "base_uri": "https://localhost:8080/"
        }
      },
      "outputs": [
        {
          "output_type": "execute_result",
          "data": {
            "text/plain": [
              "5"
            ]
          },
          "metadata": {},
          "execution_count": 52
        }
      ],
      "source": [
        "# Divisão - Parte Inteira\n",
        "11 // 2"
      ]
    },
    {
      "cell_type": "code",
      "execution_count": null,
      "metadata": {
        "id": "jHfPezzj9X-o",
        "outputId": "6e9e67b2-936c-4491-df77-50c05b72fd4a",
        "colab": {
          "base_uri": "https://localhost:8080/"
        }
      },
      "outputs": [
        {
          "output_type": "execute_result",
          "data": {
            "text/plain": [
              "1"
            ]
          },
          "metadata": {},
          "execution_count": 61
        }
      ],
      "source": [
        "# Divisão - Resto\n",
        "13 % 2"
      ]
    },
    {
      "cell_type": "markdown",
      "source": [
        "### Tipos de Variáveis"
      ],
      "metadata": {
        "id": "OprRXFm6Bi-U"
      }
    },
    {
      "cell_type": "markdown",
      "metadata": {
        "id": "YRC2VSty9X-o"
      },
      "source": [
        "Existem alguns padrões de tipos de dados em Python, que são padrões de dados reconhecidos pela linguagem de programação, normalmente quando possíveis eles são mutáveis, dentro dos padrões numéricos existentes alguns tipos, que são os números inteiros (‘int’), números decimais (‘float’), números complexos (‘complex’) e um subitem dos números inteiros são os booleanos (‘bool’), este último está relacionado com Verdadeiro (‘True’) e Falso (‘False’), o valor Verdadeiro também recebe o valor de 1, e o valor Falso recebe 0.\n",
        "\n",
        "As saídas do exemplo anterior já foram classificadas automaticamente os tipos de dados de acordo com a sua entrada.\n",
        "\n",
        "O comando type retorna o tipo de padrão de dados que a Python classificou.\n"
      ]
    },
    {
      "cell_type": "code",
      "execution_count": null,
      "metadata": {
        "id": "MTBxzevU9X-o",
        "outputId": "83d9f154-e0b2-4f47-df8c-930a8efc579f",
        "colab": {
          "base_uri": "https://localhost:8080/"
        }
      },
      "outputs": [
        {
          "output_type": "stream",
          "name": "stdout",
          "text": [
            "<class 'int'>\n"
          ]
        }
      ],
      "source": [
        "a = 7 - 4 \n",
        "print(type(a))"
      ]
    },
    {
      "cell_type": "code",
      "execution_count": null,
      "metadata": {
        "id": "TtabHyFK9X-p",
        "outputId": "bc56e825-b38c-4480-fa4f-32c5ee1ee712",
        "colab": {
          "base_uri": "https://localhost:8080/"
        }
      },
      "outputs": [
        {
          "output_type": "stream",
          "name": "stdout",
          "text": [
            "<class 'float'>\n"
          ]
        }
      ],
      "source": [
        "b = 7 - 4.2\n",
        "print(type(b))"
      ]
    },
    {
      "cell_type": "code",
      "execution_count": null,
      "metadata": {
        "id": "k6oOdWye9X-q",
        "outputId": "4cea2cb4-68bd-4375-c973-8bbccb1b20d7",
        "colab": {
          "base_uri": "https://localhost:8080/"
        }
      },
      "outputs": [
        {
          "output_type": "stream",
          "name": "stdout",
          "text": [
            "<class 'str'>\n"
          ]
        }
      ],
      "source": [
        "c = \"quatro\"\n",
        "print(type(c))"
      ]
    },
    {
      "cell_type": "code",
      "execution_count": null,
      "metadata": {
        "id": "_W2J-PhW9X-q",
        "outputId": "4fe9cd14-323d-4d00-e357-59e3864ea58c",
        "colab": {
          "base_uri": "https://localhost:8080/"
        }
      },
      "outputs": [
        {
          "output_type": "stream",
          "name": "stdout",
          "text": [
            "<class 'complex'>\n"
          ]
        }
      ],
      "source": [
        "d = 4 + 2j\n",
        "print(type(d))"
      ]
    },
    {
      "cell_type": "code",
      "execution_count": null,
      "metadata": {
        "id": "EQOmUpQp9X-q",
        "outputId": "f7cfb462-2cfd-47d8-f26f-39d4d69797c0",
        "colab": {
          "base_uri": "https://localhost:8080/"
        }
      },
      "outputs": [
        {
          "output_type": "stream",
          "name": "stdout",
          "text": [
            "<class 'bool'>\n"
          ]
        }
      ],
      "source": [
        "e = False\n",
        "print(type(e))"
      ]
    },
    {
      "cell_type": "markdown",
      "source": [
        "### Transformação entre tipos"
      ],
      "metadata": {
        "id": "QTeH_y-rBtqk"
      }
    },
    {
      "cell_type": "code",
      "execution_count": null,
      "metadata": {
        "id": "lwJkDuBX9X-q",
        "outputId": "ba4c0c1c-5bde-4010-edf0-20e18ef41b17",
        "colab": {
          "base_uri": "https://localhost:8080/"
        }
      },
      "outputs": [
        {
          "output_type": "stream",
          "name": "stdout",
          "text": [
            "5.35\n",
            "5\n"
          ]
        }
      ],
      "source": [
        "a = 2.1\n",
        "b = 3.25\n",
        "\n",
        "c = int(a)\n",
        "d = int(b)\n",
        "print (a + b)\n",
        "print (c + d)"
      ]
    },
    {
      "cell_type": "code",
      "source": [
        "e = 4\n",
        "f = float(c)\n",
        "\n",
        "# Consegue fazer operação entre float e int mas é indicado transformar no mesmo tipo\n",
        "print (e)\n",
        "print (f)\n",
        "print (e + f)"
      ],
      "metadata": {
        "colab": {
          "base_uri": "https://localhost:8080/"
        },
        "id": "2uJGQT5eONUo",
        "outputId": "fcfae9db-ccc7-46fe-b314-40a6c08ddf60"
      },
      "execution_count": null,
      "outputs": [
        {
          "output_type": "stream",
          "name": "stdout",
          "text": [
            "4\n",
            "2.0\n",
            "6.0\n"
          ]
        }
      ]
    },
    {
      "cell_type": "code",
      "source": [
        "print ('Tipo de a:', type(a))\n",
        "print ('Tipo de b:', type(b))\n",
        "print ('Tipo de c:', type(c))\n",
        "print ('Tipo de d:', type(d))\n",
        "print ('Tipo de e:', type(e))\n",
        "print ('Tipo de f:', type(f))"
      ],
      "metadata": {
        "colab": {
          "base_uri": "https://localhost:8080/"
        },
        "id": "qU1QGLR0NDXg",
        "outputId": "534c494b-9fb2-43c0-a7fa-ba40bde4255f"
      },
      "execution_count": null,
      "outputs": [
        {
          "output_type": "stream",
          "name": "stdout",
          "text": [
            "Tipo de a: <class 'float'>\n",
            "Tipo de b: <class 'float'>\n",
            "Tipo de c: <class 'int'>\n",
            "Tipo de d: <class 'int'>\n",
            "Tipo de e: <class 'int'>\n",
            "Tipo de f: <class 'float'>\n"
          ]
        }
      ]
    },
    {
      "cell_type": "markdown",
      "metadata": {
        "id": "wfJc1WG69X-2"
      },
      "source": [
        "### Sequência de execução"
      ]
    },
    {
      "cell_type": "markdown",
      "metadata": {
        "id": "s5ZDxOem9X-3"
      },
      "source": [
        "Um programa é executado linha por linha pelo computador, executando as operações descritas no programa uma após a outra. Quando trabalhamos com variáveis, devemos lembrar de que o conteúdo de uma variável pode variar com o tempo."
      ]
    },
    {
      "cell_type": "code",
      "execution_count": null,
      "metadata": {
        "id": "UGvsBmyU9X-3",
        "outputId": "64f10fc3-6622-4197-d0ba-e0434c765585"
      },
      "outputs": [
        {
          "name": "stdout",
          "output_type": "stream",
          "text": [
            "765\n"
          ]
        }
      ],
      "source": [
        "divida = 0\n",
        "compra = 200\n",
        "divida = divida + compra\n",
        "compra = 250\n",
        "divida = divida + compra\n",
        "compra = 315\n",
        "divida = divida + compra\n",
        "compra = 0\n",
        "print(divida)"
      ]
    },
    {
      "cell_type": "code",
      "source": [
        "x=1\n",
        "x+=1\n",
        "print(x)"
      ],
      "metadata": {
        "colab": {
          "base_uri": "https://localhost:8080/"
        },
        "id": "GHhIuWq7jXpP",
        "outputId": "b829a498-3edb-411c-a500-abac4049a2b1"
      },
      "execution_count": null,
      "outputs": [
        {
          "output_type": "stream",
          "name": "stdout",
          "text": [
            "2\n"
          ]
        }
      ]
    },
    {
      "cell_type": "markdown",
      "metadata": {
        "id": "ERti2e8g9X-3"
      },
      "source": [
        "### Entrada de dados"
      ]
    },
    {
      "cell_type": "code",
      "execution_count": null,
      "metadata": {
        "id": "YQmmHLvk9X-3",
        "outputId": "e2f1f7ce-7be1-492e-e517-cb84d0437136"
      },
      "outputs": [
        {
          "name": "stdout",
          "output_type": "stream",
          "text": [
            "Qual é o seu nome?Marcel\n",
            "Olá Marcel\n"
          ]
        }
      ],
      "source": [
        "nome = input(\"Qual é o seu nome?\")\n",
        "print(\"Olá \"+ nome)"
      ]
    },
    {
      "cell_type": "code",
      "execution_count": null,
      "metadata": {
        "id": "jlHyQp-U9X-3",
        "outputId": "f097a728-9f65-4513-ca90-2276adee91d3"
      },
      "outputs": [
        {
          "name": "stdout",
          "output_type": "stream",
          "text": [
            "Digite um número: 12\n",
            "12\n"
          ]
        }
      ],
      "source": [
        "x = input(\"Digite um número: \")\n",
        "print(x)"
      ]
    },
    {
      "cell_type": "markdown",
      "source": [
        "### Programa - Cálculo de aumento de salário"
      ],
      "metadata": {
        "id": "zADY5DgfB23N"
      }
    },
    {
      "cell_type": "markdown",
      "source": [
        "Aumento de salário por um percentual"
      ],
      "metadata": {
        "id": "EnVZba-uB4rr"
      }
    },
    {
      "cell_type": "code",
      "execution_count": null,
      "metadata": {
        "id": "Ibxi8EDz9X-r",
        "outputId": "25086469-3846-44ee-cc82-5c30e59430ce",
        "colab": {
          "base_uri": "https://localhost:8080/"
        }
      },
      "outputs": [
        {
          "output_type": "stream",
          "name": "stdout",
          "text": [
            "Salário: 3500\n",
            "3683.75\n"
          ]
        }
      ],
      "source": [
        "# sal = salário, aum = aumento, n_sal = novo salário\n",
        "# Transformar para Float porque a entrada é string\n",
        "sal = float(input(\"Salário: \"))\n",
        "aum = 5.25\n",
        "n_sal = sal + (sal * (aum/100))\n",
        "print(n_sal)"
      ]
    },
    {
      "cell_type": "markdown",
      "source": [
        "###Exercício 1"
      ],
      "metadata": {
        "id": "ukIrry0ZDvFV"
      }
    },
    {
      "cell_type": "markdown",
      "metadata": {
        "id": "tr7517WM9X-6"
      },
      "source": [
        "1 - Escreva um programa que converta uma temperatura digitada em graus Celsius para graus Fahrenheit."
      ]
    },
    {
      "cell_type": "markdown",
      "source": [
        "$F=(C*9/5)+32$"
      ],
      "metadata": {
        "id": "c5Q1qweyEwbH"
      }
    },
    {
      "cell_type": "code",
      "execution_count": null,
      "metadata": {
        "id": "nfarIg7P9X-7",
        "outputId": "5a45a540-7c81-411c-fe79-008e533ae803"
      },
      "outputs": [
        {
          "name": "stdout",
          "output_type": "stream",
          "text": [
            "Entre com o valor em graus Celsius: 35\n",
            "A Temperatura em graus Fahrenheit é 95.0\n"
          ]
        }
      ],
      "source": [
        "# Exercício 1 - Converte graus Celsius em Fahrenheit\n",
        "C = float(input(\"Entre com o valor em graus Celsius: \"))\n",
        "F = ((9 * C)/5)+32\n",
        "print(\"A Temperatura em graus Fahrenheit é {}\".format(F))\n"
      ]
    },
    {
      "cell_type": "markdown",
      "source": [
        "###Exercício 2"
      ],
      "metadata": {
        "id": "mJBc58-F0MQE"
      }
    },
    {
      "cell_type": "markdown",
      "source": [
        "2 - Faça um programa que receba (entrada de dados) o valor correspondente ao lado de um quadrado, calcule e imprima (saída de dados) seu perímetro e sua área."
      ],
      "metadata": {
        "id": "w_rSr8730Whe"
      }
    },
    {
      "cell_type": "code",
      "execution_count": null,
      "metadata": {
        "id": "yY9a238h9X-7",
        "outputId": "50d7025e-ee0e-403a-dd9c-c09007b736c6",
        "colab": {
          "base_uri": "https://localhost:8080/"
        }
      },
      "outputs": [
        {
          "output_type": "stream",
          "name": "stdout",
          "text": [
            "Entre com o valor do lado do quadrado 85\n",
            "Perímetro: 340 \n",
            "Área: 7225\n"
          ]
        }
      ],
      "source": [
        "#Exercício 2 - Calcula o perímetro e área de um quadrado de lado l\n",
        "\n",
        "L = input(\"Entre com o valor do lado do quadrado \")\n",
        "L = int(L)\n",
        "\n",
        "x = L*4\n",
        "y = L**2\n",
        "\n",
        "print('Perímetro:', x, '\\nÁrea:', y)"
      ]
    },
    {
      "cell_type": "markdown",
      "source": [
        "##Operadores"
      ],
      "metadata": {
        "id": "VUlTTfKjWaCj"
      }
    },
    {
      "cell_type": "markdown",
      "source": [
        "### Operadores relacionais"
      ],
      "metadata": {
        "id": "REQ3p9YOB-_c"
      }
    },
    {
      "cell_type": "code",
      "execution_count": null,
      "metadata": {
        "id": "5lppkipb9X-s"
      },
      "outputs": [],
      "source": [
        "a = 1\n",
        "b = 5 \n",
        "c = 2\n",
        "d = 1 "
      ]
    },
    {
      "cell_type": "code",
      "execution_count": null,
      "metadata": {
        "id": "OA5wUOI39X-s",
        "outputId": "feda3baa-bdba-4ca7-e3f9-55c4530a9f86"
      },
      "outputs": [
        {
          "data": {
            "text/plain": [
              "False"
            ]
          },
          "execution_count": 64,
          "metadata": {},
          "output_type": "execute_result"
        }
      ],
      "source": [
        "a == b # a é igual a b?"
      ]
    },
    {
      "cell_type": "code",
      "execution_count": null,
      "metadata": {
        "id": "ARcE-6oP9X-t",
        "outputId": "d73f4766-2aa8-4ca8-da88-e58dd4ced8f8"
      },
      "outputs": [
        {
          "data": {
            "text/plain": [
              "True"
            ]
          },
          "execution_count": 70,
          "metadata": {},
          "output_type": "execute_result"
        }
      ],
      "source": [
        "d != b # d é diferente de b?"
      ]
    },
    {
      "cell_type": "code",
      "execution_count": null,
      "metadata": {
        "id": "_lfEDakH9X-t",
        "outputId": "69e26b34-ff46-414b-8189-168253fab144"
      },
      "outputs": [
        {
          "data": {
            "text/plain": [
              "False"
            ]
          },
          "execution_count": 69,
          "metadata": {},
          "output_type": "execute_result"
        }
      ],
      "source": [
        "d != a # d é diferente de a ?"
      ]
    },
    {
      "cell_type": "code",
      "execution_count": null,
      "metadata": {
        "id": "lMKduT299X-s",
        "outputId": "1d300327-c609-4ff5-a7ac-1d07a3e25b81"
      },
      "outputs": [
        {
          "data": {
            "text/plain": [
              "True"
            ]
          },
          "execution_count": 65,
          "metadata": {},
          "output_type": "execute_result"
        }
      ],
      "source": [
        "a < b # a é menor que b?"
      ]
    },
    {
      "cell_type": "code",
      "execution_count": null,
      "metadata": {
        "id": "x-pBig4D9X-t",
        "outputId": "469ca8e7-9755-4c7a-b50a-3fae6b2f184e"
      },
      "outputs": [
        {
          "data": {
            "text/plain": [
              "True"
            ]
          },
          "execution_count": 66,
          "metadata": {},
          "output_type": "execute_result"
        }
      ],
      "source": [
        "b > a # b é maior que a?"
      ]
    },
    {
      "cell_type": "markdown",
      "metadata": {
        "id": "n-n-J5509X-u"
      },
      "source": [
        "### Operadores lógicos"
      ]
    },
    {
      "cell_type": "code",
      "execution_count": null,
      "metadata": {
        "id": "60wBx3W19X-u",
        "outputId": "ed0dc4d8-7b12-4051-fae1-0628a778ff7d"
      },
      "outputs": [
        {
          "data": {
            "text/plain": [
              "False"
            ]
          },
          "execution_count": 71,
          "metadata": {},
          "output_type": "execute_result"
        }
      ],
      "source": [
        "not True"
      ]
    },
    {
      "cell_type": "code",
      "execution_count": null,
      "metadata": {
        "id": "B08RXpm49X-u",
        "outputId": "2385f768-90b8-4482-ddfb-612a9b60895c"
      },
      "outputs": [
        {
          "data": {
            "text/plain": [
              "True"
            ]
          },
          "execution_count": 72,
          "metadata": {},
          "output_type": "execute_result"
        }
      ],
      "source": [
        "not False"
      ]
    },
    {
      "cell_type": "code",
      "execution_count": null,
      "metadata": {
        "id": "IE5FSxM69X-u",
        "outputId": "c76983b9-2969-40aa-8560-7b4cc9fc4d97"
      },
      "outputs": [
        {
          "data": {
            "text/plain": [
              "True"
            ]
          },
          "execution_count": 73,
          "metadata": {},
          "output_type": "execute_result"
        }
      ],
      "source": [
        "True and True"
      ]
    },
    {
      "cell_type": "code",
      "execution_count": null,
      "metadata": {
        "id": "uHE8av5R9X-v",
        "outputId": "1942be26-7ab3-443b-b217-0bc64cd3f76e"
      },
      "outputs": [
        {
          "data": {
            "text/plain": [
              "False"
            ]
          },
          "execution_count": 74,
          "metadata": {},
          "output_type": "execute_result"
        }
      ],
      "source": [
        "True and False"
      ]
    },
    {
      "cell_type": "code",
      "execution_count": null,
      "metadata": {
        "id": "Rt9qnFhu9X-v",
        "outputId": "abe2cec2-9c64-4b5f-e341-7fdebc897bcf"
      },
      "outputs": [
        {
          "data": {
            "text/plain": [
              "False"
            ]
          },
          "execution_count": 75,
          "metadata": {},
          "output_type": "execute_result"
        }
      ],
      "source": [
        "False and False"
      ]
    },
    {
      "cell_type": "code",
      "execution_count": null,
      "metadata": {
        "id": "dNYkvlQx9X-v",
        "outputId": "c43904fc-4927-4d8e-f3c1-82483eec2563"
      },
      "outputs": [
        {
          "data": {
            "text/plain": [
              "False"
            ]
          },
          "execution_count": 76,
          "metadata": {},
          "output_type": "execute_result"
        }
      ],
      "source": [
        "False and True"
      ]
    },
    {
      "cell_type": "code",
      "execution_count": null,
      "metadata": {
        "id": "StOM-XE59X-v",
        "outputId": "e084ffc3-ae67-4a89-a4cc-96cfd28c8183"
      },
      "outputs": [
        {
          "data": {
            "text/plain": [
              "True"
            ]
          },
          "execution_count": 77,
          "metadata": {},
          "output_type": "execute_result"
        }
      ],
      "source": [
        "True or False"
      ]
    },
    {
      "cell_type": "code",
      "execution_count": null,
      "metadata": {
        "id": "o0Z925ql9X-v",
        "outputId": "1dded5e7-23a9-4b78-dca1-829f2d0a46d1"
      },
      "outputs": [
        {
          "data": {
            "text/plain": [
              "True"
            ]
          },
          "execution_count": 78,
          "metadata": {},
          "output_type": "execute_result"
        }
      ],
      "source": [
        "True or True"
      ]
    },
    {
      "cell_type": "code",
      "execution_count": null,
      "metadata": {
        "id": "-uYhI63q9X-w",
        "outputId": "e6519789-4ad5-45c4-90c5-69f895a8c657"
      },
      "outputs": [
        {
          "data": {
            "text/plain": [
              "True"
            ]
          },
          "execution_count": 79,
          "metadata": {},
          "output_type": "execute_result"
        }
      ],
      "source": [
        "False or True"
      ]
    },
    {
      "cell_type": "code",
      "execution_count": null,
      "metadata": {
        "id": "zfG_YGT19X-w",
        "outputId": "ff234f8b-0747-4a41-ab4b-ef5529a405cb"
      },
      "outputs": [
        {
          "data": {
            "text/plain": [
              "False"
            ]
          },
          "execution_count": 80,
          "metadata": {},
          "output_type": "execute_result"
        }
      ],
      "source": [
        "False or False"
      ]
    },
    {
      "cell_type": "markdown",
      "metadata": {
        "id": "uEAwNbEL9X-w"
      },
      "source": [
        "Teste que o salário tem que ser maior que 1000 e ter idade maior que 18 anos"
      ]
    },
    {
      "cell_type": "code",
      "execution_count": null,
      "metadata": {
        "id": "Jl2Vpl8X9X-w",
        "outputId": "dd1ecfcc-34cf-4f78-de9c-5a46895cc675"
      },
      "outputs": [
        {
          "data": {
            "text/plain": [
              "True"
            ]
          },
          "execution_count": 81,
          "metadata": {},
          "output_type": "execute_result"
        }
      ],
      "source": [
        "salario = 1500\n",
        "idade = 18\n",
        "salario > 1000 and idade >= 18"
      ]
    },
    {
      "cell_type": "code",
      "execution_count": null,
      "metadata": {
        "id": "JjRg41rf9X-w",
        "outputId": "074d4971-904d-4a78-f36c-f48783daea64"
      },
      "outputs": [
        {
          "data": {
            "text/plain": [
              "False"
            ]
          },
          "execution_count": 82,
          "metadata": {},
          "output_type": "execute_result"
        }
      ],
      "source": [
        "salario = 1500\n",
        "idade = 17\n",
        "salario > 1000 and idade >= 18"
      ]
    },
    {
      "cell_type": "markdown",
      "source": [
        "##String"
      ],
      "metadata": {
        "id": "PbhEV09QWfOD"
      }
    },
    {
      "cell_type": "markdown",
      "metadata": {
        "id": "LxGBySa89X-x"
      },
      "source": [
        "### Variáveis string"
      ]
    },
    {
      "cell_type": "markdown",
      "metadata": {
        "id": "wy641FXV9X-x"
      },
      "source": [
        "A função len retorna o tamanho da string, um número inteiro, para ver a documentação aperte o botão shift + Tab"
      ]
    },
    {
      "cell_type": "code",
      "execution_count": null,
      "metadata": {
        "scrolled": true,
        "id": "55crMaKn9X-x",
        "outputId": "cf17822d-984a-4fab-eb6f-5dd1870a97e1",
        "colab": {
          "base_uri": "https://localhost:8080/"
        }
      },
      "outputs": [
        {
          "output_type": "execute_result",
          "data": {
            "text/plain": [
              "1"
            ]
          },
          "metadata": {},
          "execution_count": 97
        }
      ],
      "source": [
        "len(\"A\")"
      ]
    },
    {
      "cell_type": "code",
      "execution_count": null,
      "metadata": {
        "id": "83St_51d9X-x",
        "outputId": "776d33d7-ca3a-4ce2-b821-e68ca19417bc",
        "colab": {
          "base_uri": "https://localhost:8080/"
        }
      },
      "outputs": [
        {
          "output_type": "execute_result",
          "data": {
            "text/plain": [
              "2"
            ]
          },
          "metadata": {},
          "execution_count": 98
        }
      ],
      "source": [
        "len(\"AB\")"
      ]
    },
    {
      "cell_type": "code",
      "execution_count": null,
      "metadata": {
        "id": "QiHYei2r9X-x",
        "outputId": "8a85b967-5d41-4ae8-f489-6bb74199dde2",
        "colab": {
          "base_uri": "https://localhost:8080/"
        }
      },
      "outputs": [
        {
          "output_type": "execute_result",
          "data": {
            "text/plain": [
              "19"
            ]
          },
          "metadata": {},
          "execution_count": 99
        }
      ],
      "source": [
        "len(\"o rato roeu a roupa\")"
      ]
    },
    {
      "cell_type": "code",
      "execution_count": null,
      "metadata": {
        "id": "TSnrfRvz9X-x"
      },
      "outputs": [],
      "source": [
        "a = \"ABCDEF\""
      ]
    },
    {
      "cell_type": "code",
      "execution_count": null,
      "metadata": {
        "id": "HJoFFZSg9X-x",
        "outputId": "7aa4ce2b-cfb6-452f-a46e-a1b4d05a4115",
        "colab": {
          "base_uri": "https://localhost:8080/",
          "height": 35
        }
      },
      "outputs": [
        {
          "output_type": "execute_result",
          "data": {
            "text/plain": [
              "'A'"
            ],
            "application/vnd.google.colaboratory.intrinsic+json": {
              "type": "string"
            }
          },
          "metadata": {},
          "execution_count": 101
        }
      ],
      "source": [
        "a[0]"
      ]
    },
    {
      "cell_type": "code",
      "execution_count": null,
      "metadata": {
        "id": "DPFLZ7uh9X-y",
        "outputId": "eec8c103-308c-4887-9be2-ee7d79c1a1f3",
        "colab": {
          "base_uri": "https://localhost:8080/",
          "height": 35
        }
      },
      "outputs": [
        {
          "output_type": "execute_result",
          "data": {
            "text/plain": [
              "'B'"
            ],
            "application/vnd.google.colaboratory.intrinsic+json": {
              "type": "string"
            }
          },
          "metadata": {},
          "execution_count": 102
        }
      ],
      "source": [
        "a[1]"
      ]
    },
    {
      "cell_type": "code",
      "execution_count": null,
      "metadata": {
        "id": "dhSAWV2h9X-y",
        "outputId": "54a0bd14-c9ef-4ffd-dcff-cd63ad936433",
        "colab": {
          "base_uri": "https://localhost:8080/",
          "height": 169
        }
      },
      "outputs": [
        {
          "output_type": "error",
          "ename": "IndexError",
          "evalue": "ignored",
          "traceback": [
            "\u001b[0;31m---------------------------------------------------------------------------\u001b[0m",
            "\u001b[0;31mIndexError\u001b[0m                                Traceback (most recent call last)",
            "\u001b[0;32m<ipython-input-103-84c1e027215d>\u001b[0m in \u001b[0;36m<module>\u001b[0;34m\u001b[0m\n\u001b[0;32m----> 1\u001b[0;31m \u001b[0ma\u001b[0m\u001b[0;34m[\u001b[0m\u001b[0;36m6\u001b[0m\u001b[0;34m]\u001b[0m\u001b[0;34m\u001b[0m\u001b[0;34m\u001b[0m\u001b[0m\n\u001b[0m",
            "\u001b[0;31mIndexError\u001b[0m: string index out of range"
          ]
        }
      ],
      "source": [
        "a[6]"
      ]
    },
    {
      "cell_type": "code",
      "execution_count": null,
      "metadata": {
        "id": "UAWBHQoK9X-y",
        "colab": {
          "base_uri": "https://localhost:8080/",
          "height": 35
        },
        "outputId": "8ee945c5-1c29-42fe-c9df-04c389d43a33"
      },
      "outputs": [
        {
          "output_type": "execute_result",
          "data": {
            "text/plain": [
              "'F'"
            ],
            "application/vnd.google.colaboratory.intrinsic+json": {
              "type": "string"
            }
          },
          "metadata": {},
          "execution_count": 104
        }
      ],
      "source": [
        "a[-1]"
      ]
    },
    {
      "cell_type": "code",
      "execution_count": null,
      "metadata": {
        "id": "m6lkd7Hk9X-y",
        "colab": {
          "base_uri": "https://localhost:8080/",
          "height": 35
        },
        "outputId": "b0b18eee-4f2c-44ae-9b58-0d0e8664f339"
      },
      "outputs": [
        {
          "output_type": "execute_result",
          "data": {
            "text/plain": [
              "'E'"
            ],
            "application/vnd.google.colaboratory.intrinsic+json": {
              "type": "string"
            }
          },
          "metadata": {},
          "execution_count": 105
        }
      ],
      "source": [
        "a[-2]"
      ]
    },
    {
      "cell_type": "code",
      "execution_count": null,
      "metadata": {
        "id": "H_h9yJj29X-y",
        "colab": {
          "base_uri": "https://localhost:8080/",
          "height": 35
        },
        "outputId": "604b4420-3415-41ab-bc33-4c68a482da3b"
      },
      "outputs": [
        {
          "output_type": "execute_result",
          "data": {
            "text/plain": [
              "'ABCDEF'"
            ],
            "application/vnd.google.colaboratory.intrinsic+json": {
              "type": "string"
            }
          },
          "metadata": {},
          "execution_count": 106
        }
      ],
      "source": [
        "a[:]"
      ]
    },
    {
      "cell_type": "code",
      "execution_count": null,
      "metadata": {
        "id": "jVQNlU3e9X-z",
        "colab": {
          "base_uri": "https://localhost:8080/",
          "height": 35
        },
        "outputId": "4cf26d61-b41c-4c1c-f977-2331112f1c6b"
      },
      "outputs": [
        {
          "output_type": "execute_result",
          "data": {
            "text/plain": [
              "'ABCDEF'"
            ],
            "application/vnd.google.colaboratory.intrinsic+json": {
              "type": "string"
            }
          },
          "metadata": {},
          "execution_count": 107
        }
      ],
      "source": [
        "a[0:6]"
      ]
    },
    {
      "cell_type": "code",
      "execution_count": null,
      "metadata": {
        "id": "Wfk882Gq9X-z",
        "colab": {
          "base_uri": "https://localhost:8080/",
          "height": 35
        },
        "outputId": "bb458138-c861-4bdd-faa7-dcf887ebc03e"
      },
      "outputs": [
        {
          "output_type": "execute_result",
          "data": {
            "text/plain": [
              "'ABC'"
            ],
            "application/vnd.google.colaboratory.intrinsic+json": {
              "type": "string"
            }
          },
          "metadata": {},
          "execution_count": 108
        }
      ],
      "source": [
        "a[0:3]"
      ]
    },
    {
      "cell_type": "code",
      "execution_count": null,
      "metadata": {
        "id": "dUcy2kyH9X-z",
        "colab": {
          "base_uri": "https://localhost:8080/",
          "height": 35
        },
        "outputId": "facbee99-7e55-4783-9af8-9b7111eca6fb"
      },
      "outputs": [
        {
          "output_type": "execute_result",
          "data": {
            "text/plain": [
              "'CDEF'"
            ],
            "application/vnd.google.colaboratory.intrinsic+json": {
              "type": "string"
            }
          },
          "metadata": {},
          "execution_count": 109
        }
      ],
      "source": [
        "a[2:6]"
      ]
    },
    {
      "cell_type": "markdown",
      "metadata": {
        "id": "LlKKLkgg9X-z"
      },
      "source": [
        "### Concatenação"
      ]
    },
    {
      "cell_type": "code",
      "execution_count": null,
      "metadata": {
        "id": "_i5jLgJ59X-0",
        "outputId": "ea7f28c1-991e-4f63-af1d-ecc8ef092006"
      },
      "outputs": [
        {
          "data": {
            "text/plain": [
              "'ABCC'"
            ]
          },
          "execution_count": 2,
          "metadata": {},
          "output_type": "execute_result"
        }
      ],
      "source": [
        "s = \"ABC\"\n",
        "s + \"C\""
      ]
    },
    {
      "cell_type": "code",
      "execution_count": null,
      "metadata": {
        "id": "jCgprbTv9X-0",
        "outputId": "823e0675-19ea-4d8f-f97b-cc947ee6f7b6"
      },
      "outputs": [
        {
          "data": {
            "text/plain": [
              "'ABCDDDD'"
            ]
          },
          "execution_count": 3,
          "metadata": {},
          "output_type": "execute_result"
        }
      ],
      "source": [
        "s + \"D\" * 4"
      ]
    },
    {
      "cell_type": "code",
      "execution_count": null,
      "metadata": {
        "id": "LO294iWh9X-0",
        "outputId": "a833df8d-abd1-4909-d6bc-bd9061fda235"
      },
      "outputs": [
        {
          "data": {
            "text/plain": [
              "'X----------X'"
            ]
          },
          "execution_count": 4,
          "metadata": {},
          "output_type": "execute_result"
        }
      ],
      "source": [
        "\"X\"+ \"-\"*10 + \"X\""
      ]
    },
    {
      "cell_type": "markdown",
      "metadata": {
        "id": "3zV2Fddp9X-0"
      },
      "source": [
        "Esta forma de concatenação só pode ser utilizado por strings"
      ]
    },
    {
      "cell_type": "markdown",
      "metadata": {
        "id": "W-lsvhu29X-0"
      },
      "source": [
        "### Composição"
      ]
    },
    {
      "cell_type": "code",
      "execution_count": null,
      "metadata": {
        "id": "GbjHRp0F9X-1",
        "outputId": "089ab7e5-9a99-472d-a6e4-5457982c19ea"
      },
      "outputs": [
        {
          "data": {
            "text/plain": [
              "'João tem 39 anos'"
            ]
          },
          "execution_count": 5,
          "metadata": {},
          "output_type": "execute_result"
        }
      ],
      "source": [
        "idade = 39\n",
        "\"João tem %d anos\" % idade #estamos inserindo %d para um valor inteiro"
      ]
    },
    {
      "cell_type": "code",
      "execution_count": null,
      "metadata": {
        "id": "FWdJolsz9X-1",
        "outputId": "b55ead9f-f457-4fb4-e106-74729ca15802"
      },
      "outputs": [
        {
          "data": {
            "text/plain": [
              "'João tem 39.000000 anos'"
            ]
          },
          "execution_count": 6,
          "metadata": {},
          "output_type": "execute_result"
        }
      ],
      "source": [
        "idade = 39\n",
        "\"João tem %f anos\" % idade # estamos inserindo %f para um valor flutuante"
      ]
    },
    {
      "cell_type": "code",
      "execution_count": null,
      "metadata": {
        "id": "fHjXKLyL9X-1",
        "outputId": "ccb59281-813c-42a2-9545-12a5c283bd82",
        "colab": {
          "base_uri": "https://localhost:8080/",
          "height": 35
        }
      },
      "outputs": [
        {
          "output_type": "execute_result",
          "data": {
            "text/plain": [
              "'João tem 39.00 anos'"
            ],
            "application/vnd.google.colaboratory.intrinsic+json": {
              "type": "string"
            }
          },
          "metadata": {},
          "execution_count": 4
        }
      ],
      "source": [
        "idade = 39\n",
        "\"João tem %.2f anos\" % idade # estamos inserindo %f para um valor flutuante"
      ]
    },
    {
      "cell_type": "code",
      "execution_count": null,
      "metadata": {
        "id": "MxSlGFG39X-1",
        "outputId": "2ae1c082-33fe-42e8-e840-5d5d21b9667b"
      },
      "outputs": [
        {
          "data": {
            "text/plain": [
              "'João tem 39 anos'"
            ]
          },
          "execution_count": 8,
          "metadata": {},
          "output_type": "execute_result"
        }
      ],
      "source": [
        "nome = \"João\"\n",
        "idade = 39\n",
        "\"%s tem %d anos\" % (nome,idade) # estamos inserindo %s para um string"
      ]
    },
    {
      "cell_type": "code",
      "execution_count": null,
      "metadata": {
        "id": "WahxppRU9X-1",
        "outputId": "665cef0e-6253-4c75-f676-2123f3926e3a"
      },
      "outputs": [
        {
          "data": {
            "text/plain": [
              "'João tem 39 anos e R$ 60.59 no bolso'"
            ]
          },
          "execution_count": 9,
          "metadata": {},
          "output_type": "execute_result"
        }
      ],
      "source": [
        "nome = \"João\"\n",
        "idade = 39\n",
        "grana = 60.59\n",
        "\"%s tem %d anos e R$ %2.2f no bolso\" %(nome,idade, grana)"
      ]
    },
    {
      "cell_type": "markdown",
      "metadata": {
        "id": "Pq0hE_Mv9X-2"
      },
      "source": [
        "Forma mais moderna para compor a frase é utilizando format"
      ]
    },
    {
      "cell_type": "code",
      "execution_count": null,
      "metadata": {
        "id": "iUH2chGM9X-2",
        "outputId": "31d7ec2c-c2ab-4b74-f2b3-4da384a9dee5"
      },
      "outputs": [
        {
          "data": {
            "text/plain": [
              "'João tem 39 anos e R$ 60.59 no bolso'"
            ]
          },
          "execution_count": 10,
          "metadata": {},
          "output_type": "execute_result"
        }
      ],
      "source": [
        "nome = \"João\"\n",
        "idade = 39\n",
        "grana = 60.59\n",
        "\"{} tem {} anos e R$ {} no bolso\" .format(nome , idade , grana)"
      ]
    },
    {
      "cell_type": "code",
      "execution_count": null,
      "metadata": {
        "id": "LM9Z4X5a9X-2",
        "outputId": "f8df705f-d77b-43d6-b442-8371dc730653"
      },
      "outputs": [
        {
          "data": {
            "text/plain": [
              "'João tem 39 anos e R$ 60.59 no bolso'"
            ]
          },
          "execution_count": 11,
          "metadata": {},
          "output_type": "execute_result"
        }
      ],
      "source": [
        "nome = \"João\"\n",
        "idade = 39\n",
        "grana = 60.59\n",
        "\"{} tem {} anos e R$ {} no bolso\" .format(nome , idade , grana)"
      ]
    },
    {
      "cell_type": "markdown",
      "source": [
        "### Importar bibliotecas"
      ],
      "metadata": {
        "id": "FVgsesKxU9Do"
      }
    },
    {
      "metadata": {
        "id": "bCTYdDJ6wz1D",
        "colab": {
          "base_uri": "https://localhost:8080/"
        },
        "outputId": "2c212099-f9f1-4b16-d7c4-60e62ab6fc25"
      },
      "cell_type": "code",
      "source": [
        "print('Site onde temos as demais funções https://docs.python.org/3/library/functions.html')\n",
        "print('O pacote que mais utilizamos é o NumPy: http://www.numpy.org/ representado por np')"
      ],
      "execution_count": null,
      "outputs": [
        {
          "output_type": "stream",
          "name": "stdout",
          "text": [
            "Site onde temos as demais funções https://docs.python.org/3/library/functions.html\n",
            "O pacote que mais utilizamos é o NumPy: http://www.numpy.org/ representado por np\n"
          ]
        }
      ]
    },
    {
      "metadata": {
        "id": "HWXG7VRnxxEJ"
      },
      "cell_type": "code",
      "source": [
        "import numpy as np"
      ],
      "execution_count": null,
      "outputs": []
    },
    {
      "metadata": {
        "id": "v9PKcn_T3GVA"
      },
      "cell_type": "markdown",
      "source": [
        "###Como criar vetores "
      ]
    },
    {
      "metadata": {
        "id": "bhAfpW0CyRg4"
      },
      "cell_type": "code",
      "source": [
        "a=np.array([1,2,3,4])\n",
        "print(a)\n",
        "print(type(a))"
      ],
      "execution_count": null,
      "outputs": []
    },
    {
      "metadata": {
        "id": "MK6bVwEHyY1O"
      },
      "cell_type": "code",
      "source": [
        "b=np.array([(1.5 ,2,3),(4,5,6)])\n",
        "print(b)"
      ],
      "execution_count": null,
      "outputs": []
    },
    {
      "metadata": {
        "id": "Cvji--vzy8bp",
        "colab": {
          "base_uri": "https://localhost:8080/"
        },
        "outputId": "c3295cf5-f0ab-40fb-ffd0-70c6c6e72d4f"
      },
      "cell_type": "code",
      "source": [
        "c=np.zeros((3,4)) #coloca o número de (linhas,colunas)\n",
        "print(c)"
      ],
      "execution_count": null,
      "outputs": [
        {
          "output_type": "stream",
          "name": "stdout",
          "text": [
            "[[0. 0. 0. 0.]\n",
            " [0. 0. 0. 0.]\n",
            " [0. 0. 0. 0.]]\n"
          ]
        }
      ]
    },
    {
      "metadata": {
        "id": "F05gE-5yzbjq"
      },
      "cell_type": "code",
      "source": [
        "d=np.eye(6) #O np.eye cria uma matriz identidade\n",
        "print(d)"
      ],
      "execution_count": null,
      "outputs": []
    },
    {
      "metadata": {
        "id": "_eFs1VFr0M0w",
        "colab": {
          "base_uri": "https://localhost:8080/"
        },
        "outputId": "fe42962a-7804-425e-9cb0-432c8d28148c"
      },
      "cell_type": "code",
      "source": [
        "e=np.random.random((2,2)) #Valores aleatórios\n",
        "print(e)"
      ],
      "execution_count": null,
      "outputs": [
        {
          "output_type": "stream",
          "name": "stdout",
          "text": [
            "[[0.83345543 0.23832736]\n",
            " [0.07643948 0.61718475]]\n"
          ]
        }
      ]
    },
    {
      "metadata": {
        "id": "toW33ARV0kDq",
        "colab": {
          "base_uri": "https://localhost:8080/"
        },
        "outputId": "fbe258b9-70a1-4a5b-a0b5-4691d64e74d8"
      },
      "cell_type": "code",
      "source": [
        "A=np.array([(1,2,3,4),(5,6,7,8),(9,10,11,12)])\n",
        "print(A)"
      ],
      "execution_count": null,
      "outputs": [
        {
          "output_type": "stream",
          "name": "stdout",
          "text": [
            "[[ 1  2  3  4]\n",
            " [ 5  6  7  8]\n",
            " [ 9 10 11 12]]\n"
          ]
        }
      ]
    },
    {
      "metadata": {
        "id": "vrp-R_dL1Zyo",
        "colab": {
          "base_uri": "https://localhost:8080/"
        },
        "outputId": "21d37f61-5b57-4e82-e30f-33e881d2a799"
      },
      "cell_type": "code",
      "source": [
        "B=A[1,1] #Como acessar os dados do vetor, primeiro número da linha, depois número da coluna (ambos começam do ZERO)\n",
        "print (B)"
      ],
      "execution_count": null,
      "outputs": [
        {
          "output_type": "stream",
          "name": "stdout",
          "text": [
            "6\n"
          ]
        }
      ]
    },
    {
      "metadata": {
        "id": "hojJ2_I72DNj",
        "colab": {
          "base_uri": "https://localhost:8080/"
        },
        "outputId": "942487fa-083b-47f6-e769-823270867f0c"
      },
      "cell_type": "code",
      "source": [
        "C=A[:,2] #Todos os valores da terceira coluna\n",
        "print(C)"
      ],
      "execution_count": null,
      "outputs": [
        {
          "output_type": "stream",
          "name": "stdout",
          "text": [
            "[1 5 9]\n"
          ]
        }
      ]
    },
    {
      "metadata": {
        "id": "X9lLcmRz2nNr",
        "colab": {
          "base_uri": "https://localhost:8080/"
        },
        "outputId": "f046e9d0-81e2-4025-fa08-5952ba5e30ce"
      },
      "cell_type": "code",
      "source": [
        "D=A[2,:] #Todos os valores da terceira linha\n",
        "print(D)"
      ],
      "execution_count": null,
      "outputs": [
        {
          "output_type": "stream",
          "name": "stdout",
          "text": [
            "[ 9 10 11 12]\n"
          ]
        }
      ]
    },
    {
      "metadata": {
        "id": "BSifMcmP3Jhz"
      },
      "cell_type": "code",
      "source": [
        "V=np.arange(10,30,5) #Coloca onde COMEÇA onde TERMINA e o STEP, não incluindo o valor de TERMINA https://docs.scipy.org/doc/numpy/reference/generated/numpy.arange.html\n",
        "print(V)\n",
        "Z=np.arange(5) #Se coloca apenas um número, ele considera como sendo onde TERMINA com o PASSO padrão\n",
        "print(Z)\n",
        "O=np.arange(-1,-5,-1) #Negativo\n",
        "print(O)\n",
        "W=np.arange(0,2,0.3)\n",
        "print(W)"
      ],
      "execution_count": null,
      "outputs": []
    },
    {
      "metadata": {
        "id": "TVeayLt63R7K"
      },
      "cell_type": "code",
      "source": [
        "AB=np.linspace(0,2,9) #Coloca onde COMEÇA e onde TERMINA, no lugar do STEP você coloca o passo que ele irá dar para retornar a resposta\n",
        "print(AB)"
      ],
      "execution_count": null,
      "outputs": []
    },
    {
      "metadata": {
        "id": "cdGIqC7Y5VHV"
      },
      "cell_type": "code",
      "source": [
        "x=np.arange(0,2*(np.pi),0.25)\n",
        "print(x)\n",
        "y=np.sin(x)\n",
        "print(y)"
      ],
      "execution_count": null,
      "outputs": []
    },
    {
      "metadata": {
        "id": "YC30wXwQ6w6W"
      },
      "cell_type": "code",
      "source": [
        "A=np.array([[1,1],[0,1]])\n",
        "B=np.array([[2,0],[3,4]])\n",
        "print(A)\n",
        "print(B)"
      ],
      "execution_count": null,
      "outputs": []
    },
    {
      "metadata": {
        "id": "R6trgYeg8YVB"
      },
      "cell_type": "code",
      "source": [
        "A*B #Produto escalar"
      ],
      "execution_count": null,
      "outputs": []
    },
    {
      "metadata": {
        "id": "e7eOsDHTGbdW"
      },
      "cell_type": "markdown",
      "source": [
        "###Raízes de uma equação de segundo grau"
      ]
    },
    {
      "cell_type": "markdown",
      "source": [
        "$a^{2}+bx+c$"
      ],
      "metadata": {
        "id": "Zj6bxSF63pd4"
      }
    },
    {
      "metadata": {
        "id": "uTVOgXyVGeR4",
        "colab": {
          "base_uri": "https://localhost:8080/"
        },
        "outputId": "7fe75c1c-dff6-41a0-9654-56e1b17028fb"
      },
      "cell_type": "code",
      "source": [
        "import math as m #https://docs.python.org/3.2/library/math.html\n",
        "a=1\n",
        "b=6\n",
        "c=2\n",
        "d=(b**2-4*a*c)\n",
        "r1=(-b-m.sqrt(d))/2*a\n",
        "r2=(-b+m.sqrt(d))/2*a\n",
        "print(\"raiz 1 = \", r1)\n",
        "print(\"raiz 2 = \", r2)"
      ],
      "execution_count": null,
      "outputs": [
        {
          "output_type": "stream",
          "name": "stdout",
          "text": [
            "raiz 1 =  -5.645751311064591\n",
            "raiz 2 =  -0.3542486889354093\n"
          ]
        }
      ]
    },
    {
      "metadata": {
        "id": "hinQfTKZJc3A",
        "colab": {
          "base_uri": "https://localhost:8080/"
        },
        "outputId": "2264e1a3-a8df-4f03-d9a4-6076bdd52799"
      },
      "cell_type": "code",
      "source": [
        "import math\n",
        "a=float(input(\"Digite o valor de A: \")) \n",
        "b=float(input(\"Digite o valor de B: \"))\n",
        "c=float(input(\"Digite o valor de C: \"))\n",
        "\n",
        "delta=(b**2)-(4*a*c)\n",
        "\n",
        "if delta<0:\n",
        "      print(\"A equação não possui raízes reais.\")\n",
        "elif delta==0:\n",
        "      print(\"A equação possui apenas uma raíz real:\")\n",
        "      r=(-b-m.sqrt(d))/(2*a)\n",
        "      print(\"Raiz = \", r)\n",
        "elif  delta>0:\n",
        "      print(\"A equação possui duas raízes reais:\")\n",
        "      r1=(-b-m.sqrt(d))/(2*a)\n",
        "      r2=(-b+m.sqrt(d))/(2*a)\n",
        "      print(\"Raiz 1 = \", r1)\n",
        "      print(\"Raiz 2 = \", r2)"
      ],
      "execution_count": null,
      "outputs": [
        {
          "output_type": "stream",
          "name": "stdout",
          "text": [
            "Digite o valor de A: 1\n",
            "Digite o valor de B: 6\n",
            "Digite o valor de C: 2\n",
            "A equação possui duas raízes reais:\n",
            "Raiz 1 =  -5.645751311064591\n",
            "Raiz 2 =  -0.3542486889354093\n"
          ]
        }
      ]
    },
    {
      "metadata": {
        "id": "xFHR_VlvJZLL"
      },
      "cell_type": "markdown",
      "source": [
        "*Outro* *jeito*:"
      ]
    },
    {
      "metadata": {
        "id": "y8LLk6rSKrpR",
        "colab": {
          "base_uri": "https://localhost:8080/"
        },
        "outputId": "d88b56a7-8a68-4786-be03-bc5bbf5b4f24"
      },
      "cell_type": "code",
      "source": [
        "a=float(input(\"Digite o valor de A: \"))\n",
        "b=float(input(\"Digite o valor de B: \"))\n",
        "c=float(input(\"Digite o valor de C: \"))\n",
        "coeff=[a,b,c]\n",
        "np.roots(coeff)"
      ],
      "execution_count": null,
      "outputs": [
        {
          "name": "stdout",
          "output_type": "stream",
          "text": [
            "Digite o valor de A: 1\n",
            "Digite o valor de B: 6\n",
            "Digite o valor de C: 2\n"
          ]
        },
        {
          "output_type": "execute_result",
          "data": {
            "text/plain": [
              "array([-5.64575131, -0.35424869])"
            ]
          },
          "metadata": {},
          "execution_count": 142
        }
      ]
    },
    {
      "metadata": {
        "id": "248jCjbm992D"
      },
      "cell_type": "code",
      "source": [
        "A = np.array([[1,1],[-3,1]])\n",
        "B = np.array([6,2])\n",
        "print(np.linalg.solve(A,B))\n"
      ],
      "execution_count": null,
      "outputs": []
    },
    {
      "cell_type": "markdown",
      "source": [
        "##Plotar gráficos"
      ],
      "metadata": {
        "id": "E0UDLiwZ17Te"
      }
    },
    {
      "cell_type": "code",
      "execution_count": null,
      "metadata": {
        "id": "aKb5YycL9iOO",
        "outputId": "e2e39367-ca47-4447-e402-56907b237cf0",
        "colab": {
          "base_uri": "https://localhost:8080/",
          "height": 446
        }
      },
      "outputs": [
        {
          "output_type": "execute_result",
          "data": {
            "text/plain": [
              "[<matplotlib.lines.Line2D at 0x7f848fdf9dd0>]"
            ]
          },
          "metadata": {},
          "execution_count": 146
        },
        {
          "output_type": "display_data",
          "data": {
            "text/plain": [
              "<Figure size 792x504 with 1 Axes>"
            ],
            "image/png": "[encoded data removed]"
          },
          "metadata": {
            "needs_background": "light"
          }
        }
      ],
      "source": [
        "import matplotlib.pyplot as plt\n",
        "import numpy as np\n",
        "\n",
        "x = np.arange(-80,80,0.2)\n",
        "y = a*x**2+b*x+c\n",
        "plt.plot(x,y)"
      ]
    },
    {
      "metadata": {
        "id": "XnuvMxpLO2dV"
      },
      "cell_type": "markdown",
      "source": [
        "##**Linearização**"
      ]
    },
    {
      "metadata": {
        "id": "nRJKUXETO61F",
        "colab": {
          "base_uri": "https://localhost:8080/"
        },
        "outputId": "111edf6a-2383-424c-8dd7-2c04e01aa6c2"
      },
      "cell_type": "code",
      "source": [
        "import numpy as np\n",
        "#entrada de dados experimentais, valores de x e y\n",
        "x=np.array([0,1,2,3,4,5,6])\n",
        "y=np.array([0,2.2,4.1,6.7,8,9.8,13])\n",
        "print(x)\n",
        "print(y)"
      ],
      "execution_count": null,
      "outputs": [
        {
          "output_type": "stream",
          "name": "stdout",
          "text": [
            "[0 1 2 3 4 5 6]\n",
            "[ 0.   2.2  4.1  6.7  8.   9.8 13. ]\n"
          ]
        }
      ]
    },
    {
      "metadata": {
        "id": "iJu0FR3APdpK",
        "colab": {
          "base_uri": "https://localhost:8080/"
        },
        "outputId": "8e00af13-8601-4082-dd49-91882d2ef0cf"
      },
      "cell_type": "code",
      "source": [
        "#importando o pacote numpy e utilizando a função polyfit para ajusrar o modelo\n",
        "\n",
        "mod_linear=np.polyfit(x,y,1)\n",
        "print(mod_linear) #Vai sair COEFICIENTE ANGULAR e depois o LINEAR"
      ],
      "execution_count": null,
      "outputs": [
        {
          "output_type": "stream",
          "name": "stdout",
          "text": [
            "[2.075      0.03214286]\n"
          ]
        }
      ]
    },
    {
      "metadata": {
        "id": "2atfjzHpPuZ0",
        "colab": {
          "base_uri": "https://localhost:8080/"
        },
        "outputId": "2bad6888-d2f2-488d-f1c9-20998247788a"
      },
      "cell_type": "code",
      "source": [
        "#Calculando os valores do modelo\n",
        "A=mod_linear[0]\n",
        "B=mod_linear[1]\n",
        "novo_y=A*x+B\n",
        "print(novo_y)\n",
        "\n",
        "#calculando os vallores do modelo, chamando a função polyval\n",
        "#novo_y=np.poluval(mod_linear,x)"
      ],
      "execution_count": null,
      "outputs": [
        {
          "output_type": "stream",
          "name": "stdout",
          "text": [
            "[ 0.03214286  2.10714286  4.18214286  6.25714286  8.33214286 10.40714286\n",
            " 12.48214286]\n"
          ]
        }
      ]
    },
    {
      "cell_type": "code",
      "source": [
        "#importando o pacote matplotlib para construção do gráfico\n",
        "import matplotlib.pyplot as plt\n",
        "plt.plot(x,y, \"o\", label = \"pontos experimentais\")\n",
        "plt.plot(x,novo_y,\"-r\", label = \"modelo\")\n",
        "plt.xlabel(\"x\")\n",
        "plt.ylabel(\"y\")\n",
        "plt.title(\"Ajuste de uma reta\")\n",
        "plt.legend()\n",
        "plt.show()"
      ],
      "metadata": {
        "id": "zV0PieOOim6Q",
        "outputId": "c602ee57-126f-400f-dbd4-cdb3ad39d44f",
        "colab": {
          "base_uri": "https://localhost:8080/",
          "height": 295
        }
      },
      "execution_count": null,
      "outputs": [
        {
          "output_type": "display_data",
          "data": {
            "text/plain": [
              "<Figure size 432x288 with 1 Axes>"
            ],
            "image/png": "[encoded data removed]"
          },
          "metadata": {
            "needs_background": "light"
          }
        }
      ]
    },
    {
      "metadata": {
        "id": "45WTH57WQTEj",
        "colab": {
          "base_uri": "https://localhost:8080/"
        },
        "outputId": "18291b34-f46a-4b63-99a5-4537952b32f3"
      },
      "cell_type": "code",
      "source": [
        "plt = np.polyfit(x,y,1) #O r^2 da reta plotada\n",
        "yresid = y - novo_y\n",
        "SQresid = sum(pow(yresid,2))\n",
        "SQtotal = len(y)*np.var(y)\n",
        "R2 = 1 - SQresid/SQtotal\n",
        "print(\"O valor de r^2: \", R2)"
      ],
      "execution_count": null,
      "outputs": [
        {
          "output_type": "stream",
          "name": "stdout",
          "text": [
            "O valor de r^2:  0.9921028191201712\n"
          ]
        }
      ]
    },
    {
      "cell_type": "markdown",
      "source": [
        "##Arrhenius"
      ],
      "metadata": {
        "id": "sRziau-piaQS"
      }
    },
    {
      "cell_type": "code",
      "metadata": {
        "id": "CVJZxV-aT09q"
      },
      "source": [
        "# importando os pacotes do python\n",
        "import numpy as np\n",
        "import pandas as pd\n",
        "import matplotlib.pyplot as plt"
      ],
      "execution_count": null,
      "outputs": []
    },
    {
      "cell_type": "code",
      "metadata": {
        "id": "VF1HmkPR1eYM"
      },
      "source": [
        "# Dados experimentais de T e k\n",
        "T = np.array([280, 285, 289, 297, 306, 312])\n",
        "k = np.array([0.000145, 0.000268, 0.000432, 0.001780, 0.002849, 0.005279])"
      ],
      "execution_count": null,
      "outputs": []
    },
    {
      "cell_type": "code",
      "source": [
        "#vetor do eixo x\n",
        "x = 1/T\n",
        "#vetor do eixo y\n",
        "y = np.log(k)"
      ],
      "metadata": {
        "id": "BB8sTSdWGcNa"
      },
      "execution_count": null,
      "outputs": []
    },
    {
      "cell_type": "code",
      "metadata": {
        "id": "gWLUusahU1FZ",
        "colab": {
          "base_uri": "https://localhost:8080/"
        },
        "outputId": "14c22a9f-0d89-452c-9270-09847fae4860"
      },
      "source": [
        "#Ajustando a correlação linear\n",
        "linear_p = np.polyfit(x, y, 1)\n",
        "print(linear_p)\n",
        "\n",
        "Ea = linear_p[0] *(-8.314) # Estimativa da energia de ativação em J /mol\n",
        "A = np.exp(linear_p[1]) # Fator de frequencia\n",
        "print(Ea)\n",
        "print(A)"
      ],
      "execution_count": null,
      "outputs": [
        {
          "output_type": "stream",
          "name": "stdout",
          "text": [
            "[-9961.54590968    26.79584804]\n",
            "82820.29269304864\n",
            "433799393105.4561\n"
          ]
        }
      ]
    },
    {
      "cell_type": "code",
      "metadata": {
        "colab": {
          "base_uri": "https://localhost:8080/",
          "height": 295
        },
        "id": "haIULkvYU6pv",
        "outputId": "bf100426-787f-4b8e-f4a1-6efd6851733b"
      },
      "source": [
        "#impressão dos dados experimentais e do modelo linear\n",
        "plt.plot(x, y, \"o\", label = \"pontos experimentais\")\n",
        "plt.plot(x, np.polyval(linear_p, x), \"-r\", label = \"modelo\")\n",
        "plt.xlabel(\"1 / Temperatura\")\n",
        "plt.ylabel(\"Log de k\")\n",
        "plt.rcParams['figure.figsize'] = (11,7)\n",
        "plt.title(\"Ajuste de uma reta\")\n",
        "plt.legend()\n",
        "plt.show()"
      ],
      "execution_count": null,
      "outputs": [
        {
          "output_type": "display_data",
          "data": {
            "text/plain": [
              "<Figure size 432x288 with 1 Axes>"
            ],
            "image/png": "[encoded data removed]"
          },
          "metadata": {
            "needs_background": "light"
          }
        }
      ]
    },
    {
      "cell_type": "code",
      "metadata": {
        "id": "I1eIasOTVvNK",
        "colab": {
          "base_uri": "https://localhost:8080/"
        },
        "outputId": "86a60e5f-ab15-45a6-9613-fc911d92fa79"
      },
      "source": [
        "#Cálculo do R2 - Coeficiente de determinação\n",
        "yresid = y - np.polyval(linear_p, x) # resíduo = valor real - valor ajustado (valor predito)\n",
        "SQresid = sum(pow(yresid,2)) # soma dos quadrados dos resíduos \n",
        "SQtotal = len(y) * np.var(y) # número de elementos do vetor y vezes a variância de y\n",
        "r2 = 1 - SQresid/SQtotal # coeficiente de determinação\n",
        "print(r2)\n",
        "\n",
        "from sklearn.metrics import r2_score\n",
        "r_2 = r2_score(y, np.polyval(linear_p, x))\n",
        "print(r_2)"
      ],
      "execution_count": null,
      "outputs": [
        {
          "output_type": "stream",
          "name": "stdout",
          "text": [
            "0.9797779385853767\n",
            "0.9797779385853767\n"
          ]
        }
      ]
    },
    {
      "cell_type": "code",
      "metadata": {
        "colab": {
          "base_uri": "https://localhost:8080/"
        },
        "id": "_XrZ5mVbV6rT",
        "outputId": "9bb8f6d4-46bb-4e06-fd65-06141e4072bb"
      },
      "source": [
        "print(50*\"_\")\n",
        "print('Ajuste Linear')\n",
        "#dados do modelo ajustado\n",
        "dados_v = np.transpose(np.exp(np.polyval(linear_p, x)))\n",
        "dados_df = pd.DataFrame({\"Temperatura\":T, \"velocidade_mod\":dados_v, \"velocidade_exp\":k})\n",
        "print(dados_df)\n",
        "\n",
        "print(f'A energia de ativação é: {Ea:9.7} Joules/mol')\n",
        "print(f'O fator de frequencia é: {A:5.1} L/mol.s')\n",
        "print(f'O Coeficiente de ajuste é: {r2:5.5}')\n",
        "print(50*\"_\")"
      ],
      "execution_count": null,
      "outputs": [
        {
          "output_type": "stream",
          "name": "stdout",
          "text": [
            "__________________________________________________\n",
            "Ajuste Linear\n",
            "   Temperatura  velocidade_mod  velocidade_exp\n",
            "0          280        0.000154        0.000145\n",
            "1          285        0.000287        0.000268\n",
            "2          289        0.000465        0.000432\n",
            "3          297        0.001177        0.001780\n",
            "4          306        0.003157        0.002849\n",
            "5          312        0.005904        0.005279\n",
            "A energia de ativação é:  82820.29 Joules/mol\n",
            "O fator de frequencia é: 4e+11 L/mol.s\n",
            "O Coeficiente de ajuste é: 0.97978\n",
            "__________________________________________________\n"
          ]
        }
      ]
    },
    {
      "metadata": {
        "id": "9Cb3ZKjF2jZK"
      },
      "cell_type": "markdown",
      "source": [
        "##Equação de resolução - primeira ordem"
      ]
    },
    {
      "cell_type": "code",
      "source": [
        "import numpy as np\n",
        "from scipy.integrate import odeint\n",
        "import matplotlib.pyplot as plt "
      ],
      "metadata": {
        "id": "kyZ59-ggF1O8"
      },
      "execution_count": null,
      "outputs": []
    },
    {
      "cell_type": "code",
      "source": [
        "#Função para retornar dy/dt\n",
        "def model1(y,t):\n",
        "  k = 0.2\n",
        "  dydt=-k*y\n",
        "  return dydt"
      ],
      "metadata": {
        "id": "rtyCRpRBF2n0"
      },
      "execution_count": null,
      "outputs": []
    },
    {
      "cell_type": "code",
      "source": [
        "#Função para retornar dy/dt\n",
        "def model2(a,t):\n",
        "  k2 = 0.1\n",
        "  dadt=-k2*a\n",
        "  return dadt"
      ],
      "metadata": {
        "id": "5TkdLQJoF316"
      },
      "execution_count": null,
      "outputs": []
    },
    {
      "cell_type": "code",
      "source": [
        "#Função para retornar dy/dt\n",
        "def model3(b,t):\n",
        "  k3 = 0.5\n",
        "  dbdt=-k3*b\n",
        "  return dbdt"
      ],
      "metadata": {
        "id": "qPohOyUiF43z"
      },
      "execution_count": null,
      "outputs": []
    },
    {
      "cell_type": "code",
      "source": [
        "#Condição inicial\n",
        "y0=5\n",
        "a0=5\n",
        "b0=5\n",
        "\n",
        "#Pontos de tempo\n",
        "t=np.linspace(0,20,50)"
      ],
      "metadata": {
        "id": "HZBwbd6OF6Li"
      },
      "execution_count": null,
      "outputs": []
    },
    {
      "cell_type": "code",
      "source": [
        "#Solve ODE\n",
        "y=odeint(model1,y0,t)\n",
        "a=odeint(model2,a0,t)\n",
        "b=odeint(model3,b0,t)"
      ],
      "metadata": {
        "id": "wuA4auT9F9Uz"
      },
      "execution_count": null,
      "outputs": []
    },
    {
      "metadata": {
        "id": "QCN0wwy-0I5Z",
        "colab": {
          "base_uri": "https://localhost:8080/",
          "height": 279
        },
        "outputId": "ae405c02-f96c-4e1c-a158-dc338049150f"
      },
      "cell_type": "code",
      "source": [
        "#Plotar resultados\n",
        "plt.plot(t,b,'g:',linewidth=2,label='k=0.5')  # Variável x ; Variável y ; \n",
        "plt.plot(t,y, 'r-',linewidth=2,label='k=0.2')\n",
        "plt.plot(t,a,'b--',linewidth=2,label='k=0.1')\n",
        "plt.xlabel('Time')\n",
        "plt.ylabel('y(t)')\n",
        "plt.legend()\n",
        "plt.show()"
      ],
      "execution_count": null,
      "outputs": [
        {
          "output_type": "display_data",
          "data": {
            "text/plain": [
              "<Figure size 432x288 with 1 Axes>"
            ],
            "image/png": "[encoded data removed]"
          },
          "metadata": {
            "needs_background": "light"
          }
        }
      ]
    },
    {
      "cell_type": "code",
      "source": [
        "from scipy.integrate import odeint\n",
        "from numpy import arange\n",
        "import matplotlib.pyplot as plt"
      ],
      "metadata": {
        "id": "qADNYIt0GBWE"
      },
      "execution_count": null,
      "outputs": []
    },
    {
      "cell_type": "code",
      "source": [
        "def BoatFishSystem(state,t): #Esse state servirá como matriz, pois as variáveis peixe e barco são dependentes, mas caso não seja colocado assim, o sistema não irá reconhecer isso;\n",
        "  fish,boat=state\n",
        "  d_fish=fish*(10-boat-fish)\n",
        "  d_boat=-boat*(1.25-1.5*fish)\n",
        "  return [d_fish,d_boat] #retorna os valores de cada função (d_variável) e coloca na matriz chamada state;"
      ],
      "metadata": {
        "id": "iINAZj32GCdL"
      },
      "execution_count": null,
      "outputs": []
    },
    {
      "cell_type": "code",
      "source": [
        "t=arange(0,20,0.01) #Variação do tempo;\n",
        "init_state=[1,1] #Estado inicial da matriz [peixe,barco];\n",
        "state = odeint(BoatFishSystem, init_state, t) #A matriz será a integração do connjunto de fórmulas a partir do estado inicial com o tempo variando;"
      ],
      "metadata": {
        "id": "vPPSGEtpGDq6"
      },
      "execution_count": null,
      "outputs": []
    },
    {
      "cell_type": "code",
      "source": [
        "#Plotar resultados\n",
        "plt.plot(t,state[:,0])\n",
        "plt.xlabel('Time')\n",
        "plt.ylabel('Peixes(t)')\n",
        "plt.show()"
      ],
      "metadata": {
        "colab": {
          "base_uri": "https://localhost:8080/",
          "height": 279
        },
        "id": "0TbbD3yKGErT",
        "outputId": "c884e2a3-a0f1-4679-ceda-9905e6a461ca"
      },
      "execution_count": null,
      "outputs": [
        {
          "output_type": "display_data",
          "data": {
            "text/plain": [
              "<Figure size 432x288 with 1 Axes>"
            ],
            "image/png": "[encoded data removed]"
          },
          "metadata": {
            "needs_background": "light"
          }
        }
      ]
    },
    {
      "cell_type": "code",
      "source": [
        "#Plotar resultados\n",
        "plt.plot(t,state[:,1])\n",
        "plt.xlabel('Time')\n",
        "plt.ylabel('Barco(t)')\n",
        "plt.show()"
      ],
      "metadata": {
        "colab": {
          "base_uri": "https://localhost:8080/",
          "height": 279
        },
        "id": "wc-M25cFGFjc",
        "outputId": "ad35603f-dccc-40b6-9a7e-9e14ebfc80e4"
      },
      "execution_count": null,
      "outputs": [
        {
          "output_type": "display_data",
          "data": {
            "text/plain": [
              "<Figure size 432x288 with 1 Axes>"
            ],
            "image/png": "[encoded data removed]"
          },
          "metadata": {
            "needs_background": "light"
          }
        }
      ]
    },
    {
      "metadata": {
        "id": "32XpRpgA2rB6",
        "colab": {
          "base_uri": "https://localhost:8080/",
          "height": 279
        },
        "outputId": "066fdf73-fa89-4464-9e25-21fadaa21779"
      },
      "cell_type": "code",
      "source": [
        "plt.plot(state[:,0],state[:,1],'b-',alpha=0.2)\n",
        "plt.xlabel('Numero de peixes')\n",
        "plt.ylabel('Numero de barcos')\n",
        "plt.show()"
      ],
      "execution_count": null,
      "outputs": [
        {
          "output_type": "display_data",
          "data": {
            "text/plain": [
              "<Figure size 432x288 with 1 Axes>"
            ],
            "image/png": "[encoded data removed]"
          },
          "metadata": {
            "needs_background": "light"
          }
        }
      ]
    },
    {
      "cell_type": "markdown",
      "source": [
        "## Monod - Simulação e Modelagem"
      ],
      "metadata": {
        "id": "CENTSEhjdJvL"
      }
    },
    {
      "cell_type": "markdown",
      "source": [
        "Utilizando a função *odeint()* é possível a integração numérica da variação da concentração celular e de substrado a partir dos valores estipulados das variáveis do modelo:\n",
        " **μ_max; y_xs; ks; kd** "
      ],
      "metadata": {
        "id": "_zdXkfPKrWZg"
      }
    },
    {
      "metadata": {
        "id": "x9lLVL_2-xZy",
        "colab": {
          "base_uri": "https://localhost:8080/",
          "height": 279
        },
        "outputId": "78a2f826-5e25-46a7-8349-94a15a69b6ce"
      },
      "cell_type": "code",
      "source": [
        "from scipy.integrate import odeint\n",
        "from numpy import arange\n",
        "import matplotlib.pyplot as plt\n",
        "import numpy as np\n",
        "\n",
        "#Função para retornar dCx/dt\n",
        "def Concentracao(state,t):\n",
        "    Cx,Cs=state\n",
        "    um = 2\n",
        "    y = 0.456\n",
        "    ks= 2.5\n",
        "    kd= 0.1\n",
        "    dCxdt= (((um*Cs)/(ks+Cs))-kd)*Cx\n",
        "    dCsdt= -(1/y)*((um*Cs)/(ks+Cs))*Cx\n",
        "    return [dCxdt,dCsdt]\n",
        "\n",
        "init_state=[0.1,30] #Colocar valores de início para o Cx e Cs\n",
        "t=arange(0,8,0.1) #Variação do tempo;\n",
        "state = odeint(Concentracao, init_state, t) \n",
        "\n",
        "#Plotar resultados\n",
        "plt.plot(t,state[:,0],label='Cx')\n",
        "plt.plot(t,state[:,1],label='Cs')\n",
        "plt.xlabel('Tempo')\n",
        "plt.ylabel('Concentracao celular(t)')\n",
        "plt.legend()\n",
        "plt.show()"
      ],
      "execution_count": null,
      "outputs": [
        {
          "output_type": "display_data",
          "data": {
            "text/plain": [
              "<Figure size 432x288 with 1 Axes>"
            ],
            "image/png": "[encoded data removed]"
          },
          "metadata": {
            "needs_background": "light"
          }
        }
      ]
    },
    {
      "cell_type": "markdown",
      "source": [
        "###  Batelada"
      ],
      "metadata": {
        "id": "rP7SlOK3dxrX"
      }
    },
    {
      "cell_type": "markdown",
      "source": [
        "![image.png](data:image/png;base64,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)"
      ],
      "metadata": {
        "id": "4MAXxwukaGtR"
      }
    },
    {
      "cell_type": "markdown",
      "source": [
        "Variação da concentração de células (Cx) - Monod:\n",
        "\n",
        "$\\frac{\\mathrm{dC_{x}} }{\\mathrm{d} t} = \\frac{\\mu_{max}C_{s} }{K_{s}+C_{s}}C_{x}$ ⠀⠀⠀⠀⠀⠀⠀⠀⠀⠀⠀⠀⠀⠀⠀⠀⠀⠀⠀⠀⠀⠀⠀⠀⠀⠀"
      ],
      "metadata": {
        "id": "sq84br7R7BtA"
      }
    },
    {
      "cell_type": "markdown",
      "source": [
        "Variação da concentração de substrato (Cs) - Monod:\n",
        "\n",
        "\n",
        "$\\frac{\\mathrm{dC_{s}} }{\\mathrm{d} t} =-\\frac{\\mu_{max}C_{s} }{K_{s}+C_{s}}\\frac{C_{x}}{Y_{\\frac{x}{s}}}$"
      ],
      "metadata": {
        "id": "a3nxloBW8ChW"
      }
    },
    {
      "cell_type": "markdown",
      "source": [
        "Pode-se então, importar dados de concentração celular e de substrato obtidos de cultivos como os valores experimentais : **Cx_exp** e **Cs_exp**"
      ],
      "metadata": {
        "id": "3BdK59Mer6Do"
      }
    },
    {
      "metadata": {
        "id": "xby_5DbX6DBW",
        "colab": {
          "base_uri": "https://localhost:8080/",
          "height": 279
        },
        "outputId": "b84b8fea-68ad-449a-ec46-1af21368c6e4"
      },
      "cell_type": "code",
      "source": [
        "from scipy.integrate import odeint\n",
        "from numpy import arange\n",
        "import matplotlib.pyplot as plt\n",
        "import numpy as np\n",
        "\n",
        "#Função para retornar dCx/dt\n",
        "def Concentracao(state,t):\n",
        "    Cx,Cs=state\n",
        "    um = 0.42\n",
        "    y = 0.3\n",
        "    ks= 1.2\n",
        "    kd= 0.1\n",
        "    dCxdt= (((um*Cs)/(ks+Cs))-kd)*Cx\n",
        "    dCsdt= -((um*Cs)/(ks+Cs))*Cx/y\n",
        "    return [dCxdt,dCsdt]\n",
        "\n",
        "\n",
        "init_state=[0.1,30] #Colocar valores de início para o Cx e Cs\n",
        "t=arange(0,20,0.05) #Variação do tempo;\n",
        "state = odeint(Concentracao, init_state, t)\n",
        "\n",
        "Cx_exp=np.array([0.247,0.235,0.295,0.328,0.426,0.483,0.547,0.618,0.794,1.185,1.254,2.328,2.580,2.890,3.375,3.350,3.510,3.890,3.87,4.6,5.8,6.7,8.3,7.2,8.1,7.8,8.4,7.3,6.6,5.3]) #Valores de tempo e Cx\n",
        "Cs_exp=np.array([29.58,28.86,30.82,27.31,30.3604,30.512,32.07,31.09,30.3817,19.9537,21.88,25.1167,21.01,20.81,19.0656,15.93,14.96,12.82,11.36,10.3,8.7,6.3,2.1,0,0,0,0,0,0,0]) #Valores de tempo e Cs\n",
        "texp=arange(0,15,0.5) #Variação do tempo experimental\n",
        "\n",
        "#Plotar resultados\n",
        "plt.plot(t,state[:,0],label='Cx')\n",
        "plt.plot(t,state[:,1],label='Cs')\n",
        "plt.plot(texp,Cx_exp,\"o\", label='Exp Cx')\n",
        "plt.plot(texp,Cs_exp,\"o\", label='Exp Cs')\n",
        "plt.xlabel('Tempo')\n",
        "plt.ylabel('Concentracao (t)')\n",
        "plt.legend()\n",
        "plt.show()\n"
      ],
      "execution_count": null,
      "outputs": [
        {
          "output_type": "display_data",
          "data": {
            "text/plain": [
              "<Figure size 432x288 with 1 Axes>"
            ],
            "image/png": "[encoded data removed]"
          },
          "metadata": {
            "needs_background": "light"
          }
        }
      ]
    },
    {
      "cell_type": "markdown",
      "source": [
        "No entanto, observa-se que cada cultivo terá uma cinética distinta que é uma combinação de diversos fatores indicados pelas variáveis do modelo e  os parametros selecionados não representam a cinética real (baixo ajuste)."
      ],
      "metadata": {
        "id": "kpzi2-8csHQI"
      }
    },
    {
      "cell_type": "markdown",
      "source": [
        "Assim, Ferramentas de ajuste e minimização de erros podem ser utilizadas para ajustar os valores das variáveis do modelo. Uma delas é o algoritmo genético, utilizado a seguir a partir da função *differential_evolution()*"
      ],
      "metadata": {
        "id": "rQExooQosXLn"
      }
    },
    {
      "cell_type": "code",
      "source": [
        "from scipy.integrate import odeint\n",
        "from numpy import arange\n",
        "import matplotlib.pyplot as plt\n",
        "import numpy as np\n",
        "from scipy.optimize import differential_evolution"
      ],
      "metadata": {
        "id": "3jhXulcGFiaa"
      },
      "execution_count": null,
      "outputs": []
    },
    {
      "cell_type": "code",
      "source": [
        "Cx_exp=np.array([0.247,0.235,0.295,0.328,0.426,0.483,0.547,0.618,0.794,1.185,1.254,2.328,2.580,2.890,3.375,3.350,3.510,3.890,3.87,4.6,5.8,6.7,8.3,7.2,8.1,7.8,8.4,7.3,6.6,5.3]) #Valores de tempo e Cx\n",
        "Cs_exp=np.array([29.58,28.86,30.82,27.31,30.3604,30.512,32.07,31.09,30.3817,19.9537,21.88,25.1167,21.01,20.81,19.0656,15.93,14.96,12.82,11.36,10.3,8.7,6.3,2.1,0,0,0,0,0,0,0]) #Valores de tempo e Cs\n",
        "texp=arange(0,15,0.5) #Variação do tempo experimental\n",
        "t=arange(0,15,0.5) #Variação do tempo;\n",
        "\n",
        "#w[0] um\n",
        "#w[1] yxs\n",
        "#w[2] ks\n",
        "#w[3] kd\n",
        "#w[4] Cx\n",
        "#w[5] Cs"
      ],
      "metadata": {
        "id": "9AOVPN_fFjmD"
      },
      "execution_count": null,
      "outputs": []
    },
    {
      "cell_type": "code",
      "source": [
        "#Função para retornar dCx/dt\n",
        "def Concentracao(state, t, k):\n",
        "    um = k[0]\n",
        "    yxs = k[1]\n",
        "    ks = k[2]\n",
        "    kd = k[3]\n",
        "    Cx, Cs = state\n",
        "    dCxdt= (((um*Cs)/(ks+Cs))-kd)*Cx\n",
        "    dCsdt= -(1/yxs)*((um*Cs)/(ks+Cs))*Cx\n",
        "    return [dCxdt, dCsdt]\n",
        "\n",
        "def Integração(w):\n",
        "    global C_sim\n",
        "    init_state=[w[4],w[5]] #Colocar valores de início para o Cx e Cs\n",
        "    k = [w[0], w[1], w[2], w[3]]\n",
        "    C_sim = odeint(Concentracao, init_state, t, args = (k,))\n",
        "    residuoCx = np.sqrt(sum((Cx_exp - C_sim[:,0])**2)/len(Cx_exp))\n",
        "    residuoCs = np.sqrt(sum((Cs_exp - C_sim[:,1])**2)/len(Cs_exp))\n",
        "    residuoC = np.sqrt(residuoCx**2 + residuoCs**2)\n",
        "    return residuoC\n",
        "\n",
        "resultado = differential_evolution(Integração, bounds = [(0,0.6), (0,0.6), (0,3), (0,3), (0,2), (20,50)], maxiter=1000, popsize=25)"
      ],
      "metadata": {
        "id": "Lo4Mg6U-Forb"
      },
      "execution_count": null,
      "outputs": []
    },
    {
      "metadata": {
        "colab": {
          "base_uri": "https://localhost:8080/",
          "height": 404
        },
        "outputId": "81bc0ba9-2001-4c0e-b206-e40682bf98f8",
        "id": "IJtrCdzKAwQo"
      },
      "cell_type": "code",
      "source": [
        "print('umax = %.2f' %resultado.x[0]) \n",
        "print('yxs = %.2f' %resultado.x[1]) \n",
        "print('ks = %.2f' %resultado.x[2])\n",
        "print('kd = %.2f' %resultado.x[3])\n",
        "print('Cx inicial = %.2f' %resultado.x[4])\n",
        "print('Cs inicial = %.2f' %resultado.x[5])\n",
        "print('-'*20)\n",
        "\n",
        "#Plotar resultados\n",
        "plt.plot(t,C_sim[:,0],label='Cx')\n",
        "plt.plot(t,C_sim[:,1],label='Cs')\n",
        "plt.plot(texp,Cx_exp,\"o\", label='Exp Cx')\n",
        "plt.plot(texp,Cs_exp,\"o\", label='Exp Cs')\n",
        "plt.xlabel('Tempo')\n",
        "plt.ylabel('Concentracao (t)')\n",
        "plt.legend()\n",
        "plt.show()"
      ],
      "execution_count": null,
      "outputs": [
        {
          "output_type": "stream",
          "name": "stdout",
          "text": [
            "umax = 0.30\n",
            "yxs = 0.26\n",
            "ks = 3.00\n",
            "kd = 0.03\n",
            "Cx inicial = 0.60\n",
            "Cs inicial = 30.82\n",
            "--------------------\n"
          ]
        },
        {
          "output_type": "display_data",
          "data": {
            "text/plain": [
              "<Figure size 432x288 with 1 Axes>"
            ],
            "image/png": "[encoded data removed]"
          },
          "metadata": {
            "needs_background": "light"
          }
        }
      ]
    },
    {
      "cell_type": "markdown",
      "source": [
        "### Balelada Alimentada"
      ],
      "metadata": {
        "id": "JLAqEh1nluMJ"
      }
    },
    {
      "cell_type": "markdown",
      "source": [
        "####Variação da taxa de alimentação de meio"
      ],
      "metadata": {
        "id": "a5aXEk4RCt61"
      }
    },
    {
      "cell_type": "markdown",
      "source": [
        "Vazão é definida como variação do volume pelo tempo: $ Q = \\frac{\\mathrm{d} V}{\\mathrm{d} t}$\n",
        "\n",
        "Para vazão constante: $\\frac{\\mathrm{d} V}{\\mathrm{d} t} = \\beta$\n",
        "\n",
        "Integrando: $V = V_{0} + \\beta t$"
      ],
      "metadata": {
        "id": "qNuNYv40C2i3"
      }
    },
    {
      "cell_type": "markdown",
      "source": [
        "Para variação linear da vazão: $\\frac{\\mathrm{d} V}{\\mathrm{d} t} =Q_{0} + \\beta $\n",
        "\n",
        "Integrando: $V = V_{0} + \\frac{\\beta t^2}{2}$"
      ],
      "metadata": {
        "id": "RJWOa41JD4Va"
      }
    },
    {
      "cell_type": "markdown",
      "source": [
        "Para variação exponencial da vazão: $\\frac{\\mathrm{d} V}{\\mathrm{d} t} =Q_{0}(1+e^{\\beta t})$\n",
        "\n",
        "Integrando: $V = V_{0}+\\frac{Q_{0}{(1+e)^{\\beta t}}}{\\beta ln(1+e)}$\n"
      ],
      "metadata": {
        "id": "4rvq5b4EGT-k"
      }
    },
    {
      "cell_type": "code",
      "source": [
        "from numpy import arange\n",
        "import matplotlib.pyplot as plt\n",
        "import numpy as np\n",
        "import math as m"
      ],
      "metadata": {
        "id": "z_WXcWiDI06b"
      },
      "execution_count": null,
      "outputs": []
    },
    {
      "cell_type": "code",
      "source": [
        "t= np.arange(0,80,0.25)\n",
        "\n",
        "# Vazão constante\n",
        "V0 = 2.0\n",
        "Q=0.25\n",
        "\n",
        "Q_1 = [Q] * len(t)\n",
        "V_1 = V0+Q_1*t\n",
        "\n",
        "#Plotar resultados\n",
        "fig, ax1 = plt.subplots()\n",
        "ax1.plot(t,Q_1,label='Vazão Constante (β)', color ='r')\n",
        "ax1.set_ylabel('Q (t)')\n",
        "ax1.set_ylim([0, 1.5])\n",
        "ax2 = ax1.twinx()\n",
        "ax2.plot(t,V_1,label='Volume (Vazão constante)', color ='b')\n",
        "ax2.set_ylabel('Volume (t)')\n",
        "ax2.set_ylim([0, 30])\n",
        "ax1.set_xlabel('Tempo')\n",
        "plt.legend()\n",
        "plt.show()\n",
        "\n",
        "#Vazão linear\n",
        "Q0 = 0\n",
        "V0 = 2.0\n",
        "β = 0.005\n",
        "Q_2 = Q0 + β*t\n",
        "V_2 = V0 + Q0*t + (β*t**2)/2\n",
        "\n",
        "#Plotar resultados\n",
        "fig, ax1 = plt.subplots()\n",
        "ax1.plot(t,Q_2,label='Vazão Linear (Q0+βt)', color ='r')\n",
        "ax1.set_ylabel('Q (t)')\n",
        "ax1.set_ylim([0, 1.5])\n",
        "ax2 = ax1.twinx()\n",
        "ax2.plot(t,V_2,label='Volume (Vazão linear)', color ='b')\n",
        "ax2.set_ylabel('Volume (t)')\n",
        "ax2.set_ylim([0, 30])\n",
        "ax1.set_xlabel('Tempo')\n",
        "plt.legend()\n",
        "plt.show()\n",
        "\n",
        "#Vazão exponencial\n",
        "Q0 = 0.001\n",
        "V0 = 2.0\n",
        "β = 0.07\n",
        "Q_3 = Q0*((1+2.71828)**(β*t))\n",
        "V_3 = V0 + Q0*(1+2.71828)**(β*t)/(β*m.log(1+2.71828))\n",
        "\n",
        "#Plotar resultados\n",
        "fig, ax1 = plt.subplots()\n",
        "ax1.plot(t,Q_3,label='Vazão exponencial (Q0+e^βt)', color ='r')\n",
        "ax1.set_ylabel('Q (t)')\n",
        "ax1.set_ylim([0, 1.5])\n",
        "ax2 = ax1.twinx()\n",
        "ax2.plot(t,V_3,label='Volume (Vazão exponencial)', color ='b')\n",
        "ax2.set_ylabel('Volume (t)')\n",
        "ax2.set_ylim([0, 30])\n",
        "ax1.set_xlabel('Tempo')\n",
        "plt.legend()\n",
        "plt.show()"
      ],
      "metadata": {
        "colab": {
          "base_uri": "https://localhost:8080/",
          "height": 815
        },
        "id": "iEkAysi1I2Kq",
        "outputId": "8a6bcfb5-7344-4468-9cac-d0b189e4dd5d"
      },
      "execution_count": null,
      "outputs": [
        {
          "output_type": "display_data",
          "data": {
            "text/plain": [
              "<Figure size 432x288 with 2 Axes>"
            ],
            "image/png": "[encoded data removed]"
          },
          "metadata": {
            "needs_background": "light"
          }
        },
        {
          "output_type": "display_data",
          "data": {
            "text/plain": [
              "<Figure size 432x288 with 2 Axes>"
            ],
            "image/png": "[encoded data removed]"
          },
          "metadata": {
            "needs_background": "light"
          }
        },
        {
          "output_type": "display_data",
          "data": {
            "text/plain": [
              "<Figure size 432x288 with 2 Axes>"
            ],
            "image/png": "[encoded data removed]"
          },
          "metadata": {
            "needs_background": "light"
          }
        }
      ]
    },
    {
      "cell_type": "markdown",
      "source": [
        "####Balanço de Massa"
      ],
      "metadata": {
        "id": "Ms509GvyIfOF"
      }
    },
    {
      "cell_type": "markdown",
      "source": [
        "Variação da concentração de células (Cx) - Monod:\n",
        "\n",
        "$\\frac{\\mathrm{dC_{x}} }{\\mathrm{d} t} = C_{x}(\\frac{umax*Cs}{Ks+Cs}-D-k_{d})$"
      ],
      "metadata": {
        "id": "qtP80gJg-myJ"
      }
    },
    {
      "cell_type": "markdown",
      "source": [
        "Variação da concentração de substrato (Cs) - Monod\n",
        "\n",
        "$\\frac{\\mathrm{dC_{s}} }{\\mathrm{d} t}=-\\frac{umax*Cs}{K_{s}+C_{s}}\\frac{1}{y_{x/s}} C_{x}+D(Csi - Cs)$"
      ],
      "metadata": {
        "id": "lvpllR0L-vxJ"
      }
    },
    {
      "cell_type": "markdown",
      "source": [
        "Da mesma maneira, na batelada alimentada, a variação da concentração é integrada"
      ],
      "metadata": {
        "id": "NEWS45Q2op2y"
      }
    },
    {
      "cell_type": "code",
      "source": [
        "from scipy.integrate import odeint\n",
        "from numpy import arange\n",
        "import matplotlib.pyplot as plt\n",
        "import numpy as np"
      ],
      "metadata": {
        "id": "jiNmj7iSFVG7"
      },
      "execution_count": null,
      "outputs": []
    },
    {
      "cell_type": "code",
      "source": [
        "#Função para retornar dCx/dt\n",
        "def Concentracao(state,t):\n",
        "    Cx, Cs = state\n",
        "    umax = 0.3\n",
        "    Ks= 3\n",
        "    yxs= 0.322862263410841\n",
        "    kd = 0.05\n",
        "    Q = 0.2\n",
        "    V0=2.0\n",
        "    D=Q/(V0+Q*t)\n",
        "    Csi = 169.63680561761663\n",
        "    dCx_dt = ((((umax*Cs)/(Ks+Cs))-kd)-D)*Cx\n",
        "    dCs_dt = (-(1/yxs)*(umax*Cs)/(Ks+Cs))*Cx + (D*(Csi - Cs))\n",
        "    return [dCx_dt, dCs_dt]\n",
        "\n",
        "init_state = [3.474067087310976,10.076434571773264]\n",
        "t= arange(0,80,0.5)\n",
        "state=odeint(Concentracao, init_state, t)"
      ],
      "metadata": {
        "id": "ygpd_kZXFWZN"
      },
      "execution_count": null,
      "outputs": []
    },
    {
      "metadata": {
        "id": "rHajd9VEAkJq",
        "colab": {
          "base_uri": "https://localhost:8080/",
          "height": 282
        },
        "outputId": "df1d827e-17c6-4fe2-8da3-308203c49095"
      },
      "cell_type": "code",
      "source": [
        "# Dados Experimentais\n",
        "Cx=np.array([4.5, 4.35, 4.04, 4.44, 3.96, 3.735, 4.09, 4.23, 5.95, 4.41, 4.17, 4.735, 4.47, 5.075, 3.66, 3.425, 4.025]) #Valores de tempo e Cx\n",
        "Cs=np.array([16.51, 13.43, 15.36, 26.8, 22.82, 32.25, 39.59, 41.964, 46.895, 47.739, 76.739, 61.397, 52.119, 63.9, 55.688, 57.327, 58.798]) #Valores de tempo e Cs\n",
        "texp=np.array([0,0.5,1,1.5,2,2.5,3,3.5,4,4.5,5,6,6.5,7,7.5, 8, 8.5]) #Variação do tempo experimental\n",
        "\n",
        "#Plotar resultados\n",
        "plt.plot(t,state[:,0],label='Cx')\n",
        "plt.plot(t,state[:,1],label='Cs')\n",
        "plt.plot(texp,Cx,\"o\", label='Exp Cx')\n",
        "plt.plot(texp,Cs,\"o\", label='Exp Cs')\n",
        "plt.xlabel('Tempo')\n",
        "plt.ylabel('Concentracao (t)')\n",
        "plt.legend()\n",
        "plt.show()"
      ],
      "execution_count": null,
      "outputs": [
        {
          "output_type": "display_data",
          "data": {
            "text/plain": [
              "<Figure size 432x288 with 1 Axes>"
            ],
            "image/png": "[encoded data removed]"
          },
          "metadata": {
            "needs_background": "light"
          }
        }
      ]
    },
    {
      "cell_type": "markdown",
      "source": [
        "Utilizando o algoritmo genético, ajusta-se o modelo aos dados experimentais \n",
        "(Variação do volume do reator no eixo secundário)"
      ],
      "metadata": {
        "id": "RK18EvhNo5Qp"
      }
    },
    {
      "cell_type": "code",
      "source": [
        "from scipy.integrate import odeint\n",
        "from numpy import arange\n",
        "import matplotlib.pyplot as plt\n",
        "import numpy as np\n",
        "import pandas as pd\n",
        "from scipy.optimize import differential_evolution"
      ],
      "metadata": {
        "id": "YiGcnngLEads"
      },
      "execution_count": 68,
      "outputs": []
    },
    {
      "cell_type": "code",
      "source": [
        "#Conjunto de Dados\n",
        "importado = pd.read_excel(\"Dados_Batelada_Alimentada.xlsx\")\n",
        "importado_np = importado.values\n",
        "Cx_exp = importado_np[:,1]\n",
        "Cs_exp = importado_np[:,2]\n",
        "texp = importado_np[:,0]\n",
        "\n",
        "t=texp #Variação do tempo;"
      ],
      "metadata": {
        "id": "gqPGsbl7Eb_T"
      },
      "execution_count": 69,
      "outputs": []
    },
    {
      "cell_type": "code",
      "source": [
        "#w[0] um\n",
        "#w[1] yxs\n",
        "#w[2] ks\n",
        "#w[3] kd\n",
        "#w[4] Cx\n",
        "#w[5] Cs\n",
        "#w[6] Csi"
      ],
      "metadata": {
        "id": "AKlE3vQNEdyS"
      },
      "execution_count": 70,
      "outputs": []
    },
    {
      "cell_type": "code",
      "source": [
        "#Função para retornar dCx/dt\n",
        "counter = 1\n",
        "def Concentracao(state, t, k):\n",
        "    umax = k[0]\n",
        "    yxs = k[1]\n",
        "    ks = k[2]\n",
        "    kd = k[3]\n",
        "    Q = 0.25\n",
        "    V0 = 2\n",
        "    Csi = k[4]\n",
        "    Cx, Cs = state\n",
        "    D=Q/(V0+Q*t)\n",
        "    dCx_dt = ((((umax*Cs)/(ks+Cs))-kd)-D)*Cx\n",
        "    dCs_dt = (-(1/yxs)*(umax*Cs)/(ks+Cs))*Cx + (D*(Csi - Cs))\n",
        "    return [dCx_dt, dCs_dt]\n",
        "\n",
        "def Integração(w):\n",
        "    global C_sim\n",
        "    init_state=[w[4],w[5]] #Colocar valores de início para o Cx e Cs\n",
        "    k = [w[0], w[1], w[2], w[3], w[6]]\n",
        "    C_sim = odeint(Concentracao, init_state, t, args = (k,))\n",
        "    if counter == 1:\n",
        "      residuoCx = np.sqrt(sum((Cx_exp - C_sim[:,0])**2)/len(Cx_exp))\n",
        "      residuoCs = np.sqrt(sum((Cs_exp - C_sim[:,1])**2)/len(Cs_exp))\n",
        "      residuoC = np.sqrt(residuoCx**2 + residuoCs**2)\n",
        "      return residuoC\n",
        "    else:\n",
        "      return C_sim\n",
        "\n",
        "resultado = differential_evolution(Integração, bounds = [(0.01,0.5), (0,0.6), (0,10), (0,1), (0,10), (5,20), (75,300)], maxiter=2000, popsize=35)\n",
        "parametros = resultado.x"
      ],
      "metadata": {
        "id": "wj-g7s2FEhwb",
        "colab": {
          "base_uri": "https://localhost:8080/"
        },
        "outputId": "e530c3b3-3a28-47d5-b902-c63436ac50bf"
      },
      "execution_count": 71,
      "outputs": [
        {
          "output_type": "stream",
          "name": "stderr",
          "text": [
            "/usr/local/lib/python3.7/dist-packages/scipy/integrate/odepack.py:247: ODEintWarning: Excess work done on this call (perhaps wrong Dfun type). Run with full_output = 1 to get quantitative information.\n",
            "  warnings.warn(warning_msg, ODEintWarning)\n"
          ]
        }
      ]
    },
    {
      "cell_type": "code",
      "source": [
        "print('umax = %.2f' %resultado.x[0]) \n",
        "print('yxs = %.2f' %resultado.x[1])\n",
        "print('ks = %.2f' %resultado.x[2])\n",
        "print('kd = %.2f' %resultado.x[3])\n",
        "print('Cx = %.2f' %resultado.x[4])\n",
        "print('Cs = %.2f' %resultado.x[5])\n",
        "print('Cs_i = %.2f' %resultado.x[6])\n",
        "print('-'*20)"
      ],
      "metadata": {
        "colab": {
          "base_uri": "https://localhost:8080/"
        },
        "id": "jIbHqrIQEtrk",
        "outputId": "86fcc82c-4057-4745-91dd-e71216053849"
      },
      "execution_count": 72,
      "outputs": [
        {
          "output_type": "stream",
          "name": "stdout",
          "text": [
            "umax = 0.50\n",
            "yxs = 0.60\n",
            "ks = 6.18\n",
            "kd = 0.31\n",
            "Cx = 3.46\n",
            "Cs = 9.95\n",
            "Cs_i = 160.31\n",
            "--------------------\n"
          ]
        }
      ]
    },
    {
      "cell_type": "code",
      "source": [
        "t= arange(0,30,0.5)\n",
        "Q=0.25\n",
        "V0 = 2.0\n",
        "Volume = V0+Q*t"
      ],
      "metadata": {
        "id": "1fipuROiJngs"
      },
      "execution_count": 73,
      "outputs": []
    },
    {
      "cell_type": "code",
      "source": [
        "counter = 0\n",
        "Csim = Integração ((resultado.x[0], resultado.x[1], resultado.x[2], resultado.x[3], resultado.x[4], resultado.x[5], resultado.x[6]))\n",
        "\n",
        "#Plotar resultados\n",
        "fig, ax1 = plt.subplots()\n",
        "\n",
        "ax1.plot(t,Csim,label='Cx')\n",
        "ax1.plot(t,Csim,label='Cs')\n",
        "ax1.plot(texp,Cx_exp,\"o\", label='Exp Cx')\n",
        "ax1.plot(texp,Cs_exp,\"o\", label='Exp Cs')\n",
        "ax1.set_ylabel('Concentracao (t)')\n",
        "ax2 = ax1.twinx()\n",
        "ax2.plot(t,Volume,label='Volume(t)')\n",
        "ax2.set_ylabel('Volume (t)')\n",
        "ax2.set_ylim([0, 10])\n",
        "ax1.set_xlabel('Tempo')\n",
        "plt.legend()\n",
        "plt.show()"
      ],
      "metadata": {
        "id": "7viOvM8nezcV",
        "colab": {
          "base_uri": "https://localhost:8080/",
          "height": 283
        },
        "outputId": "dde77187-0fc3-4ea3-b8ab-839c1db209b2"
      },
      "execution_count": 74,
      "outputs": [
        {
          "output_type": "display_data",
          "data": {
            "text/plain": [
              "<Figure size 432x288 with 2 Axes>"
            ],
            "image/png": "[encoded data removed]"
          },
          "metadata": {
            "needs_background": "light"
          }
        }
      ]
    },
    {
      "cell_type": "markdown",
      "source": [
        "#Contínuo"
      ],
      "metadata": {
        "id": "TvH6B5lT61-R"
      }
    },
    {
      "cell_type": "markdown",
      "source": [
        "###Processo Contínuo sem Reciclo"
      ],
      "metadata": {
        "id": "Bah9iRGI9pRI"
      }
    },
    {
      "cell_type": "markdown",
      "source": [
        "**O que é um processo contínuo sem reciclo?**\n",
        "\n",
        "Um processo contínuo sem reciclo é carecterizado pela **entrada e saída constante** de volume do processo, de maneira que o volume presente no reator não varie, **sem realimentação de células no processo**."
      ],
      "metadata": {
        "id": "-hjBRfCl9tDe"
      }
    },
    {
      "cell_type": "markdown",
      "source": [
        "Como o processo é contínuo, isto é, o volume no reator não varia ao longo do tempo, temos:"
      ],
      "metadata": {
        "id": "5qCUJ4uv_0uI"
      }
    },
    {
      "cell_type": "markdown",
      "source": [
        "$Cs=\\frac{ksD}{\\mu_{max}-D}$\n",
        "\n",
        "$Cx = Yxs\\cdot(C_{si}-\\frac{ksD}{mimax-D})$"
      ],
      "metadata": {
        "id": "Wo-hEnmTM8jc"
      }
    },
    {
      "cell_type": "code",
      "source": [
        "import numpy as np\n",
        "import matplotlib.pyplot as plt"
      ],
      "metadata": {
        "id": "zLwbdwpi_AAO"
      },
      "execution_count": 76,
      "outputs": []
    },
    {
      "cell_type": "code",
      "source": [
        "# Definição dos parâmetros necessários\n",
        "\n",
        "mimax = 0.5 # [mimax] = 1/h\n",
        "ks = 0.2 # [ks] = kg/m³\n",
        "Yxs = 0.5 # [Yxs] = -\n",
        "Csi = 20 # [Cs de entrada] = kg/m³\n",
        "D=np.arange(0,0.4951,0.0001) # [D] = 1/h"
      ],
      "metadata": {
        "id": "5Fc7APewAS0x"
      },
      "execution_count": 77,
      "outputs": []
    },
    {
      "cell_type": "code",
      "source": [
        "# Cálculo das Variáveis de Interesse\n",
        "\n",
        "#Concentração de Substrato (kg/m³)\n",
        "Cs=(ks*D)/(mimax-D)\n",
        "\n",
        "#Concentração de Células (kg/m³)\n",
        "Cx=(Csi-((ks*D)/(mimax-D)))*Yxs"
      ],
      "metadata": {
        "id": "uyrP6-6yAooc"
      },
      "execution_count": 80,
      "outputs": []
    },
    {
      "cell_type": "code",
      "source": [
        "# Construção do Gráfico\n",
        "\n",
        "plt.figure(figsize=(10,6), facecolor=\"white\", edgecolor=\"black\")\n",
        "\n",
        "plt.plot(D, Cs, label = \"Cs\", color=\"blue\", linewidth=2, linestyle=\"-\")\n",
        "plt.plot(D, Cx, label = \"Cx\", color=\"red\", linewidth=2, linestyle=\"-\")\n",
        "\n",
        "plt.title(\"Processo Contínuo Sem Reciclo\",fontdict={'fontsize':22})\n",
        "plt.xlabel(\"Taxa de Diluição (1/h)\", fontdict={'fontsize':15})\n",
        "plt.ylabel(\"Concentração (kg/m³)\", fontdict={'fontsize':15})\n",
        "\n",
        "plt.legend(fontsize=15, edgecolor=\"black\")\n",
        "\n",
        "plt.show()"
      ],
      "metadata": {
        "colab": {
          "base_uri": "https://localhost:8080/",
          "height": 415
        },
        "id": "dLbcgSLTAqSI",
        "outputId": "18430eb7-86a3-4da7-c963-733ffd4ab2e5"
      },
      "execution_count": 84,
      "outputs": [
        {
          "output_type": "display_data",
          "data": {
            "text/plain": [
              "<Figure size 720x432 with 1 Axes>"
            ],
            "image/png": "[encoded data removed]"
          },
          "metadata": {}
        }
      ]
    },
    {
      "cell_type": "markdown",
      "source": [
        "###Processo Contínuo com Reciclo Externo"
      ],
      "metadata": {
        "id": "7fi3BgoWPa7i"
      }
    },
    {
      "cell_type": "markdown",
      "source": [
        "**O que é um processo contínuo com reciclo externo?**\n",
        "\n",
        "Um processo contínuo com reciclo externo é carecterizado pela **entrada e saída constante**, de maneira que o volume presente no reator não varie, com realimentação de células no processo. Essas **células são concentradas** em uma unidade de **separação externa** ao reator."
      ],
      "metadata": {
        "id": "wkHvogtwOr-f"
      }
    },
    {
      "cell_type": "markdown",
      "source": [
        "$Cs = \\frac{ks\\cdot D\\cdot (1+r\\cdot (1-c))}{\\mu_{max}-D(1+r(1+c))}$\n",
        "\n",
        "$Cx = \\frac{y_{xs}}{(1+r(1-c)))}\\cdot \\frac{ks\\cdot D\\cdot (1+r\\cdot (1-c))}{\\mu_{max}-D(1+r(1+c))})\\cdot Csi$"
      ],
      "metadata": {
        "id": "0IeQuw7iRVtk"
      }
    },
    {
      "cell_type": "code",
      "source": [
        "import numpy as np\n",
        "import matplotlib.pyplot as plt"
      ],
      "metadata": {
        "id": "FcqmJ92a_KM4"
      },
      "execution_count": 86,
      "outputs": []
    },
    {
      "cell_type": "code",
      "source": [
        "# Definição dos parâmetros necessários\n",
        "\n",
        "# Processo Contínuo sem Reciclo\n",
        "Se=20 #[Se]=kg/m³\n",
        "Yxs=0.5 #[Yxs]=Adimensional\n",
        "mimax=0.5 #[mimax]=1/h\n",
        "ks=0.1 #[ks]=kg/m³\n",
        "D=np.arange(0,0.4976,0.0001) #[D]=1/h\n",
        "\n",
        "# Processo Contínuo com Reciclo Externo\n",
        "ra=0.2 #[ra]=Adimensional\n",
        "ca=2 #[ca]=Adimensional\n",
        "rb=0.3 #[rb]=Adimensional\n",
        "cb=2 #[cb]=Adimensional\n",
        "rc=0.2 #[rc]=Adimensional\n",
        "cc=3 #[cc]=Adimensional\n",
        "rd=0.3 #[rd]=Adimensional\n",
        "cd=3 #[cd]=Adimensional\n",
        "Da=1.25*D #[Da]=1/h\n",
        "Db=1.42862*D #[Db]=1/h\n",
        "Dc=1.66666*D #[Dc]=1/h\n",
        "Dd=2.49999*D #[Dd]=1/h"
      ],
      "metadata": {
        "id": "j3IoX3plT6Ou"
      },
      "execution_count": 87,
      "outputs": []
    },
    {
      "cell_type": "code",
      "source": [
        "# Cálculo das Variáveis de Interesse\n",
        "\n",
        "# Processo Contínuo sem Reciclo\n",
        "# Concentração de Substrato(kg/m³)\n",
        "Ssr=(ks*D)/(mimax-D)\n",
        "# Concentração de Células(kg/m³)\n",
        "Xsr=(Se-Ssr)*Yxs\n",
        "# Produtividade(kg/m³.h)\n",
        "Psr=Xsr*D\n",
        "\n",
        "# Processo Contínuo com Reciclo Externo\n",
        "# Concentração de Substrato(kg/m³)\n",
        "Screa=(ks*Da*(1+ra*(1-ca)))/(mimax-Da*(1+ra*(1-ca)))\n",
        "Screb=(ks*Db*(1+rb*(1-cb)))/(mimax-Db*(1+rb*(1-cb)))\n",
        "Screc=(ks*Dc*(1+rc*(1-cc)))/(mimax-Dc*(1+rc*(1-cc)))\n",
        "Scred=(ks*Dd*(1+rd*(1-cd)))/(mimax-Dd*(1+rd*(1-cd)))\n",
        "#Concentração de Células Com Reciclo Externo(kg/m³)\n",
        "Xcrea=(Se-Screa)*(Yxs/(1+ra*(1-ca)))\n",
        "Xcreb=(Se-Screb)*(Yxs/(1+rb*(1-cb)))\n",
        "Xcrec=(Se-Screc)*(Yxs/(1+rc*(1-cc)))\n",
        "Xcred=(Se-Scred)*(Yxs/(1+rd*(1-cd)))\n",
        "# Produtividade(kg/m³.h)\n",
        "Pcrea=Xcrea*Da\n",
        "Pcreb=Xcreb*Db\n",
        "Pcrec=Xcrec*Dc\n",
        "Pcred=Xcred*Dd"
      ],
      "metadata": {
        "id": "-jwxbiT4Uei3"
      },
      "execution_count": 88,
      "outputs": []
    },
    {
      "cell_type": "code",
      "source": [
        "# Construção do Gráfico\n",
        "\n",
        "fig, ax1 = plt.subplots(figsize=(15,9))\n",
        "\n",
        "ax1.plot(D, Xsr, linestyle=\"-\", color=\"red\", label=\"X sem reciclo\")\n",
        "ax1.plot(Da, Xcrea, linestyle=\"-\", color=\"blue\", label=\"Xa\")\n",
        "ax1.plot(Db, Xcreb, linestyle=\"-\", color=\"yellow\", label=\"Xb\")\n",
        "ax1.plot(Dc, Xcrec, linestyle=\"-\", color=\"green\", label=\"Xc\")\n",
        "ax1.plot(Dd, Xcred, linestyle=\"-\", color=\"black\", label=\"Xd\")\n",
        "\n",
        "ax1.set_xlabel(\"Taxa de Diluição (1/h)\", fontdict={'fontsize':15})\n",
        "ax1.set_ylabel(\"Concentração de Células (kg/m³)\", fontdict={'fontsize':15})\n",
        "ax1.set_ylim(0, 30)\n",
        "\n",
        "ax1.legend(ncol=5, bbox_to_anchor=(0.648,-0.1), fontsize=15)\n",
        "ax1.grid(linestyle=\":\")\n",
        "\n",
        "ax2 = plt.twinx(ax1)\n",
        "\n",
        "ax2.plot(D, Psr, linestyle=\"--\", color=\"red\", label=\"PX sem reciclo\")\n",
        "ax2.plot(Da, Pcrea, linestyle=\"--\", color=\"blue\", label=\"PXa\")\n",
        "ax2.plot(Db, Pcreb, linestyle=\"--\", color=\"yellow\", label=\"PXb\")\n",
        "ax2.plot(Dc, Pcrec, linestyle=\"--\", color=\"green\", label=\"PXc\")\n",
        "ax2.plot(Dd, Pcred, linestyle=\"--\", color=\"black\", label=\"PXd\")\n",
        "\n",
        "ax2.set_ylabel(\"Produtividade de Células (kg/m³.h)\", fontdict={'fontsize':15})\n",
        "ax2.set_ylim(0, 30)\n",
        "\n",
        "ax2.legend(ncol=5, bbox_to_anchor=(0.7,-0.18), fontsize=15)\n",
        "\n",
        "plt.title(\"Processo Contínuo com Reciclo Externo\",fontdict={'fontsize':25})"
      ],
      "metadata": {
        "colab": {
          "base_uri": "https://localhost:8080/",
          "height": 686
        },
        "id": "4Vffuxs_VmM0",
        "outputId": "74637549-a668-41fc-e122-3d07c06e9b15"
      },
      "execution_count": 89,
      "outputs": [
        {
          "output_type": "execute_result",
          "data": {
            "text/plain": [
              "Text(0.5, 1.0, 'Processo Contínuo com Reciclo Externo')"
            ]
          },
          "metadata": {},
          "execution_count": 89
        },
        {
          "output_type": "display_data",
          "data": {
            "text/plain": [
              "<Figure size 1080x648 with 2 Axes>"
            ],
            "image/png": "[encoded data removed]"
          },
          "metadata": {
            "needs_background": "light"
          }
        }
      ]
    },
    {
      "cell_type": "markdown",
      "source": [
        "###Processo Contínuo com Reciclo Interno"
      ],
      "metadata": {
        "id": "5bPPWW17PdkN"
      }
    },
    {
      "cell_type": "markdown",
      "source": [
        "**O que é um processo contínuo com reciclo interno?**\n",
        "\n",
        "Um processo contínuo com reciclo interno é carecterizado pela **entrada e saída constante** de volume do processo, de maneira que o volume presente no reator não varie, com **retenção de células no processo**. Essas células são concentradas em uma unidade de **separação interna** ao reator."
      ],
      "metadata": {
        "id": "LwrpAcosPjRM"
      }
    },
    {
      "cell_type": "markdown",
      "source": [
        "$Cs = \\frac{ks\\cdot D\\cdot (h(1-f)+f)}{\\mu_{max}-D(h(1-f)+f)}$\n",
        "\n",
        "$Cx = \\frac{y_{xs}}{h(1-f)+f)} \\cdot \\frac{ks\\cdot D\\cdot (h(1-f)+f)}{\\mu_{max}-D(h(1-f)+f)}$"
      ],
      "metadata": {
        "id": "l6fSifQZT5U4"
      }
    },
    {
      "cell_type": "code",
      "source": [
        "import numpy as np\n",
        "import matplotlib.pyplot as plt"
      ],
      "metadata": {
        "id": "xs7iuEqEX-2k"
      },
      "execution_count": 90,
      "outputs": []
    },
    {
      "cell_type": "code",
      "source": [
        "# Definição dos parâmetros necessários\n",
        "\n",
        "# Processo Contínuo sem Reciclo\n",
        "Se=20 #[Se]=kg/m³\n",
        "Yxs=0.5 #[Yxs]=Adimensional\n",
        "mimax=0.3 #[mimax]=1/h\n",
        "ks=0.5 #[ks]=kg/m³\n",
        "D=np.arange(0,0.2976,0.0001) #[D]=1/h\n",
        "\n",
        "# Processo contícuo com Reciclo Interno\n",
        "ha=0.2 #[ha]=Adimensional\n",
        "fa=0.8 #[fa]=Adimensional\n",
        "hb=0.6 #[hb]=Adimensional\n",
        "fb=0.2 #[fb]=Adimensional\n",
        "hc=0.2 #[hc]=Adimensional\n",
        "fc=0.4 #[fc]=Adimensional\n",
        "hd=0.3 #[hd]=Adimensional\n",
        "fd=0.2 #[fd]=Adimensional\n",
        "Da=1.19000*D #[Da]=1/h\n",
        "Db=1.47000*D #[Db]=1/h\n",
        "Dc=1.92000*D #[Dc]=1/h\n",
        "Dd=2.27000*D #[Dd]=1/h"
      ],
      "metadata": {
        "id": "YIcrVjyeYCTf"
      },
      "execution_count": 91,
      "outputs": []
    },
    {
      "cell_type": "code",
      "source": [
        "# Cálculo das Variáveis de Interesse\n",
        "\n",
        "# Processo Contínuo sem Reciclo\n",
        "#Concentração de Substrato(kg/m³)\n",
        "Ssr=(ks*D)/(mimax-D)\n",
        "#Concentração de Células(kg/m³)\n",
        "Xsr=(Se-Ssr)*Yxs\n",
        "#Produtividade(kg/m³.h)\n",
        "Psr=Xsr*D\n",
        "\n",
        "# Processo Contínuo com Reciclo Interno\n",
        "# Concentração de Substrato(kg/m³)\n",
        "Scria=(ks*Da*(ha*(1-fa)+fa))/(mimax-Da*(ha*(1-fa)+fa))\n",
        "Scrib=(ks*Db*(hb*(1-fb)+fb))/(mimax-Db*(hb*(1-fb)+fb))\n",
        "Scric=(ks*Dc*(hc*(1-fc)+fc))/(mimax-Dc*(hc*(1-fc)+fc))\n",
        "Scrid=(ks*Dd*(hd*(1-fd)+fd))/(mimax-Dd*(hd*(1-fd)+fd))\n",
        "# Concentração de Células Com Reciclo Externo(kg/m³)\n",
        "Xcria=(Se-Scria)*(Yxs/(ha*(1-fa)+fa))\n",
        "Xcrib=(Se-Scrib)*(Yxs/(hb*(1-fb)+fb))\n",
        "Xcric=(Se-Scric)*(Yxs/(hc*(1-fc)+fc))\n",
        "Xcrid=(Se-Scrid)*(Yxs/(hd*(1-fd)+fd))\n",
        "# Produtividade(kg/m³.h)\n",
        "Pcria=Xcria*Da\n",
        "Pcrib=Xcrib*Db\n",
        "Pcric=Xcric*Dc\n",
        "Pcrid=Xcrid*Dd"
      ],
      "metadata": {
        "id": "dqzRKVqzYF37"
      },
      "execution_count": 92,
      "outputs": []
    },
    {
      "cell_type": "code",
      "source": [
        "# Construção do Gráfico\n",
        "\n",
        "fig, ax1 = plt.subplots(figsize=(15,9))\n",
        "\n",
        "ax1.plot(D, Xsr, linestyle=\"-\", color=\"red\", label=\"X sem reciclo\")\n",
        "ax1.plot(Da, Xcria, linestyle=\"-\", color=\"blue\", label=\"Xa\")\n",
        "ax1.plot(Db, Xcrib, linestyle=\"-\", color=\"yellow\", label=\"Xb\")\n",
        "ax1.plot(Dc, Xcric, linestyle=\"-\", color=\"green\", label=\"Xc\")\n",
        "ax1.plot(Dd, Xcrid, linestyle=\"-\", color=\"black\", label=\"Xd\")\n",
        "\n",
        "ax1.set_xlabel(\"Taxa de Diluição (1/h)\", fontdict={'fontsize':15})\n",
        "ax1.set_ylabel(\"Concentração de Células (kg/m³)\", fontdict={'fontsize':15})\n",
        "ax1.set_ylim(0, 30)\n",
        "\n",
        "ax1.legend(ncol=5, bbox_to_anchor=(0.6176,-0.1), fontsize=15)\n",
        "ax1.grid(linestyle=\":\")\n",
        "\n",
        "ax2 = plt.twinx(ax1)\n",
        "\n",
        "ax2.plot(D, Psr, linestyle=\"--\", color=\"red\", label=\"PX sem reciclo\")\n",
        "ax2.plot(Da, Pcria, linestyle=\"--\", color=\"blue\", label=\"PXa\")\n",
        "ax2.plot(Db, Pcrib, linestyle=\"--\", color=\"yellow\", label=\"PXb\")\n",
        "ax2.plot(Dc, Pcric, linestyle=\"--\", color=\"green\", label=\"PXc\")\n",
        "ax2.plot(Dd, Pcrid, linestyle=\"--\", color=\"black\", label=\"PXd\")\n",
        "\n",
        "ax2.set_ylabel(\"Produtividade de Células (kg/m³.h)\", fontdict={'fontsize':15})\n",
        "ax2.set_ylim(0, 30)\n",
        "\n",
        "ax2.legend(ncol=5, bbox_to_anchor=(0.6411,-0.18), fontsize=15)\n",
        "\n",
        "plt.title(\"Processo Contínuo com Reciclo Interno\",fontdict={'fontsize':25})"
      ],
      "metadata": {
        "colab": {
          "base_uri": "https://localhost:8080/",
          "height": 686
        },
        "id": "lPz-qy6dYKVq",
        "outputId": "d7503a2e-1bad-4a53-8fa3-0f2e612e27ae"
      },
      "execution_count": 93,
      "outputs": [
        {
          "output_type": "execute_result",
          "data": {
            "text/plain": [
              "Text(0.5, 1.0, 'Processo Contínuo com Reciclo Interno')"
            ]
          },
          "metadata": {},
          "execution_count": 93
        },
        {
          "output_type": "display_data",
          "data": {
            "text/plain": [
              "<Figure size 1080x648 with 2 Axes>"
            ],
            "image/png": "[encoded data removed]"
          },
          "metadata": {
            "needs_background": "light"
          }
        }
      ]
    },
    {
      "cell_type": "markdown",
      "metadata": {
        "id": "C1wJ2wGx9X-6"
      },
      "source": [
        "## Exercícios"
      ]
    },
    {
      "cell_type": "markdown",
      "metadata": {
        "id": "J2Fv1hok9X-6"
      },
      "source": [
        "### Enunciado"
      ]
    },
    {
      "cell_type": "code",
      "execution_count": null,
      "metadata": {
        "outputId": "5a45a540-7c81-411c-fe79-008e533ae803",
        "id": "9fgtAR_jEKKM"
      },
      "outputs": [
        {
          "name": "stdout",
          "output_type": "stream",
          "text": [
            "Entre com o valor em graus Celsius: 35\n",
            "A Temperatura em graus Fahrenheit é 95.0\n"
          ]
        }
      ],
      "source": [
        "# Exercício 1 - Converte graus Celsius em Fahrenheit\n",
        "C = float(input(\"Entre com o valor em graus Celsius: \"))\n",
        "F = ((9 * C)/5)+32\n",
        "print(\"A Temperatura em graus Fahrenheit é {}\".format(F))\n"
      ]
    },
    {
      "cell_type": "code",
      "execution_count": null,
      "metadata": {
        "id": "OBBsSd2r9X-7",
        "outputId": "2fdda35e-7a7b-4dc9-8998-3316e28a1ffe"
      },
      "outputs": [
        {
          "name": "stdout",
          "output_type": "stream",
          "text": [
            "Entre com o valor da distância em metros: 10\n",
            "A distância em milimetros é 10000.0\n"
          ]
        }
      ],
      "source": [
        "# Exercício 2 - Converte metros em milimetros\n",
        "M = float(input(\"Entre com o valor da distância em metros: \"))\n",
        "mm = M * 1000\n",
        "print(\"A distância em milimetros é {}\".format(mm))"
      ]
    },
    {
      "cell_type": "code",
      "execution_count": null,
      "metadata": {
        "outputId": "87bee54a-6036-46fd-c239-c5c51c966a0f",
        "id": "6kWGHa2oEKKN"
      },
      "outputs": [
        {
          "name": "stdout",
          "output_type": "stream",
          "text": [
            "Entre com o valor do lado do quadrado 15\n",
            "perímetro: 60 -área: 225\n"
          ]
        }
      ],
      "source": [
        "#Exercício 3 - Calcula o perímetro e área de um quadrado de lado l\n",
        "\n",
        "l = input(\"Entre com o valor do lado do quadrado \")\n",
        "l = int(l)\n",
        "\n",
        "x = l *4\n",
        "y = l*l\n",
        "\n",
        "print('perímetro:', x, '-área:', y)"
      ]
    },
    {
      "cell_type": "code",
      "execution_count": null,
      "metadata": {
        "id": "TvqgCj2v9X-7",
        "outputId": "9ef9b96f-cc1c-42d6-faf2-612b3da53f02"
      },
      "outputs": [
        {
          "name": "stdout",
          "output_type": "stream",
          "text": [
            "Entre com o valor da primeira nota10\n",
            "Entre com o valor da segunda nota7\n",
            "Entre com o valor da terceira nota6\n",
            "Entre com o valor da quarta nota6.5\n",
            "A média aritmética é 7.375\n"
          ]
        }
      ],
      "source": [
        "#Exercício 4 - Faça um programa em Python que receba quatro notas, calcule e imprima a média aritmética.\n",
        "\n",
        "a = input('Entre com o valor da primeira nota')\n",
        "b = input('Entre com o valor da segunda nota')\n",
        "c = input('Entre com o valor da terceira nota')\n",
        "d = input('Entre com o valor da quarta nota')\n",
        "a = float(a)\n",
        "b = float(b)\n",
        "c = float(c)\n",
        "d = float(d)\n",
        "media = (a + b + c + d) / 4\n",
        "print('A média aritmética é', media)\n"
      ]
    },
    {
      "cell_type": "code",
      "execution_count": null,
      "metadata": {
        "id": "5sH_kVZB9X-7",
        "outputId": "10405dfb-100f-492c-8e1d-9a2cb01c31a4"
      },
      "outputs": [
        {
          "name": "stdout",
          "output_type": "stream",
          "text": [
            "Entre com o peso em quilogramas: 85\n",
            "Entre com a estatura em metros: 1.82\n",
            "O índice de massa corporal é 25.661152034778407\n"
          ]
        }
      ],
      "source": [
        "# Exercício 5 - Calcule IMC\n",
        "massa = float(input(\"Entre com o peso em quilogramas: \"))\n",
        "altura = float(input(\"Entre com a estatura em metros: \"))\n",
        "IMC = (massa) / (altura**2)\n",
        "print(\"O índice de massa corporal é {}\".format(IMC))"
      ]
    },
    {
      "cell_type": "markdown",
      "metadata": {
        "id": "QkI2gnEI9X-8"
      },
      "source": [
        "Desafio - Faça um programa em que dada a quantidade de segundos, converta esse valor em dias, horas, minutos e segundos. A saída deve estar no formato: a dias, b horas, c minutos e d segundos."
      ]
    },
    {
      "cell_type": "code",
      "execution_count": null,
      "metadata": {
        "id": "2JXCYuTn9X-8",
        "outputId": "95a52630-b0fe-4985-9663-7ed8f2892821"
      },
      "outputs": [
        {
          "name": "stdout",
          "output_type": "stream",
          "text": [
            "Entre com o tempo em segundos que quer converter: 2000\n",
            "0 dias, 0 horas, 33 minutos e 20 segundos.\n"
          ]
        }
      ],
      "source": [
        "seg = int(input(\"Entre com o tempo em segundos que quer converter: \"))\n",
        "dia = seg // 86400\n",
        "dia_rest = seg % 86400\n",
        "hora = dia_rest // 3600\n",
        "hora_rest = dia_rest % 3600\n",
        "min = hora_rest // 60\n",
        "seg_rest = hora_rest % 60\n",
        "\n",
        "print(dia, \"dias,\", hora, \"horas,\", min, \"minutos e\", seg_rest, \"segundos.\" )"
      ]
    }
  ]
}