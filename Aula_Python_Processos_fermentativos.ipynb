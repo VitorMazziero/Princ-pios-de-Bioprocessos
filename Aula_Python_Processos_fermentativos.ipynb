{
  "nbformat": 4,
  "nbformat_minor": 0,
  "metadata": {
    "colab": {
      "provenance": [],
      "collapsed_sections": [],
      "toc_visible": true,
      "include_colab_link": true
    },
    "language_info": {
      "name": "python"
    },
    "kernelspec": {
      "name": "python3",
      "display_name": "Python 3"
    }
  },
  "cells": [
    {
      "cell_type": "markdown",
      "metadata": {
        "id": "view-in-github",
        "colab_type": "text"
      },
      "source": [
        "<a href=\"https://colab.research.google.com/github/VitorMazziero/Princ-pios-de-Bioprocessos/blob/main/Aula_Python_Processos_fermentativos.ipynb\" target=\"_parent\"><img src=\"https://colab.research.google.com/assets/colab-badge.svg\" alt=\"Open In Colab\"/></a>"
      ]
    },
    {
      "metadata": {
        "id": "VmriwdpCr1MD"
      },
      "cell_type": "markdown",
      "source": [
        "#Introdução ao Python"
      ]
    },
    {
      "cell_type": "markdown",
      "metadata": {
        "id": "c7uQwVs79X-h"
      },
      "source": [
        "### Python"
      ]
    },
    {
      "cell_type": "markdown",
      "metadata": {
        "id": "PaNRpAhn9X-h"
      },
      "source": [
        "Python é uma linguagem de programação interpretada que foi lançada em 1991 e vem ganhando muitos adeptos por já ter uma forte comunidade que trabalha para o desenvolvimento de aplicações, utiliza o modelo comunitário de desenvolvimento e tem licença livre. "
      ]
    },
    {
      "cell_type": "markdown",
      "metadata": {
        "id": "__gMkhu89X-h"
      },
      "source": [
        "### Anaconda"
      ]
    },
    {
      "cell_type": "markdown",
      "metadata": {
        "id": "i17P1Q0J9X-h"
      },
      "source": [
        "Anaconda é um software de distribuição livre e de código aberto para as linguagens de programação em Python e R, Anaconda facilita muito o trabalho das pessoas que querem aprender a programar em Python ou R, pois já instala mais de 250 pacotes científicos para o usuário sem a necessidade instalação manual.\n",
        "\n",
        "Para instalação da Anaconda entre no site www.anaconda.com/downloads, escolha a versão do Python 3.6 ou 2.7, neste livro utilizaremos a versão 3.6\n",
        "\n",
        "Dentro do software Anaconda contém aplicações com interface gráfica para os usuários, onde facilitará o uso do Python ou R para os usuários.\n",
        "\n",
        "Uma destas aplicações é Jupyter Notebook é um ambiente gráfico para a programação em Python, R e Julia, que pode ser acessado online que o usuário pode programar mesmo online ou instalar o Jupyter Notebook em seu computador. O website é http://jupyter.org/.\n"
      ]
    },
    {
      "cell_type": "markdown",
      "metadata": {
        "id": "pFGh3ivx9X-i"
      },
      "source": [
        "### Comandos Básicos"
      ]
    },
    {
      "cell_type": "markdown",
      "metadata": {
        "id": "PB5HYO2J9X-j"
      },
      "source": [
        "Em Python a cerquilha (#) é utilizado para comentários do programa, tudo que vem posterior à cerquilha será ignorado pelo Python, serve apenas para explicar ou orientar o programador.\n",
        "A primeira função é o print, que tem a função de imprimir, então temos que escrever print e entres os parênteses colocar o que queremos que o Python imprima.\n"
      ]
    },
    {
      "cell_type": "code",
      "execution_count": null,
      "metadata": {
        "id": "k7sOIwv49X-j"
      },
      "outputs": [],
      "source": [
        "# Teste"
      ]
    },
    {
      "metadata": {
        "id": "rpUqzxRhm-Wk",
        "colab": {
          "base_uri": "https://localhost:8080/"
        },
        "outputId": "c7cd8bc6-c10e-4bc8-8830-4783a3a89e37"
      },
      "cell_type": "code",
      "source": [
        "# Minha primeira frase\n",
        "print('Olá Python')"
      ],
      "execution_count": null,
      "outputs": [
        {
          "output_type": "stream",
          "name": "stdout",
          "text": [
            "Olá Python\n"
          ]
        }
      ]
    },
    {
      "metadata": {
        "id": "XH40mBV4tArL",
        "colab": {
          "base_uri": "https://localhost:8080/"
        },
        "outputId": "c5fb9e8a-56b3-4fbe-dfbf-f7869c24a69e"
      },
      "cell_type": "code",
      "source": [
        "# Vamos tentar diferente\n",
        "a='Olá ' #necessita do espaço, senão ele irá unir sem o espaço entre eles, ficando tudo junto\n",
        "b=\"Python\" #entrada de dados\n",
        "print(a+b)"
      ],
      "execution_count": null,
      "outputs": [
        {
          "output_type": "stream",
          "name": "stdout",
          "text": [
            "Olá Python\n"
          ]
        }
      ]
    },
    {
      "metadata": {
        "id": "NQyjPyOluFhC",
        "colab": {
          "base_uri": "https://localhost:8080/"
        },
        "outputId": "b5ee39bf-4a84-4c3d-fa4e-4f0e360301f9"
      },
      "cell_type": "code",
      "source": [
        "print('@Deus ' + 'me ' + 'ajuda')"
      ],
      "execution_count": null,
      "outputs": [
        {
          "output_type": "stream",
          "name": "stdout",
          "text": [
            "@Deus me ajuda\n"
          ]
        }
      ]
    },
    {
      "metadata": {
        "id": "2IIG4pX8tyWt",
        "colab": {
          "base_uri": "https://localhost:8080/"
        },
        "outputId": "94d6121d-a721-49b0-ca72-1e32f8827092"
      },
      "cell_type": "code",
      "source": [
        "#Contas simples\n",
        "print(4+7)"
      ],
      "execution_count": null,
      "outputs": [
        {
          "output_type": "stream",
          "name": "stdout",
          "text": [
            "11\n"
          ]
        }
      ]
    },
    {
      "cell_type": "markdown",
      "metadata": {
        "id": "STchuWHP9X-m"
      },
      "source": [
        "Pode-se também realizar expressões mais complexas com os operadores básicos:\n",
        "\n",
        "Adição (+);\n",
        "\n",
        "Subtração (-) ;\n",
        "\n",
        "Multiplicação (*);\n",
        "\n",
        "Divisão (/)\n",
        "\n",
        "Exponenciação (**) ;\n",
        "\n",
        "Parte inteira da divisão (//)\n",
        "\n",
        "Resto da divisão (%)\n"
      ]
    },
    {
      "cell_type": "code",
      "execution_count": null,
      "metadata": {
        "id": "4yMNaRLO9X-m",
        "outputId": "f7c294f4-c784-496d-d983-9d0d20f22c0e",
        "colab": {
          "base_uri": "https://localhost:8080/"
        }
      },
      "outputs": [
        {
          "output_type": "execute_result",
          "data": {
            "text/plain": [
              "3"
            ]
          },
          "metadata": {},
          "execution_count": 48
        }
      ],
      "source": [
        "#Subtração\n",
        "7 - 4"
      ]
    },
    {
      "cell_type": "code",
      "execution_count": null,
      "metadata": {
        "id": "bIEtyNvc9X-m",
        "outputId": "2f138640-c47f-437b-ad9c-1c53fbda2754",
        "colab": {
          "base_uri": "https://localhost:8080/"
        }
      },
      "outputs": [
        {
          "output_type": "execute_result",
          "data": {
            "text/plain": [
              "10.0"
            ]
          },
          "metadata": {},
          "execution_count": 56
        }
      ],
      "source": [
        "# Divisão \n",
        "20 / 2"
      ]
    },
    {
      "cell_type": "code",
      "execution_count": null,
      "metadata": {
        "id": "za6znu4e9X-n",
        "outputId": "6a1846e0-ddbd-4db5-fd2b-7e749a928401",
        "colab": {
          "base_uri": "https://localhost:8080/"
        }
      },
      "outputs": [
        {
          "output_type": "execute_result",
          "data": {
            "text/plain": [
              "77"
            ]
          },
          "metadata": {},
          "execution_count": 50
        }
      ],
      "source": [
        "# Multiplicação\n",
        "11 * 7 "
      ]
    },
    {
      "cell_type": "code",
      "execution_count": null,
      "metadata": {
        "id": "Z3HQCkB79X-n",
        "outputId": "962365d3-2379-4a83-98de-bd54435ca61f",
        "colab": {
          "base_uri": "https://localhost:8080/"
        }
      },
      "outputs": [
        {
          "output_type": "execute_result",
          "data": {
            "text/plain": [
              "4"
            ]
          },
          "metadata": {},
          "execution_count": 59
        }
      ],
      "source": [
        "# Exponenciação\n",
        "2 ** 2"
      ]
    },
    {
      "cell_type": "code",
      "execution_count": null,
      "metadata": {
        "id": "VvmaxyqH9X-n",
        "outputId": "3ff63cbf-c8b8-44e3-b3ba-90fdb11d091b",
        "colab": {
          "base_uri": "https://localhost:8080/"
        }
      },
      "outputs": [
        {
          "output_type": "execute_result",
          "data": {
            "text/plain": [
              "5"
            ]
          },
          "metadata": {},
          "execution_count": 52
        }
      ],
      "source": [
        "# Divisão - Parte Inteira\n",
        "11 // 2"
      ]
    },
    {
      "cell_type": "code",
      "execution_count": null,
      "metadata": {
        "id": "jHfPezzj9X-o",
        "outputId": "6e9e67b2-936c-4491-df77-50c05b72fd4a",
        "colab": {
          "base_uri": "https://localhost:8080/"
        }
      },
      "outputs": [
        {
          "output_type": "execute_result",
          "data": {
            "text/plain": [
              "1"
            ]
          },
          "metadata": {},
          "execution_count": 61
        }
      ],
      "source": [
        "# Divisão - Resto\n",
        "13 % 2"
      ]
    },
    {
      "cell_type": "markdown",
      "source": [
        "### Tipos de Variáveis"
      ],
      "metadata": {
        "id": "OprRXFm6Bi-U"
      }
    },
    {
      "cell_type": "markdown",
      "metadata": {
        "id": "YRC2VSty9X-o"
      },
      "source": [
        "Existem alguns padrões de tipos de dados em Python, que são padrões de dados reconhecidos pela linguagem de programação, normalmente quando possíveis eles são mutáveis, dentro dos padrões numéricos existentes alguns tipos, que são os números inteiros (‘int’), números decimais (‘float’), números complexos (‘complex’) e um subitem dos números inteiros são os booleanos (‘bool’), este último está relacionado com Verdadeiro (‘True’) e Falso (‘False’), o valor Verdadeiro também recebe o valor de 1, e o valor Falso recebe 0.\n",
        "\n",
        "As saídas do exemplo anterior já foram classificadas automaticamente os tipos de dados de acordo com a sua entrada.\n",
        "\n",
        "O comando type retorna o tipo de padrão de dados que a Python classificou.\n"
      ]
    },
    {
      "cell_type": "code",
      "execution_count": null,
      "metadata": {
        "id": "MTBxzevU9X-o",
        "outputId": "83d9f154-e0b2-4f47-df8c-930a8efc579f",
        "colab": {
          "base_uri": "https://localhost:8080/"
        }
      },
      "outputs": [
        {
          "output_type": "stream",
          "name": "stdout",
          "text": [
            "<class 'int'>\n"
          ]
        }
      ],
      "source": [
        "a = 7 - 4 \n",
        "print(type(a))"
      ]
    },
    {
      "cell_type": "code",
      "execution_count": null,
      "metadata": {
        "id": "TtabHyFK9X-p",
        "outputId": "bc56e825-b38c-4480-fa4f-32c5ee1ee712",
        "colab": {
          "base_uri": "https://localhost:8080/"
        }
      },
      "outputs": [
        {
          "output_type": "stream",
          "name": "stdout",
          "text": [
            "<class 'float'>\n"
          ]
        }
      ],
      "source": [
        "b = 7 - 4.2\n",
        "print(type(b))"
      ]
    },
    {
      "cell_type": "code",
      "execution_count": null,
      "metadata": {
        "id": "k6oOdWye9X-q",
        "outputId": "4cea2cb4-68bd-4375-c973-8bbccb1b20d7",
        "colab": {
          "base_uri": "https://localhost:8080/"
        }
      },
      "outputs": [
        {
          "output_type": "stream",
          "name": "stdout",
          "text": [
            "<class 'str'>\n"
          ]
        }
      ],
      "source": [
        "c = \"quatro\"\n",
        "print(type(c))"
      ]
    },
    {
      "cell_type": "code",
      "execution_count": null,
      "metadata": {
        "id": "_W2J-PhW9X-q",
        "outputId": "4fe9cd14-323d-4d00-e357-59e3864ea58c",
        "colab": {
          "base_uri": "https://localhost:8080/"
        }
      },
      "outputs": [
        {
          "output_type": "stream",
          "name": "stdout",
          "text": [
            "<class 'complex'>\n"
          ]
        }
      ],
      "source": [
        "d = 4 + 2j\n",
        "print(type(d))"
      ]
    },
    {
      "cell_type": "code",
      "execution_count": null,
      "metadata": {
        "id": "EQOmUpQp9X-q",
        "outputId": "f7cfb462-2cfd-47d8-f26f-39d4d69797c0",
        "colab": {
          "base_uri": "https://localhost:8080/"
        }
      },
      "outputs": [
        {
          "output_type": "stream",
          "name": "stdout",
          "text": [
            "<class 'bool'>\n"
          ]
        }
      ],
      "source": [
        "e = False\n",
        "print(type(e))"
      ]
    },
    {
      "cell_type": "markdown",
      "source": [
        "### Transformação entre tipos"
      ],
      "metadata": {
        "id": "QTeH_y-rBtqk"
      }
    },
    {
      "cell_type": "code",
      "execution_count": null,
      "metadata": {
        "id": "lwJkDuBX9X-q",
        "outputId": "ba4c0c1c-5bde-4010-edf0-20e18ef41b17",
        "colab": {
          "base_uri": "https://localhost:8080/"
        }
      },
      "outputs": [
        {
          "output_type": "stream",
          "name": "stdout",
          "text": [
            "5.35\n",
            "5\n"
          ]
        }
      ],
      "source": [
        "a = 2.1\n",
        "b = 3.25\n",
        "\n",
        "c = int(a)\n",
        "d = int(b)\n",
        "print (a + b)\n",
        "print (c + d)"
      ]
    },
    {
      "cell_type": "code",
      "source": [
        "e = 4\n",
        "f = float(c)\n",
        "\n",
        "# Consegue fazer operação entre float e int mas é indicado transformar no mesmo tipo\n",
        "print (e)\n",
        "print (f)\n",
        "print (e + f)"
      ],
      "metadata": {
        "colab": {
          "base_uri": "https://localhost:8080/"
        },
        "id": "2uJGQT5eONUo",
        "outputId": "fcfae9db-ccc7-46fe-b314-40a6c08ddf60"
      },
      "execution_count": null,
      "outputs": [
        {
          "output_type": "stream",
          "name": "stdout",
          "text": [
            "4\n",
            "2.0\n",
            "6.0\n"
          ]
        }
      ]
    },
    {
      "cell_type": "code",
      "source": [
        "print ('Tipo de a:', type(a))\n",
        "print ('Tipo de b:', type(b))\n",
        "print ('Tipo de c:', type(c))\n",
        "print ('Tipo de d:', type(d))\n",
        "print ('Tipo de e:', type(e))\n",
        "print ('Tipo de f:', type(f))"
      ],
      "metadata": {
        "colab": {
          "base_uri": "https://localhost:8080/"
        },
        "id": "qU1QGLR0NDXg",
        "outputId": "534c494b-9fb2-43c0-a7fa-ba40bde4255f"
      },
      "execution_count": null,
      "outputs": [
        {
          "output_type": "stream",
          "name": "stdout",
          "text": [
            "Tipo de a: <class 'float'>\n",
            "Tipo de b: <class 'float'>\n",
            "Tipo de c: <class 'int'>\n",
            "Tipo de d: <class 'int'>\n",
            "Tipo de e: <class 'int'>\n",
            "Tipo de f: <class 'float'>\n"
          ]
        }
      ]
    },
    {
      "cell_type": "markdown",
      "metadata": {
        "id": "wfJc1WG69X-2"
      },
      "source": [
        "### Sequência de execução"
      ]
    },
    {
      "cell_type": "markdown",
      "metadata": {
        "id": "s5ZDxOem9X-3"
      },
      "source": [
        "Um programa é executado linha por linha pelo computador, executando as operações descritas no programa uma após a outra. Quando trabalhamos com variáveis, devemos lembrar de que o conteúdo de uma variável pode variar com o tempo."
      ]
    },
    {
      "cell_type": "code",
      "execution_count": null,
      "metadata": {
        "id": "UGvsBmyU9X-3",
        "outputId": "64f10fc3-6622-4197-d0ba-e0434c765585"
      },
      "outputs": [
        {
          "name": "stdout",
          "output_type": "stream",
          "text": [
            "765\n"
          ]
        }
      ],
      "source": [
        "divida = 0\n",
        "compra = 200\n",
        "divida = divida + compra\n",
        "compra = 250\n",
        "divida = divida + compra\n",
        "compra = 315\n",
        "divida = divida + compra\n",
        "compra = 0\n",
        "print(divida)"
      ]
    },
    {
      "cell_type": "code",
      "source": [
        "x=1\n",
        "x+=1\n",
        "print(x)"
      ],
      "metadata": {
        "colab": {
          "base_uri": "https://localhost:8080/"
        },
        "id": "GHhIuWq7jXpP",
        "outputId": "b829a498-3edb-411c-a500-abac4049a2b1"
      },
      "execution_count": null,
      "outputs": [
        {
          "output_type": "stream",
          "name": "stdout",
          "text": [
            "2\n"
          ]
        }
      ]
    },
    {
      "cell_type": "markdown",
      "metadata": {
        "id": "ERti2e8g9X-3"
      },
      "source": [
        "### Entrada de dados"
      ]
    },
    {
      "cell_type": "code",
      "execution_count": null,
      "metadata": {
        "id": "YQmmHLvk9X-3",
        "outputId": "e2f1f7ce-7be1-492e-e517-cb84d0437136"
      },
      "outputs": [
        {
          "name": "stdout",
          "output_type": "stream",
          "text": [
            "Qual é o seu nome?Marcel\n",
            "Olá Marcel\n"
          ]
        }
      ],
      "source": [
        "nome = input(\"Qual é o seu nome?\")\n",
        "print(\"Olá \"+ nome)"
      ]
    },
    {
      "cell_type": "code",
      "execution_count": null,
      "metadata": {
        "id": "jlHyQp-U9X-3",
        "outputId": "f097a728-9f65-4513-ca90-2276adee91d3"
      },
      "outputs": [
        {
          "name": "stdout",
          "output_type": "stream",
          "text": [
            "Digite um número: 12\n",
            "12\n"
          ]
        }
      ],
      "source": [
        "x = input(\"Digite um número: \")\n",
        "print(x)"
      ]
    },
    {
      "cell_type": "markdown",
      "source": [
        "### Programa - Cálculo de aumento de salário"
      ],
      "metadata": {
        "id": "zADY5DgfB23N"
      }
    },
    {
      "cell_type": "markdown",
      "source": [
        "Aumento de salário por um percentual"
      ],
      "metadata": {
        "id": "EnVZba-uB4rr"
      }
    },
    {
      "cell_type": "code",
      "execution_count": null,
      "metadata": {
        "id": "Ibxi8EDz9X-r",
        "outputId": "25086469-3846-44ee-cc82-5c30e59430ce",
        "colab": {
          "base_uri": "https://localhost:8080/"
        }
      },
      "outputs": [
        {
          "output_type": "stream",
          "name": "stdout",
          "text": [
            "Salário: 3500\n",
            "3683.75\n"
          ]
        }
      ],
      "source": [
        "# sal = salário, aum = aumento, n_sal = novo salário\n",
        "# Transformar para Float porque a entrada é string\n",
        "sal = float(input(\"Salário: \"))\n",
        "aum = 5.25\n",
        "n_sal = sal + (sal * (aum/100))\n",
        "print(n_sal)"
      ]
    },
    {
      "cell_type": "markdown",
      "source": [
        "###Exercício 1"
      ],
      "metadata": {
        "id": "ukIrry0ZDvFV"
      }
    },
    {
      "cell_type": "markdown",
      "metadata": {
        "id": "tr7517WM9X-6"
      },
      "source": [
        "1 - Escreva um programa que converta uma temperatura digitada em graus Celsius para graus Fahrenheit."
      ]
    },
    {
      "cell_type": "markdown",
      "source": [
        "$F=(C*9/5)+32$"
      ],
      "metadata": {
        "id": "c5Q1qweyEwbH"
      }
    },
    {
      "cell_type": "code",
      "execution_count": null,
      "metadata": {
        "id": "nfarIg7P9X-7",
        "outputId": "5a45a540-7c81-411c-fe79-008e533ae803"
      },
      "outputs": [
        {
          "name": "stdout",
          "output_type": "stream",
          "text": [
            "Entre com o valor em graus Celsius: 35\n",
            "A Temperatura em graus Fahrenheit é 95.0\n"
          ]
        }
      ],
      "source": [
        "# Exercício 1 - Converte graus Celsius em Fahrenheit\n",
        "C = float(input(\"Entre com o valor em graus Celsius: \"))\n",
        "F = ((9 * C)/5)+32\n",
        "print(\"A Temperatura em graus Fahrenheit é {}\".format(F))\n"
      ]
    },
    {
      "cell_type": "markdown",
      "source": [
        "###Exercício 2"
      ],
      "metadata": {
        "id": "mJBc58-F0MQE"
      }
    },
    {
      "cell_type": "markdown",
      "source": [
        "2 - Faça um programa que receba (entrada de dados) o valor correspondente ao lado de um quadrado, calcule e imprima (saída de dados) seu perímetro e sua área."
      ],
      "metadata": {
        "id": "w_rSr8730Whe"
      }
    },
    {
      "cell_type": "code",
      "execution_count": null,
      "metadata": {
        "id": "yY9a238h9X-7",
        "outputId": "50d7025e-ee0e-403a-dd9c-c09007b736c6",
        "colab": {
          "base_uri": "https://localhost:8080/"
        }
      },
      "outputs": [
        {
          "output_type": "stream",
          "name": "stdout",
          "text": [
            "Entre com o valor do lado do quadrado 85\n",
            "Perímetro: 340 \n",
            "Área: 7225\n"
          ]
        }
      ],
      "source": [
        "#Exercício 2 - Calcula o perímetro e área de um quadrado de lado l\n",
        "\n",
        "L = input(\"Entre com o valor do lado do quadrado \")\n",
        "L = int(L)\n",
        "\n",
        "x = L*4\n",
        "y = L**2\n",
        "\n",
        "print('Perímetro:', x, '\\nÁrea:', y)"
      ]
    },
    {
      "cell_type": "markdown",
      "source": [
        "##Operadores"
      ],
      "metadata": {
        "id": "VUlTTfKjWaCj"
      }
    },
    {
      "cell_type": "markdown",
      "source": [
        "### Operadores relacionais"
      ],
      "metadata": {
        "id": "REQ3p9YOB-_c"
      }
    },
    {
      "cell_type": "code",
      "execution_count": null,
      "metadata": {
        "id": "5lppkipb9X-s"
      },
      "outputs": [],
      "source": [
        "a = 1\n",
        "b = 5 \n",
        "c = 2\n",
        "d = 1 "
      ]
    },
    {
      "cell_type": "code",
      "execution_count": null,
      "metadata": {
        "id": "OA5wUOI39X-s",
        "outputId": "feda3baa-bdba-4ca7-e3f9-55c4530a9f86"
      },
      "outputs": [
        {
          "data": {
            "text/plain": [
              "False"
            ]
          },
          "execution_count": 64,
          "metadata": {},
          "output_type": "execute_result"
        }
      ],
      "source": [
        "a == b # a é igual a b?"
      ]
    },
    {
      "cell_type": "code",
      "execution_count": null,
      "metadata": {
        "id": "ARcE-6oP9X-t",
        "outputId": "d73f4766-2aa8-4ca8-da88-e58dd4ced8f8"
      },
      "outputs": [
        {
          "data": {
            "text/plain": [
              "True"
            ]
          },
          "execution_count": 70,
          "metadata": {},
          "output_type": "execute_result"
        }
      ],
      "source": [
        "d != b # d é diferente de b?"
      ]
    },
    {
      "cell_type": "code",
      "execution_count": null,
      "metadata": {
        "id": "_lfEDakH9X-t",
        "outputId": "69e26b34-ff46-414b-8189-168253fab144"
      },
      "outputs": [
        {
          "data": {
            "text/plain": [
              "False"
            ]
          },
          "execution_count": 69,
          "metadata": {},
          "output_type": "execute_result"
        }
      ],
      "source": [
        "d != a # d é diferente de a ?"
      ]
    },
    {
      "cell_type": "code",
      "execution_count": null,
      "metadata": {
        "id": "lMKduT299X-s",
        "outputId": "1d300327-c609-4ff5-a7ac-1d07a3e25b81"
      },
      "outputs": [
        {
          "data": {
            "text/plain": [
              "True"
            ]
          },
          "execution_count": 65,
          "metadata": {},
          "output_type": "execute_result"
        }
      ],
      "source": [
        "a < b # a é menor que b?"
      ]
    },
    {
      "cell_type": "code",
      "execution_count": null,
      "metadata": {
        "id": "x-pBig4D9X-t",
        "outputId": "469ca8e7-9755-4c7a-b50a-3fae6b2f184e"
      },
      "outputs": [
        {
          "data": {
            "text/plain": [
              "True"
            ]
          },
          "execution_count": 66,
          "metadata": {},
          "output_type": "execute_result"
        }
      ],
      "source": [
        "b > a # b é maior que a?"
      ]
    },
    {
      "cell_type": "markdown",
      "metadata": {
        "id": "n-n-J5509X-u"
      },
      "source": [
        "### Operadores lógicos"
      ]
    },
    {
      "cell_type": "code",
      "execution_count": null,
      "metadata": {
        "id": "60wBx3W19X-u",
        "outputId": "ed0dc4d8-7b12-4051-fae1-0628a778ff7d"
      },
      "outputs": [
        {
          "data": {
            "text/plain": [
              "False"
            ]
          },
          "execution_count": 71,
          "metadata": {},
          "output_type": "execute_result"
        }
      ],
      "source": [
        "not True"
      ]
    },
    {
      "cell_type": "code",
      "execution_count": null,
      "metadata": {
        "id": "B08RXpm49X-u",
        "outputId": "2385f768-90b8-4482-ddfb-612a9b60895c"
      },
      "outputs": [
        {
          "data": {
            "text/plain": [
              "True"
            ]
          },
          "execution_count": 72,
          "metadata": {},
          "output_type": "execute_result"
        }
      ],
      "source": [
        "not False"
      ]
    },
    {
      "cell_type": "code",
      "execution_count": null,
      "metadata": {
        "id": "IE5FSxM69X-u",
        "outputId": "c76983b9-2969-40aa-8560-7b4cc9fc4d97"
      },
      "outputs": [
        {
          "data": {
            "text/plain": [
              "True"
            ]
          },
          "execution_count": 73,
          "metadata": {},
          "output_type": "execute_result"
        }
      ],
      "source": [
        "True and True"
      ]
    },
    {
      "cell_type": "code",
      "execution_count": null,
      "metadata": {
        "id": "uHE8av5R9X-v",
        "outputId": "1942be26-7ab3-443b-b217-0bc64cd3f76e"
      },
      "outputs": [
        {
          "data": {
            "text/plain": [
              "False"
            ]
          },
          "execution_count": 74,
          "metadata": {},
          "output_type": "execute_result"
        }
      ],
      "source": [
        "True and False"
      ]
    },
    {
      "cell_type": "code",
      "execution_count": null,
      "metadata": {
        "id": "Rt9qnFhu9X-v",
        "outputId": "abe2cec2-9c64-4b5f-e341-7fdebc897bcf"
      },
      "outputs": [
        {
          "data": {
            "text/plain": [
              "False"
            ]
          },
          "execution_count": 75,
          "metadata": {},
          "output_type": "execute_result"
        }
      ],
      "source": [
        "False and False"
      ]
    },
    {
      "cell_type": "code",
      "execution_count": null,
      "metadata": {
        "id": "dNYkvlQx9X-v",
        "outputId": "c43904fc-4927-4d8e-f3c1-82483eec2563"
      },
      "outputs": [
        {
          "data": {
            "text/plain": [
              "False"
            ]
          },
          "execution_count": 76,
          "metadata": {},
          "output_type": "execute_result"
        }
      ],
      "source": [
        "False and True"
      ]
    },
    {
      "cell_type": "code",
      "execution_count": null,
      "metadata": {
        "id": "StOM-XE59X-v",
        "outputId": "e084ffc3-ae67-4a89-a4cc-96cfd28c8183"
      },
      "outputs": [
        {
          "data": {
            "text/plain": [
              "True"
            ]
          },
          "execution_count": 77,
          "metadata": {},
          "output_type": "execute_result"
        }
      ],
      "source": [
        "True or False"
      ]
    },
    {
      "cell_type": "code",
      "execution_count": null,
      "metadata": {
        "id": "o0Z925ql9X-v",
        "outputId": "1dded5e7-23a9-4b78-dca1-829f2d0a46d1"
      },
      "outputs": [
        {
          "data": {
            "text/plain": [
              "True"
            ]
          },
          "execution_count": 78,
          "metadata": {},
          "output_type": "execute_result"
        }
      ],
      "source": [
        "True or True"
      ]
    },
    {
      "cell_type": "code",
      "execution_count": null,
      "metadata": {
        "id": "-uYhI63q9X-w",
        "outputId": "e6519789-4ad5-45c4-90c5-69f895a8c657"
      },
      "outputs": [
        {
          "data": {
            "text/plain": [
              "True"
            ]
          },
          "execution_count": 79,
          "metadata": {},
          "output_type": "execute_result"
        }
      ],
      "source": [
        "False or True"
      ]
    },
    {
      "cell_type": "code",
      "execution_count": null,
      "metadata": {
        "id": "zfG_YGT19X-w",
        "outputId": "ff234f8b-0747-4a41-ab4b-ef5529a405cb"
      },
      "outputs": [
        {
          "data": {
            "text/plain": [
              "False"
            ]
          },
          "execution_count": 80,
          "metadata": {},
          "output_type": "execute_result"
        }
      ],
      "source": [
        "False or False"
      ]
    },
    {
      "cell_type": "markdown",
      "metadata": {
        "id": "uEAwNbEL9X-w"
      },
      "source": [
        "Teste que o salário tem que ser maior que 1000 e ter idade maior que 18 anos"
      ]
    },
    {
      "cell_type": "code",
      "execution_count": null,
      "metadata": {
        "id": "Jl2Vpl8X9X-w",
        "outputId": "dd1ecfcc-34cf-4f78-de9c-5a46895cc675"
      },
      "outputs": [
        {
          "data": {
            "text/plain": [
              "True"
            ]
          },
          "execution_count": 81,
          "metadata": {},
          "output_type": "execute_result"
        }
      ],
      "source": [
        "salario = 1500\n",
        "idade = 18\n",
        "salario > 1000 and idade >= 18"
      ]
    },
    {
      "cell_type": "code",
      "execution_count": null,
      "metadata": {
        "id": "JjRg41rf9X-w",
        "outputId": "074d4971-904d-4a78-f36c-f48783daea64"
      },
      "outputs": [
        {
          "data": {
            "text/plain": [
              "False"
            ]
          },
          "execution_count": 82,
          "metadata": {},
          "output_type": "execute_result"
        }
      ],
      "source": [
        "salario = 1500\n",
        "idade = 17\n",
        "salario > 1000 and idade >= 18"
      ]
    },
    {
      "cell_type": "markdown",
      "source": [
        "##String"
      ],
      "metadata": {
        "id": "PbhEV09QWfOD"
      }
    },
    {
      "cell_type": "markdown",
      "metadata": {
        "id": "LxGBySa89X-x"
      },
      "source": [
        "### Variáveis string"
      ]
    },
    {
      "cell_type": "markdown",
      "metadata": {
        "id": "wy641FXV9X-x"
      },
      "source": [
        "A função len retorna o tamanho da string, um número inteiro, para ver a documentação aperte o botão shift + Tab"
      ]
    },
    {
      "cell_type": "code",
      "execution_count": null,
      "metadata": {
        "scrolled": true,
        "id": "55crMaKn9X-x",
        "outputId": "cf17822d-984a-4fab-eb6f-5dd1870a97e1",
        "colab": {
          "base_uri": "https://localhost:8080/"
        }
      },
      "outputs": [
        {
          "output_type": "execute_result",
          "data": {
            "text/plain": [
              "1"
            ]
          },
          "metadata": {},
          "execution_count": 97
        }
      ],
      "source": [
        "len(\"A\")"
      ]
    },
    {
      "cell_type": "code",
      "execution_count": null,
      "metadata": {
        "id": "83St_51d9X-x",
        "outputId": "776d33d7-ca3a-4ce2-b821-e68ca19417bc",
        "colab": {
          "base_uri": "https://localhost:8080/"
        }
      },
      "outputs": [
        {
          "output_type": "execute_result",
          "data": {
            "text/plain": [
              "2"
            ]
          },
          "metadata": {},
          "execution_count": 98
        }
      ],
      "source": [
        "len(\"AB\")"
      ]
    },
    {
      "cell_type": "code",
      "execution_count": null,
      "metadata": {
        "id": "QiHYei2r9X-x",
        "outputId": "8a85b967-5d41-4ae8-f489-6bb74199dde2",
        "colab": {
          "base_uri": "https://localhost:8080/"
        }
      },
      "outputs": [
        {
          "output_type": "execute_result",
          "data": {
            "text/plain": [
              "19"
            ]
          },
          "metadata": {},
          "execution_count": 99
        }
      ],
      "source": [
        "len(\"o rato roeu a roupa\")"
      ]
    },
    {
      "cell_type": "code",
      "execution_count": null,
      "metadata": {
        "id": "TSnrfRvz9X-x"
      },
      "outputs": [],
      "source": [
        "a = \"ABCDEF\""
      ]
    },
    {
      "cell_type": "code",
      "execution_count": null,
      "metadata": {
        "id": "HJoFFZSg9X-x",
        "outputId": "7aa4ce2b-cfb6-452f-a46e-a1b4d05a4115",
        "colab": {
          "base_uri": "https://localhost:8080/",
          "height": 35
        }
      },
      "outputs": [
        {
          "output_type": "execute_result",
          "data": {
            "text/plain": [
              "'A'"
            ],
            "application/vnd.google.colaboratory.intrinsic+json": {
              "type": "string"
            }
          },
          "metadata": {},
          "execution_count": 101
        }
      ],
      "source": [
        "a[0]"
      ]
    },
    {
      "cell_type": "code",
      "execution_count": null,
      "metadata": {
        "id": "DPFLZ7uh9X-y",
        "outputId": "eec8c103-308c-4887-9be2-ee7d79c1a1f3",
        "colab": {
          "base_uri": "https://localhost:8080/",
          "height": 35
        }
      },
      "outputs": [
        {
          "output_type": "execute_result",
          "data": {
            "text/plain": [
              "'B'"
            ],
            "application/vnd.google.colaboratory.intrinsic+json": {
              "type": "string"
            }
          },
          "metadata": {},
          "execution_count": 102
        }
      ],
      "source": [
        "a[1]"
      ]
    },
    {
      "cell_type": "code",
      "execution_count": null,
      "metadata": {
        "id": "dhSAWV2h9X-y",
        "outputId": "54a0bd14-c9ef-4ffd-dcff-cd63ad936433",
        "colab": {
          "base_uri": "https://localhost:8080/",
          "height": 169
        }
      },
      "outputs": [
        {
          "output_type": "error",
          "ename": "IndexError",
          "evalue": "ignored",
          "traceback": [
            "\u001b[0;31m---------------------------------------------------------------------------\u001b[0m",
            "\u001b[0;31mIndexError\u001b[0m                                Traceback (most recent call last)",
            "\u001b[0;32m<ipython-input-103-84c1e027215d>\u001b[0m in \u001b[0;36m<module>\u001b[0;34m\u001b[0m\n\u001b[0;32m----> 1\u001b[0;31m \u001b[0ma\u001b[0m\u001b[0;34m[\u001b[0m\u001b[0;36m6\u001b[0m\u001b[0;34m]\u001b[0m\u001b[0;34m\u001b[0m\u001b[0;34m\u001b[0m\u001b[0m\n\u001b[0m",
            "\u001b[0;31mIndexError\u001b[0m: string index out of range"
          ]
        }
      ],
      "source": [
        "a[6]"
      ]
    },
    {
      "cell_type": "code",
      "execution_count": null,
      "metadata": {
        "id": "UAWBHQoK9X-y",
        "colab": {
          "base_uri": "https://localhost:8080/",
          "height": 35
        },
        "outputId": "8ee945c5-1c29-42fe-c9df-04c389d43a33"
      },
      "outputs": [
        {
          "output_type": "execute_result",
          "data": {
            "text/plain": [
              "'F'"
            ],
            "application/vnd.google.colaboratory.intrinsic+json": {
              "type": "string"
            }
          },
          "metadata": {},
          "execution_count": 104
        }
      ],
      "source": [
        "a[-1]"
      ]
    },
    {
      "cell_type": "code",
      "execution_count": null,
      "metadata": {
        "id": "m6lkd7Hk9X-y",
        "colab": {
          "base_uri": "https://localhost:8080/",
          "height": 35
        },
        "outputId": "b0b18eee-4f2c-44ae-9b58-0d0e8664f339"
      },
      "outputs": [
        {
          "output_type": "execute_result",
          "data": {
            "text/plain": [
              "'E'"
            ],
            "application/vnd.google.colaboratory.intrinsic+json": {
              "type": "string"
            }
          },
          "metadata": {},
          "execution_count": 105
        }
      ],
      "source": [
        "a[-2]"
      ]
    },
    {
      "cell_type": "code",
      "execution_count": null,
      "metadata": {
        "id": "H_h9yJj29X-y",
        "colab": {
          "base_uri": "https://localhost:8080/",
          "height": 35
        },
        "outputId": "604b4420-3415-41ab-bc33-4c68a482da3b"
      },
      "outputs": [
        {
          "output_type": "execute_result",
          "data": {
            "text/plain": [
              "'ABCDEF'"
            ],
            "application/vnd.google.colaboratory.intrinsic+json": {
              "type": "string"
            }
          },
          "metadata": {},
          "execution_count": 106
        }
      ],
      "source": [
        "a[:]"
      ]
    },
    {
      "cell_type": "code",
      "execution_count": null,
      "metadata": {
        "id": "jVQNlU3e9X-z",
        "colab": {
          "base_uri": "https://localhost:8080/",
          "height": 35
        },
        "outputId": "4cf26d61-b41c-4c1c-f977-2331112f1c6b"
      },
      "outputs": [
        {
          "output_type": "execute_result",
          "data": {
            "text/plain": [
              "'ABCDEF'"
            ],
            "application/vnd.google.colaboratory.intrinsic+json": {
              "type": "string"
            }
          },
          "metadata": {},
          "execution_count": 107
        }
      ],
      "source": [
        "a[0:6]"
      ]
    },
    {
      "cell_type": "code",
      "execution_count": null,
      "metadata": {
        "id": "Wfk882Gq9X-z",
        "colab": {
          "base_uri": "https://localhost:8080/",
          "height": 35
        },
        "outputId": "bb458138-c861-4bdd-faa7-dcf887ebc03e"
      },
      "outputs": [
        {
          "output_type": "execute_result",
          "data": {
            "text/plain": [
              "'ABC'"
            ],
            "application/vnd.google.colaboratory.intrinsic+json": {
              "type": "string"
            }
          },
          "metadata": {},
          "execution_count": 108
        }
      ],
      "source": [
        "a[0:3]"
      ]
    },
    {
      "cell_type": "code",
      "execution_count": null,
      "metadata": {
        "id": "dUcy2kyH9X-z",
        "colab": {
          "base_uri": "https://localhost:8080/",
          "height": 35
        },
        "outputId": "facbee99-7e55-4783-9af8-9b7111eca6fb"
      },
      "outputs": [
        {
          "output_type": "execute_result",
          "data": {
            "text/plain": [
              "'CDEF'"
            ],
            "application/vnd.google.colaboratory.intrinsic+json": {
              "type": "string"
            }
          },
          "metadata": {},
          "execution_count": 109
        }
      ],
      "source": [
        "a[2:6]"
      ]
    },
    {
      "cell_type": "markdown",
      "metadata": {
        "id": "LlKKLkgg9X-z"
      },
      "source": [
        "### Concatenação"
      ]
    },
    {
      "cell_type": "code",
      "execution_count": null,
      "metadata": {
        "id": "_i5jLgJ59X-0",
        "outputId": "ea7f28c1-991e-4f63-af1d-ecc8ef092006"
      },
      "outputs": [
        {
          "data": {
            "text/plain": [
              "'ABCC'"
            ]
          },
          "execution_count": 2,
          "metadata": {},
          "output_type": "execute_result"
        }
      ],
      "source": [
        "s = \"ABC\"\n",
        "s + \"C\""
      ]
    },
    {
      "cell_type": "code",
      "execution_count": null,
      "metadata": {
        "id": "jCgprbTv9X-0",
        "outputId": "823e0675-19ea-4d8f-f97b-cc947ee6f7b6"
      },
      "outputs": [
        {
          "data": {
            "text/plain": [
              "'ABCDDDD'"
            ]
          },
          "execution_count": 3,
          "metadata": {},
          "output_type": "execute_result"
        }
      ],
      "source": [
        "s + \"D\" * 4"
      ]
    },
    {
      "cell_type": "code",
      "execution_count": null,
      "metadata": {
        "id": "LO294iWh9X-0",
        "outputId": "a833df8d-abd1-4909-d6bc-bd9061fda235"
      },
      "outputs": [
        {
          "data": {
            "text/plain": [
              "'X----------X'"
            ]
          },
          "execution_count": 4,
          "metadata": {},
          "output_type": "execute_result"
        }
      ],
      "source": [
        "\"X\"+ \"-\"*10 + \"X\""
      ]
    },
    {
      "cell_type": "markdown",
      "metadata": {
        "id": "3zV2Fddp9X-0"
      },
      "source": [
        "Esta forma de concatenação só pode ser utilizado por strings"
      ]
    },
    {
      "cell_type": "markdown",
      "metadata": {
        "id": "W-lsvhu29X-0"
      },
      "source": [
        "### Composição"
      ]
    },
    {
      "cell_type": "code",
      "execution_count": null,
      "metadata": {
        "id": "GbjHRp0F9X-1",
        "outputId": "089ab7e5-9a99-472d-a6e4-5457982c19ea"
      },
      "outputs": [
        {
          "data": {
            "text/plain": [
              "'João tem 39 anos'"
            ]
          },
          "execution_count": 5,
          "metadata": {},
          "output_type": "execute_result"
        }
      ],
      "source": [
        "idade = 39\n",
        "\"João tem %d anos\" % idade #estamos inserindo %d para um valor inteiro"
      ]
    },
    {
      "cell_type": "code",
      "execution_count": null,
      "metadata": {
        "id": "FWdJolsz9X-1",
        "outputId": "b55ead9f-f457-4fb4-e106-74729ca15802"
      },
      "outputs": [
        {
          "data": {
            "text/plain": [
              "'João tem 39.000000 anos'"
            ]
          },
          "execution_count": 6,
          "metadata": {},
          "output_type": "execute_result"
        }
      ],
      "source": [
        "idade = 39\n",
        "\"João tem %f anos\" % idade # estamos inserindo %f para um valor flutuante"
      ]
    },
    {
      "cell_type": "code",
      "execution_count": null,
      "metadata": {
        "id": "fHjXKLyL9X-1",
        "outputId": "ccb59281-813c-42a2-9545-12a5c283bd82",
        "colab": {
          "base_uri": "https://localhost:8080/",
          "height": 35
        }
      },
      "outputs": [
        {
          "output_type": "execute_result",
          "data": {
            "text/plain": [
              "'João tem 39.00 anos'"
            ],
            "application/vnd.google.colaboratory.intrinsic+json": {
              "type": "string"
            }
          },
          "metadata": {},
          "execution_count": 4
        }
      ],
      "source": [
        "idade = 39\n",
        "\"João tem %.2f anos\" % idade # estamos inserindo %f para um valor flutuante"
      ]
    },
    {
      "cell_type": "code",
      "execution_count": null,
      "metadata": {
        "id": "MxSlGFG39X-1",
        "outputId": "2ae1c082-33fe-42e8-e840-5d5d21b9667b"
      },
      "outputs": [
        {
          "data": {
            "text/plain": [
              "'João tem 39 anos'"
            ]
          },
          "execution_count": 8,
          "metadata": {},
          "output_type": "execute_result"
        }
      ],
      "source": [
        "nome = \"João\"\n",
        "idade = 39\n",
        "\"%s tem %d anos\" % (nome,idade) # estamos inserindo %s para um string"
      ]
    },
    {
      "cell_type": "code",
      "execution_count": null,
      "metadata": {
        "id": "WahxppRU9X-1",
        "outputId": "665cef0e-6253-4c75-f676-2123f3926e3a"
      },
      "outputs": [
        {
          "data": {
            "text/plain": [
              "'João tem 39 anos e R$ 60.59 no bolso'"
            ]
          },
          "execution_count": 9,
          "metadata": {},
          "output_type": "execute_result"
        }
      ],
      "source": [
        "nome = \"João\"\n",
        "idade = 39\n",
        "grana = 60.59\n",
        "\"%s tem %d anos e R$ %2.2f no bolso\" %(nome,idade, grana)"
      ]
    },
    {
      "cell_type": "markdown",
      "metadata": {
        "id": "Pq0hE_Mv9X-2"
      },
      "source": [
        "Forma mais moderna para compor a frase é utilizando format"
      ]
    },
    {
      "cell_type": "code",
      "execution_count": null,
      "metadata": {
        "id": "iUH2chGM9X-2",
        "outputId": "31d7ec2c-c2ab-4b74-f2b3-4da384a9dee5"
      },
      "outputs": [
        {
          "data": {
            "text/plain": [
              "'João tem 39 anos e R$ 60.59 no bolso'"
            ]
          },
          "execution_count": 10,
          "metadata": {},
          "output_type": "execute_result"
        }
      ],
      "source": [
        "nome = \"João\"\n",
        "idade = 39\n",
        "grana = 60.59\n",
        "\"{} tem {} anos e R$ {} no bolso\" .format(nome , idade , grana)"
      ]
    },
    {
      "cell_type": "code",
      "execution_count": null,
      "metadata": {
        "id": "LM9Z4X5a9X-2",
        "outputId": "f8df705f-d77b-43d6-b442-8371dc730653"
      },
      "outputs": [
        {
          "data": {
            "text/plain": [
              "'João tem 39 anos e R$ 60.59 no bolso'"
            ]
          },
          "execution_count": 11,
          "metadata": {},
          "output_type": "execute_result"
        }
      ],
      "source": [
        "nome = \"João\"\n",
        "idade = 39\n",
        "grana = 60.59\n",
        "\"{} tem {} anos e R$ {} no bolso\" .format(nome , idade , grana)"
      ]
    },
    {
      "cell_type": "markdown",
      "source": [
        "### Importar bibliotecas"
      ],
      "metadata": {
        "id": "FVgsesKxU9Do"
      }
    },
    {
      "metadata": {
        "id": "bCTYdDJ6wz1D",
        "colab": {
          "base_uri": "https://localhost:8080/"
        },
        "outputId": "2c212099-f9f1-4b16-d7c4-60e62ab6fc25"
      },
      "cell_type": "code",
      "source": [
        "print('Site onde temos as demais funções https://docs.python.org/3/library/functions.html')\n",
        "print('O pacote que mais utilizamos é o NumPy: http://www.numpy.org/ representado por np')"
      ],
      "execution_count": null,
      "outputs": [
        {
          "output_type": "stream",
          "name": "stdout",
          "text": [
            "Site onde temos as demais funções https://docs.python.org/3/library/functions.html\n",
            "O pacote que mais utilizamos é o NumPy: http://www.numpy.org/ representado por np\n"
          ]
        }
      ]
    },
    {
      "metadata": {
        "id": "HWXG7VRnxxEJ"
      },
      "cell_type": "code",
      "source": [
        "import numpy as np"
      ],
      "execution_count": null,
      "outputs": []
    },
    {
      "metadata": {
        "id": "v9PKcn_T3GVA"
      },
      "cell_type": "markdown",
      "source": [
        "###Como criar vetores "
      ]
    },
    {
      "metadata": {
        "id": "bhAfpW0CyRg4"
      },
      "cell_type": "code",
      "source": [
        "a=np.array([1,2,3,4])\n",
        "print(a)\n",
        "print(type(a))"
      ],
      "execution_count": null,
      "outputs": []
    },
    {
      "metadata": {
        "id": "MK6bVwEHyY1O"
      },
      "cell_type": "code",
      "source": [
        "b=np.array([(1.5 ,2,3),(4,5,6)])\n",
        "print(b)"
      ],
      "execution_count": null,
      "outputs": []
    },
    {
      "metadata": {
        "id": "Cvji--vzy8bp",
        "colab": {
          "base_uri": "https://localhost:8080/"
        },
        "outputId": "c3295cf5-f0ab-40fb-ffd0-70c6c6e72d4f"
      },
      "cell_type": "code",
      "source": [
        "c=np.zeros((3,4)) #coloca o número de (linhas,colunas)\n",
        "print(c)"
      ],
      "execution_count": null,
      "outputs": [
        {
          "output_type": "stream",
          "name": "stdout",
          "text": [
            "[[0. 0. 0. 0.]\n",
            " [0. 0. 0. 0.]\n",
            " [0. 0. 0. 0.]]\n"
          ]
        }
      ]
    },
    {
      "metadata": {
        "id": "F05gE-5yzbjq"
      },
      "cell_type": "code",
      "source": [
        "d=np.eye(6) #O np.eye cria uma matriz identidade\n",
        "print(d)"
      ],
      "execution_count": null,
      "outputs": []
    },
    {
      "metadata": {
        "id": "_eFs1VFr0M0w",
        "colab": {
          "base_uri": "https://localhost:8080/"
        },
        "outputId": "fe42962a-7804-425e-9cb0-432c8d28148c"
      },
      "cell_type": "code",
      "source": [
        "e=np.random.random((2,2)) #Valores aleatórios\n",
        "print(e)"
      ],
      "execution_count": null,
      "outputs": [
        {
          "output_type": "stream",
          "name": "stdout",
          "text": [
            "[[0.83345543 0.23832736]\n",
            " [0.07643948 0.61718475]]\n"
          ]
        }
      ]
    },
    {
      "metadata": {
        "id": "toW33ARV0kDq",
        "colab": {
          "base_uri": "https://localhost:8080/"
        },
        "outputId": "fbe258b9-70a1-4a5b-a0b5-4691d64e74d8"
      },
      "cell_type": "code",
      "source": [
        "A=np.array([(1,2,3,4),(5,6,7,8),(9,10,11,12)])\n",
        "print(A)"
      ],
      "execution_count": null,
      "outputs": [
        {
          "output_type": "stream",
          "name": "stdout",
          "text": [
            "[[ 1  2  3  4]\n",
            " [ 5  6  7  8]\n",
            " [ 9 10 11 12]]\n"
          ]
        }
      ]
    },
    {
      "metadata": {
        "id": "vrp-R_dL1Zyo",
        "colab": {
          "base_uri": "https://localhost:8080/"
        },
        "outputId": "21d37f61-5b57-4e82-e30f-33e881d2a799"
      },
      "cell_type": "code",
      "source": [
        "B=A[1,1] #Como acessar os dados do vetor, primeiro número da linha, depois número da coluna (ambos começam do ZERO)\n",
        "print (B)"
      ],
      "execution_count": null,
      "outputs": [
        {
          "output_type": "stream",
          "name": "stdout",
          "text": [
            "6\n"
          ]
        }
      ]
    },
    {
      "metadata": {
        "id": "hojJ2_I72DNj",
        "colab": {
          "base_uri": "https://localhost:8080/"
        },
        "outputId": "942487fa-083b-47f6-e769-823270867f0c"
      },
      "cell_type": "code",
      "source": [
        "C=A[:,2] #Todos os valores da terceira coluna\n",
        "print(C)"
      ],
      "execution_count": null,
      "outputs": [
        {
          "output_type": "stream",
          "name": "stdout",
          "text": [
            "[1 5 9]\n"
          ]
        }
      ]
    },
    {
      "metadata": {
        "id": "X9lLcmRz2nNr",
        "colab": {
          "base_uri": "https://localhost:8080/"
        },
        "outputId": "f046e9d0-81e2-4025-fa08-5952ba5e30ce"
      },
      "cell_type": "code",
      "source": [
        "D=A[2,:] #Todos os valores da terceira linha\n",
        "print(D)"
      ],
      "execution_count": null,
      "outputs": [
        {
          "output_type": "stream",
          "name": "stdout",
          "text": [
            "[ 9 10 11 12]\n"
          ]
        }
      ]
    },
    {
      "metadata": {
        "id": "BSifMcmP3Jhz"
      },
      "cell_type": "code",
      "source": [
        "V=np.arange(10,30,5) #Coloca onde COMEÇA onde TERMINA e o STEP, não incluindo o valor de TERMINA https://docs.scipy.org/doc/numpy/reference/generated/numpy.arange.html\n",
        "print(V)\n",
        "Z=np.arange(5) #Se coloca apenas um número, ele considera como sendo onde TERMINA com o PASSO padrão\n",
        "print(Z)\n",
        "O=np.arange(-1,-5,-1) #Negativo\n",
        "print(O)\n",
        "W=np.arange(0,2,0.3)\n",
        "print(W)"
      ],
      "execution_count": null,
      "outputs": []
    },
    {
      "metadata": {
        "id": "TVeayLt63R7K"
      },
      "cell_type": "code",
      "source": [
        "AB=np.linspace(0,2,9) #Coloca onde COMEÇA e onde TERMINA, no lugar do STEP você coloca o passo que ele irá dar para retornar a resposta\n",
        "print(AB)"
      ],
      "execution_count": null,
      "outputs": []
    },
    {
      "metadata": {
        "id": "cdGIqC7Y5VHV"
      },
      "cell_type": "code",
      "source": [
        "x=np.arange(0,2*(np.pi),0.25)\n",
        "print(x)\n",
        "y=np.sin(x)\n",
        "print(y)"
      ],
      "execution_count": null,
      "outputs": []
    },
    {
      "metadata": {
        "id": "YC30wXwQ6w6W"
      },
      "cell_type": "code",
      "source": [
        "A=np.array([[1,1],[0,1]])\n",
        "B=np.array([[2,0],[3,4]])\n",
        "print(A)\n",
        "print(B)"
      ],
      "execution_count": null,
      "outputs": []
    },
    {
      "metadata": {
        "id": "R6trgYeg8YVB"
      },
      "cell_type": "code",
      "source": [
        "A*B #Produto escalar"
      ],
      "execution_count": null,
      "outputs": []
    },
    {
      "metadata": {
        "id": "e7eOsDHTGbdW"
      },
      "cell_type": "markdown",
      "source": [
        "###Raízes de uma equação de segundo grau"
      ]
    },
    {
      "cell_type": "markdown",
      "source": [
        "$a^{2}+bx+c$"
      ],
      "metadata": {
        "id": "Zj6bxSF63pd4"
      }
    },
    {
      "metadata": {
        "id": "uTVOgXyVGeR4",
        "colab": {
          "base_uri": "https://localhost:8080/"
        },
        "outputId": "7fe75c1c-dff6-41a0-9654-56e1b17028fb"
      },
      "cell_type": "code",
      "source": [
        "import math as m #https://docs.python.org/3.2/library/math.html\n",
        "a=1\n",
        "b=6\n",
        "c=2\n",
        "d=(b**2-4*a*c)\n",
        "r1=(-b-m.sqrt(d))/2*a\n",
        "r2=(-b+m.sqrt(d))/2*a\n",
        "print(\"raiz 1 = \", r1)\n",
        "print(\"raiz 2 = \", r2)"
      ],
      "execution_count": null,
      "outputs": [
        {
          "output_type": "stream",
          "name": "stdout",
          "text": [
            "raiz 1 =  -5.645751311064591\n",
            "raiz 2 =  -0.3542486889354093\n"
          ]
        }
      ]
    },
    {
      "metadata": {
        "id": "hinQfTKZJc3A",
        "colab": {
          "base_uri": "https://localhost:8080/"
        },
        "outputId": "2264e1a3-a8df-4f03-d9a4-6076bdd52799"
      },
      "cell_type": "code",
      "source": [
        "import math\n",
        "a=float(input(\"Digite o valor de A: \")) \n",
        "b=float(input(\"Digite o valor de B: \"))\n",
        "c=float(input(\"Digite o valor de C: \"))\n",
        "\n",
        "delta=(b**2)-(4*a*c)\n",
        "\n",
        "if delta<0:\n",
        "      print(\"A equação não possui raízes reais.\")\n",
        "elif delta==0:\n",
        "      print(\"A equação possui apenas uma raíz real:\")\n",
        "      r=(-b-m.sqrt(d))/(2*a)\n",
        "      print(\"Raiz = \", r)\n",
        "elif  delta>0:\n",
        "      print(\"A equação possui duas raízes reais:\")\n",
        "      r1=(-b-m.sqrt(d))/(2*a)\n",
        "      r2=(-b+m.sqrt(d))/(2*a)\n",
        "      print(\"Raiz 1 = \", r1)\n",
        "      print(\"Raiz 2 = \", r2)"
      ],
      "execution_count": null,
      "outputs": [
        {
          "output_type": "stream",
          "name": "stdout",
          "text": [
            "Digite o valor de A: 1\n",
            "Digite o valor de B: 6\n",
            "Digite o valor de C: 2\n",
            "A equação possui duas raízes reais:\n",
            "Raiz 1 =  -5.645751311064591\n",
            "Raiz 2 =  -0.3542486889354093\n"
          ]
        }
      ]
    },
    {
      "metadata": {
        "id": "xFHR_VlvJZLL"
      },
      "cell_type": "markdown",
      "source": [
        "*Outro* *jeito*:"
      ]
    },
    {
      "metadata": {
        "id": "y8LLk6rSKrpR",
        "colab": {
          "base_uri": "https://localhost:8080/"
        },
        "outputId": "d88b56a7-8a68-4786-be03-bc5bbf5b4f24"
      },
      "cell_type": "code",
      "source": [
        "a=float(input(\"Digite o valor de A: \"))\n",
        "b=float(input(\"Digite o valor de B: \"))\n",
        "c=float(input(\"Digite o valor de C: \"))\n",
        "coeff=[a,b,c]\n",
        "np.roots(coeff)"
      ],
      "execution_count": null,
      "outputs": [
        {
          "name": "stdout",
          "output_type": "stream",
          "text": [
            "Digite o valor de A: 1\n",
            "Digite o valor de B: 6\n",
            "Digite o valor de C: 2\n"
          ]
        },
        {
          "output_type": "execute_result",
          "data": {
            "text/plain": [
              "array([-5.64575131, -0.35424869])"
            ]
          },
          "metadata": {},
          "execution_count": 142
        }
      ]
    },
    {
      "metadata": {
        "id": "248jCjbm992D"
      },
      "cell_type": "code",
      "source": [
        "A = np.array([[1,1],[-3,1]])\n",
        "B = np.array([6,2])\n",
        "print(np.linalg.solve(A,B))\n"
      ],
      "execution_count": null,
      "outputs": []
    },
    {
      "cell_type": "markdown",
      "source": [
        "##Plotar gráficos"
      ],
      "metadata": {
        "id": "E0UDLiwZ17Te"
      }
    },
    {
      "cell_type": "code",
      "execution_count": null,
      "metadata": {
        "id": "aKb5YycL9iOO",
        "outputId": "e2e39367-ca47-4447-e402-56907b237cf0",
        "colab": {
          "base_uri": "https://localhost:8080/",
          "height": 446
        }
      },
      "outputs": [
        {
          "output_type": "execute_result",
          "data": {
            "text/plain": [
              "[<matplotlib.lines.Line2D at 0x7f848fdf9dd0>]"
            ]
          },
          "metadata": {},
          "execution_count": 146
        },
        {
          "output_type": "display_data",
          "data": {
            "text/plain": [
              "<Figure size 792x504 with 1 Axes>"
            ],
            "image/png": "[encoded data removed]"
          },
          "metadata": {
            "needs_background": "light"
          }
        }
      ],
      "source": [
        "import matplotlib.pyplot as plt\n",
        "import numpy as np\n",
        "\n",
        "x = np.arange(-80,80,0.2)\n",
        "y = a*x**2+b*x+c\n",
        "plt.plot(x,y)"
      ]
    },
    {
      "metadata": {
        "id": "XnuvMxpLO2dV"
      },
      "cell_type": "markdown",
      "source": [
        "##**Linearização**"
      ]
    },
    {
      "metadata": {
        "id": "nRJKUXETO61F",
        "colab": {
          "base_uri": "https://localhost:8080/"
        },
        "outputId": "111edf6a-2383-424c-8dd7-2c04e01aa6c2"
      },
      "cell_type": "code",
      "source": [
        "import numpy as np\n",
        "#entrada de dados experimentais, valores de x e y\n",
        "x=np.array([0,1,2,3,4,5,6])\n",
        "y=np.array([0,2.2,4.1,6.7,8,9.8,13])\n",
        "print(x)\n",
        "print(y)"
      ],
      "execution_count": null,
      "outputs": [
        {
          "output_type": "stream",
          "name": "stdout",
          "text": [
            "[0 1 2 3 4 5 6]\n",
            "[ 0.   2.2  4.1  6.7  8.   9.8 13. ]\n"
          ]
        }
      ]
    },
    {
      "metadata": {
        "id": "iJu0FR3APdpK",
        "colab": {
          "base_uri": "https://localhost:8080/"
        },
        "outputId": "8e00af13-8601-4082-dd49-91882d2ef0cf"
      },
      "cell_type": "code",
      "source": [
        "#importando o pacote numpy e utilizando a função polyfit para ajusrar o modelo\n",
        "\n",
        "mod_linear=np.polyfit(x,y,1)\n",
        "print(mod_linear) #Vai sair COEFICIENTE ANGULAR e depois o LINEAR"
      ],
      "execution_count": null,
      "outputs": [
        {
          "output_type": "stream",
          "name": "stdout",
          "text": [
            "[2.075      0.03214286]\n"
          ]
        }
      ]
    },
    {
      "metadata": {
        "id": "2atfjzHpPuZ0",
        "colab": {
          "base_uri": "https://localhost:8080/"
        },
        "outputId": "2bad6888-d2f2-488d-f1c9-20998247788a"
      },
      "cell_type": "code",
      "source": [
        "#Calculando os valores do modelo\n",
        "A=mod_linear[0]\n",
        "B=mod_linear[1]\n",
        "novo_y=A*x+B\n",
        "print(novo_y)\n",
        "\n",
        "#calculando os vallores do modelo, chamando a função polyval\n",
        "#novo_y=np.poluval(mod_linear,x)"
      ],
      "execution_count": null,
      "outputs": [
        {
          "output_type": "stream",
          "name": "stdout",
          "text": [
            "[ 0.03214286  2.10714286  4.18214286  6.25714286  8.33214286 10.40714286\n",
            " 12.48214286]\n"
          ]
        }
      ]
    },
    {
      "cell_type": "code",
      "source": [
        "#importando o pacote matplotlib para construção do gráfico\n",
        "import matplotlib.pyplot as plt\n",
        "plt.plot(x,y, \"o\", label = \"pontos experimentais\")\n",
        "plt.plot(x,novo_y,\"-r\", label = \"modelo\")\n",
        "plt.xlabel(\"x\")\n",
        "plt.ylabel(\"y\")\n",
        "plt.title(\"Ajuste de uma reta\")\n",
        "plt.legend()\n",
        "plt.show()"
      ],
      "metadata": {
        "id": "zV0PieOOim6Q",
        "outputId": "c602ee57-126f-400f-dbd4-cdb3ad39d44f",
        "colab": {
          "base_uri": "https://localhost:8080/",
          "height": 295
        }
      },
      "execution_count": null,
      "outputs": [
        {
          "output_type": "display_data",
          "data": {
            "text/plain": [
              "<Figure size 432x288 with 1 Axes>"
            ],
            "image/png": "[encoded data removed]"
          },
          "metadata": {
            "needs_background": "light"
          }
        }
      ]
    },
    {
      "metadata": {
        "id": "45WTH57WQTEj",
        "colab": {
          "base_uri": "https://localhost:8080/"
        },
        "outputId": "18291b34-f46a-4b63-99a5-4537952b32f3"
      },
      "cell_type": "code",
      "source": [
        "plt = np.polyfit(x,y,1) #O r^2 da reta plotada\n",
        "yresid = y - novo_y\n",
        "SQresid = sum(pow(yresid,2))\n",
        "SQtotal = len(y)*np.var(y)\n",
        "R2 = 1 - SQresid/SQtotal\n",
        "print(\"O valor de r^2: \", R2)"
      ],
      "execution_count": null,
      "outputs": [
        {
          "output_type": "stream",
          "name": "stdout",
          "text": [
            "O valor de r^2:  0.9921028191201712\n"
          ]
        }
      ]
    },
    {
      "cell_type": "markdown",
      "source": [
        "##Arrhenius"
      ],
      "metadata": {
        "id": "sRziau-piaQS"
      }
    },
    {
      "cell_type": "code",
      "metadata": {
        "id": "CVJZxV-aT09q"
      },
      "source": [
        "# importando os pacotes do python\n",
        "import numpy as np\n",
        "import pandas as pd\n",
        "import matplotlib.pyplot as plt"
      ],
      "execution_count": null,
      "outputs": []
    },
    {
      "cell_type": "code",
      "metadata": {
        "id": "VF1HmkPR1eYM"
      },
      "source": [
        "# Dados experimentais de T e k\n",
        "T = np.array([280, 285, 289, 297, 306, 312])\n",
        "k = np.array([0.000145, 0.000268, 0.000432, 0.001780, 0.002849, 0.005279])"
      ],
      "execution_count": null,
      "outputs": []
    },
    {
      "cell_type": "code",
      "source": [
        "#vetor do eixo x\n",
        "x = 1/T\n",
        "#vetor do eixo y\n",
        "y = np.log(k)"
      ],
      "metadata": {
        "id": "BB8sTSdWGcNa"
      },
      "execution_count": null,
      "outputs": []
    },
    {
      "cell_type": "code",
      "metadata": {
        "id": "gWLUusahU1FZ",
        "colab": {
          "base_uri": "https://localhost:8080/"
        },
        "outputId": "14c22a9f-0d89-452c-9270-09847fae4860"
      },
      "source": [
        "#Ajustando a correlação linear\n",
        "linear_p = np.polyfit(x, y, 1)\n",
        "print(linear_p)\n",
        "\n",
        "Ea = linear_p[0] *(-8.314) # Estimativa da energia de ativação em J /mol\n",
        "A = np.exp(linear_p[1]) # Fator de frequencia\n",
        "print(Ea)\n",
        "print(A)"
      ],
      "execution_count": null,
      "outputs": [
        {
          "output_type": "stream",
          "name": "stdout",
          "text": [
            "[-9961.54590968    26.79584804]\n",
            "82820.29269304864\n",
            "433799393105.4561\n"
          ]
        }
      ]
    },
    {
      "cell_type": "code",
      "metadata": {
        "colab": {
          "base_uri": "https://localhost:8080/",
          "height": 295
        },
        "id": "haIULkvYU6pv",
        "outputId": "bf100426-787f-4b8e-f4a1-6efd6851733b"
      },
      "source": [
        "#impressão dos dados experimentais e do modelo linear\n",
        "plt.plot(x, y, \"o\", label = \"pontos experimentais\")\n",
        "plt.plot(x, np.polyval(linear_p, x), \"-r\", label = \"modelo\")\n",
        "plt.xlabel(\"1 / Temperatura\")\n",
        "plt.ylabel(\"Log de k\")\n",
        "plt.rcParams['figure.figsize'] = (11,7)\n",
        "plt.title(\"Ajuste de uma reta\")\n",
        "plt.legend()\n",
        "plt.show()"
      ],
      "execution_count": null,
      "outputs": [
        {
          "output_type": "display_data",
          "data": {
            "text/plain": [
              "<Figure size 432x288 with 1 Axes>"
            ],
            "image/png": "[encoded data removed]"
          },
          "metadata": {
            "needs_background": "light"
          }
        }
      ]
    },
    {
      "cell_type": "code",
      "metadata": {
        "id": "I1eIasOTVvNK",
        "colab": {
          "base_uri": "https://localhost:8080/"
        },
        "outputId": "86a60e5f-ab15-45a6-9613-fc911d92fa79"
      },
      "source": [
        "#Cálculo do R2 - Coeficiente de determinação\n",
        "yresid = y - np.polyval(linear_p, x) # resíduo = valor real - valor ajustado (valor predito)\n",
        "SQresid = sum(pow(yresid,2)) # soma dos quadrados dos resíduos \n",
        "SQtotal = len(y) * np.var(y) # número de elementos do vetor y vezes a variância de y\n",
        "r2 = 1 - SQresid/SQtotal # coeficiente de determinação\n",
        "print(r2)\n",
        "\n",
        "from sklearn.metrics import r2_score\n",
        "r_2 = r2_score(y, np.polyval(linear_p, x))\n",
        "print(r_2)"
      ],
      "execution_count": null,
      "outputs": [
        {
          "output_type": "stream",
          "name": "stdout",
          "text": [
            "0.9797779385853767\n",
            "0.9797779385853767\n"
          ]
        }
      ]
    },
    {
      "cell_type": "code",
      "metadata": {
        "colab": {
          "base_uri": "https://localhost:8080/"
        },
        "id": "_XrZ5mVbV6rT",
        "outputId": "9bb8f6d4-46bb-4e06-fd65-06141e4072bb"
      },
      "source": [
        "print(50*\"_\")\n",
        "print('Ajuste Linear')\n",
        "#dados do modelo ajustado\n",
        "dados_v = np.transpose(np.exp(np.polyval(linear_p, x)))\n",
        "dados_df = pd.DataFrame({\"Temperatura\":T, \"velocidade_mod\":dados_v, \"velocidade_exp\":k})\n",
        "print(dados_df)\n",
        "\n",
        "print(f'A energia de ativação é: {Ea:9.7} Joules/mol')\n",
        "print(f'O fator de frequencia é: {A:5.1} L/mol.s')\n",
        "print(f'O Coeficiente de ajuste é: {r2:5.5}')\n",
        "print(50*\"_\")"
      ],
      "execution_count": null,
      "outputs": [
        {
          "output_type": "stream",
          "name": "stdout",
          "text": [
            "__________________________________________________\n",
            "Ajuste Linear\n",
            "   Temperatura  velocidade_mod  velocidade_exp\n",
            "0          280        0.000154        0.000145\n",
            "1          285        0.000287        0.000268\n",
            "2          289        0.000465        0.000432\n",
            "3          297        0.001177        0.001780\n",
            "4          306        0.003157        0.002849\n",
            "5          312        0.005904        0.005279\n",
            "A energia de ativação é:  82820.29 Joules/mol\n",
            "O fator de frequencia é: 4e+11 L/mol.s\n",
            "O Coeficiente de ajuste é: 0.97978\n",
            "__________________________________________________\n"
          ]
        }
      ]
    },
    {
      "metadata": {
        "id": "9Cb3ZKjF2jZK"
      },
      "cell_type": "markdown",
      "source": [
        "##Equação de resolução - primeira ordem"
      ]
    },
    {
      "cell_type": "code",
      "source": [
        "import numpy as np\n",
        "from scipy.integrate import odeint\n",
        "import matplotlib.pyplot as plt "
      ],
      "metadata": {
        "id": "kyZ59-ggF1O8"
      },
      "execution_count": null,
      "outputs": []
    },
    {
      "cell_type": "code",
      "source": [
        "#Função para retornar dy/dt\n",
        "def model1(y,t):\n",
        "  k = 0.2\n",
        "  dydt=-k*y\n",
        "  return dydt"
      ],
      "metadata": {
        "id": "rtyCRpRBF2n0"
      },
      "execution_count": null,
      "outputs": []
    },
    {
      "cell_type": "code",
      "source": [
        "#Função para retornar dy/dt\n",
        "def model2(a,t):\n",
        "  k2 = 0.1\n",
        "  dadt=-k2*a\n",
        "  return dadt"
      ],
      "metadata": {
        "id": "5TkdLQJoF316"
      },
      "execution_count": null,
      "outputs": []
    },
    {
      "cell_type": "code",
      "source": [
        "#Função para retornar dy/dt\n",
        "def model3(b,t):\n",
        "  k3 = 0.5\n",
        "  dbdt=-k3*b\n",
        "  return dbdt"
      ],
      "metadata": {
        "id": "qPohOyUiF43z"
      },
      "execution_count": null,
      "outputs": []
    },
    {
      "cell_type": "code",
      "source": [
        "#Condição inicial\n",
        "y0=5\n",
        "a0=5\n",
        "b0=5\n",
        "\n",
        "#Pontos de tempo\n",
        "t=np.linspace(0,20,50)"
      ],
      "metadata": {
        "id": "HZBwbd6OF6Li"
      },
      "execution_count": null,
      "outputs": []
    },
    {
      "cell_type": "code",
      "source": [
        "#Solve ODE\n",
        "y=odeint(model1,y0,t)\n",
        "a=odeint(model2,a0,t)\n",
        "b=odeint(model3,b0,t)"
      ],
      "metadata": {
        "id": "wuA4auT9F9Uz"
      },
      "execution_count": null,
      "outputs": []
    },
    {
      "metadata": {
        "id": "QCN0wwy-0I5Z",
        "colab": {
          "base_uri": "https://localhost:8080/",
          "height": 279
        },
        "outputId": "ae405c02-f96c-4e1c-a158-dc338049150f"
      },
      "cell_type": "code",
      "source": [
        "#Plotar resultados\n",
        "plt.plot(t,b,'g:',linewidth=2,label='k=0.5')  # Variável x ; Variável y ; \n",
        "plt.plot(t,y, 'r-',linewidth=2,label='k=0.2')\n",
        "plt.plot(t,a,'b--',linewidth=2,label='k=0.1')\n",
        "plt.xlabel('Time')\n",
        "plt.ylabel('y(t)')\n",
        "plt.legend()\n",
        "plt.show()"
      ],
      "execution_count": null,
      "outputs": [
        {
          "output_type": "display_data",
          "data": {
            "text/plain": [
              "<Figure size 432x288 with 1 Axes>"
            ],
            "image/png": "[encoded data removed]"
          },
          "metadata": {
            "needs_background": "light"
          }
        }
      ]
    },
    {
      "cell_type": "code",
      "source": [
        "from scipy.integrate import odeint\n",
        "from numpy import arange\n",
        "import matplotlib.pyplot as plt"
      ],
      "metadata": {
        "id": "qADNYIt0GBWE"
      },
      "execution_count": null,
      "outputs": []
    },
    {
      "cell_type": "code",
      "source": [
        "def BoatFishSystem(state,t): #Esse state servirá como matriz, pois as variáveis peixe e barco são dependentes, mas caso não seja colocado assim, o sistema não irá reconhecer isso;\n",
        "  fish,boat=state\n",
        "  d_fish=fish*(10-boat-fish)\n",
        "  d_boat=-boat*(1.25-1.5*fish)\n",
        "  return [d_fish,d_boat] #retorna os valores de cada função (d_variável) e coloca na matriz chamada state;"
      ],
      "metadata": {
        "id": "iINAZj32GCdL"
      },
      "execution_count": null,
      "outputs": []
    },
    {
      "cell_type": "code",
      "source": [
        "t=arange(0,20,0.01) #Variação do tempo;\n",
        "init_state=[1,1] #Estado inicial da matriz [peixe,barco];\n",
        "state = odeint(BoatFishSystem, init_state, t) #A matriz será a integração do connjunto de fórmulas a partir do estado inicial com o tempo variando;"
      ],
      "metadata": {
        "id": "vPPSGEtpGDq6"
      },
      "execution_count": null,
      "outputs": []
    },
    {
      "cell_type": "code",
      "source": [
        "#Plotar resultados\n",
        "plt.plot(t,state[:,0])\n",
        "plt.xlabel('Time')\n",
        "plt.ylabel('Peixes(t)')\n",
        "plt.show()"
      ],
      "metadata": {
        "colab": {
          "base_uri": "https://localhost:8080/",
          "height": 279
        },
        "id": "0TbbD3yKGErT",
        "outputId": "c884e2a3-a0f1-4679-ceda-9905e6a461ca"
      },
      "execution_count": null,
      "outputs": [
        {
          "output_type": "display_data",
          "data": {
            "text/plain": [
              "<Figure size 432x288 with 1 Axes>"
            ],
            "image/png": "[encoded data removed]"
          },
          "metadata": {
            "needs_background": "light"
          }
        }
      ]
    },
    {
      "cell_type": "code",
      "source": [
        "#Plotar resultados\n",
        "plt.plot(t,state[:,1])\n",
        "plt.xlabel('Time')\n",
        "plt.ylabel('Barco(t)')\n",
        "plt.show()"
      ],
      "metadata": {
        "colab": {
          "base_uri": "https://localhost:8080/",
          "height": 279
        },
        "id": "wc-M25cFGFjc",
        "outputId": "ad35603f-dccc-40b6-9a7e-9e14ebfc80e4"
      },
      "execution_count": null,
      "outputs": [
        {
          "output_type": "display_data",
          "data": {
            "text/plain": [
              "<Figure size 432x288 with 1 Axes>"
            ],
            "image/png": "[encoded data removed]"
          },
          "metadata": {
            "needs_background": "light"
          }
        }
      ]
    },
    {
      "metadata": {
        "id": "32XpRpgA2rB6",
        "colab": {
          "base_uri": "https://localhost:8080/",
          "height": 279
        },
        "outputId": "066fdf73-fa89-4464-9e25-21fadaa21779"
      },
      "cell_type": "code",
      "source": [
        "plt.plot(state[:,0],state[:,1],'b-',alpha=0.2)\n",
        "plt.xlabel('Numero de peixes')\n",
        "plt.ylabel('Numero de barcos')\n",
        "plt.show()"
      ],
      "execution_count": null,
      "outputs": [
        {
          "output_type": "display_data",
          "data": {
            "text/plain": [
              "<Figure size 432x288 with 1 Axes>"
            ],
            "image/png": "[encoded data removed]"
          },
          "metadata": {
            "needs_background": "light"
          }
        }
      ]
    },
    {
      "cell_type": "markdown",
      "source": [
        "## Monod - Simulação e Modelagem"
      ],
      "metadata": {
        "id": "CENTSEhjdJvL"
      }
    },
    {
      "cell_type": "markdown",
      "source": [
        "Utilizando a função *odeint()* é possível a integração numérica da variação da concentração celular e de substrado a partir dos valores estipulados das variáveis do modelo:\n",
        " **μ_max; y_xs; ks; kd** "
      ],
      "metadata": {
        "id": "_zdXkfPKrWZg"
      }
    },
    {
      "metadata": {
        "id": "x9lLVL_2-xZy",
        "colab": {
          "base_uri": "https://localhost:8080/",
          "height": 279
        },
        "outputId": "78a2f826-5e25-46a7-8349-94a15a69b6ce"
      },
      "cell_type": "code",
      "source": [
        "from scipy.integrate import odeint\n",
        "from numpy import arange\n",
        "import matplotlib.pyplot as plt\n",
        "import numpy as np\n",
        "\n",
        "#Função para retornar dCx/dt\n",
        "def Concentracao(state,t):\n",
        "    Cx,Cs=state\n",
        "    um = 2\n",
        "    y = 0.456\n",
        "    ks= 2.5\n",
        "    kd= 0.1\n",
        "    dCxdt= (((um*Cs)/(ks+Cs))-kd)*Cx\n",
        "    dCsdt= -(1/y)*((um*Cs)/(ks+Cs))*Cx\n",
        "    return [dCxdt,dCsdt]\n",
        "\n",
        "init_state=[0.1,30] #Colocar valores de início para o Cx e Cs\n",
        "t=arange(0,8,0.1) #Variação do tempo;\n",
        "state = odeint(Concentracao, init_state, t) \n",
        "\n",
        "#Plotar resultados\n",
        "plt.plot(t,state[:,0],label='Cx')\n",
        "plt.plot(t,state[:,1],label='Cs')\n",
        "plt.xlabel('Tempo')\n",
        "plt.ylabel('Concentracao celular(t)')\n",
        "plt.legend()\n",
        "plt.show()"
      ],
      "execution_count": null,
      "outputs": [
        {
          "output_type": "display_data",
          "data": {
            "text/plain": [
              "<Figure size 432x288 with 1 Axes>"
            ],
            "image/png": "[encoded data removed]"
          },
          "metadata": {
            "needs_background": "light"
          }
        }
      ]
    },
    {
      "cell_type": "markdown",
      "source": [
        "###  Batelada"
      ],
      "metadata": {
        "id": "rP7SlOK3dxrX"
      }
    },
    {
      "cell_type": "markdown",
      "source": [
        "Variação da concentração de células (Cx) - Monod:\n",
        "\n",
        "$\\frac{\\mathrm{dC_{x}} }{\\mathrm{d} t} = \\frac{\\mu_{max}C_{s} }{K_{s}+C_{s}}C_{x}$ ⠀⠀⠀⠀⠀⠀⠀⠀⠀⠀⠀⠀⠀⠀⠀⠀⠀⠀⠀⠀⠀⠀⠀⠀⠀⠀"
      ],
      "metadata": {
        "id": "sq84br7R7BtA"
      }
    },
    {
      "cell_type": "markdown",
      "source": [
        "Variação da concentração de substrato (Cs) - Monod:\n",
        "\n",
        "\n",
        "$\\frac{\\mathrm{dC_{s}} }{\\mathrm{d} t} =-\\frac{\\mu_{max}C_{s} }{K_{s}+C_{s}}\\frac{C_{x}}{Y_{\\frac{x}{s}}}$"
      ],
      "metadata": {
        "id": "a3nxloBW8ChW"
      }
    },
    {
      "cell_type": "markdown",
      "source": [
        "Pode-se então, importar dados de concentração celular e de substrato obtidos de cultivos como os valores experimentais : **Cx_exp** e **Cs_exp**"
      ],
      "metadata": {
        "id": "3BdK59Mer6Do"
      }
    },
    {
      "metadata": {
        "id": "xby_5DbX6DBW",
        "colab": {
          "base_uri": "https://localhost:8080/",
          "height": 279
        },
        "outputId": "b84b8fea-68ad-449a-ec46-1af21368c6e4"
      },
      "cell_type": "code",
      "source": [
        "from scipy.integrate import odeint\n",
        "from numpy import arange\n",
        "import matplotlib.pyplot as plt\n",
        "import numpy as np\n",
        "\n",
        "#Função para retornar dCx/dt\n",
        "def Concentracao(state,t):\n",
        "    Cx,Cs=state\n",
        "    um = 0.42\n",
        "    y = 0.3\n",
        "    ks= 1.2\n",
        "    kd= 0.1\n",
        "    dCxdt= (((um*Cs)/(ks+Cs))-kd)*Cx\n",
        "    dCsdt= -((um*Cs)/(ks+Cs))*Cx/y\n",
        "    return [dCxdt,dCsdt]\n",
        "\n",
        "\n",
        "init_state=[0.1,30] #Colocar valores de início para o Cx e Cs\n",
        "t=arange(0,20,0.05) #Variação do tempo;\n",
        "state = odeint(Concentracao, init_state, t)\n",
        "\n",
        "Cx_exp=np.array([0.247,0.235,0.295,0.328,0.426,0.483,0.547,0.618,0.794,1.185,1.254,2.328,2.580,2.890,3.375,3.350,3.510,3.890,3.87,4.6,5.8,6.7,8.3,7.2,8.1,7.8,8.4,7.3,6.6,5.3]) #Valores de tempo e Cx\n",
        "Cs_exp=np.array([29.58,28.86,30.82,27.31,30.3604,30.512,32.07,31.09,30.3817,19.9537,21.88,25.1167,21.01,20.81,19.0656,15.93,14.96,12.82,11.36,10.3,8.7,6.3,2.1,0,0,0,0,0,0,0]) #Valores de tempo e Cs\n",
        "texp=arange(0,15,0.5) #Variação do tempo experimental\n",
        "\n",
        "#Plotar resultados\n",
        "plt.plot(t,state[:,0],label='Cx')\n",
        "plt.plot(t,state[:,1],label='Cs')\n",
        "plt.plot(texp,Cx_exp,\"o\", label='Exp Cx')\n",
        "plt.plot(texp,Cs_exp,\"o\", label='Exp Cs')\n",
        "plt.xlabel('Tempo')\n",
        "plt.ylabel('Concentracao (t)')\n",
        "plt.legend()\n",
        "plt.show()\n"
      ],
      "execution_count": 1,
      "outputs": [
        {
          "output_type": "display_data",
          "data": {
            "text/plain": [
              "<Figure size 432x288 with 1 Axes>"
            ],
            "image/png": "[encoded data removed]"
          },
          "metadata": {
            "needs_background": "light"
          }
        }
      ]
    },
    {
      "cell_type": "markdown",
      "source": [
        "No entanto, observa-se que cada cultivo terá uma cinética distinta que é uma combinação de diversos fatores indicados pelas variáveis do modelo e  os parametros selecionados não representam a cinética real (baixo ajuste)."
      ],
      "metadata": {
        "id": "kpzi2-8csHQI"
      }
    },
    {
      "cell_type": "markdown",
      "source": [
        "Assim, Ferramentas de ajuste e minimização de erros podem ser utilizadas para ajustar os valores das variáveis do modelo. Uma delas é o algoritmo genético, utilizado a seguir a partir da função *differential_evolution()*"
      ],
      "metadata": {
        "id": "rQExooQosXLn"
      }
    },
    {
      "cell_type": "code",
      "source": [
        "from scipy.integrate import odeint\n",
        "from numpy import arange\n",
        "import matplotlib.pyplot as plt\n",
        "import numpy as np\n",
        "from scipy.optimize import differential_evolution"
      ],
      "metadata": {
        "id": "3jhXulcGFiaa"
      },
      "execution_count": null,
      "outputs": []
    },
    {
      "cell_type": "code",
      "source": [
        "Cx_exp=np.array([0.247,0.235,0.295,0.328,0.426,0.483,0.547,0.618,0.794,1.185,1.254,2.328,2.580,2.890,3.375,3.350,3.510,3.890,3.87,4.6,5.8,6.7,8.3,7.2,8.1,7.8,8.4,7.3,6.6,5.3]) #Valores de tempo e Cx\n",
        "Cs_exp=np.array([29.58,28.86,30.82,27.31,30.3604,30.512,32.07,31.09,30.3817,19.9537,21.88,25.1167,21.01,20.81,19.0656,15.93,14.96,12.82,11.36,10.3,8.7,6.3,2.1,0,0,0,0,0,0,0]) #Valores de tempo e Cs\n",
        "texp=arange(0,15,0.5) #Variação do tempo experimental\n",
        "t=arange(0,15,0.5) #Variação do tempo;\n",
        "\n",
        "#w[0] um\n",
        "#w[1] yxs\n",
        "#w[2] ks\n",
        "#w[3] kd\n",
        "#w[4] Cx\n",
        "#w[5] Cs"
      ],
      "metadata": {
        "id": "9AOVPN_fFjmD"
      },
      "execution_count": null,
      "outputs": []
    },
    {
      "cell_type": "code",
      "source": [
        "#Função para retornar dCx/dt\n",
        "def Concentracao(state, t, k):\n",
        "    um = k[0]\n",
        "    yxs = k[1]\n",
        "    ks = k[2]\n",
        "    kd = k[3]\n",
        "    Cx, Cs = state\n",
        "    dCxdt= (((um*Cs)/(ks+Cs))-kd)*Cx\n",
        "    dCsdt= -(1/yxs)*((um*Cs)/(ks+Cs))*Cx\n",
        "    return [dCxdt, dCsdt]\n",
        "\n",
        "def Integração(w):\n",
        "    global C_sim\n",
        "    init_state=[w[4],w[5]] #Colocar valores de início para o Cx e Cs\n",
        "    k = [w[0], w[1], w[2], w[3]]\n",
        "    C_sim = odeint(Concentracao, init_state, t, args = (k,))\n",
        "    residuoCx = np.sqrt(sum((Cx_exp - C_sim[:,0])**2)/len(Cx_exp))\n",
        "    residuoCs = np.sqrt(sum((Cs_exp - C_sim[:,1])**2)/len(Cs_exp))\n",
        "    residuoC = np.sqrt(residuoCx**2 + residuoCs**2)\n",
        "    return residuoC\n",
        "\n",
        "resultado = differential_evolution(Integração, bounds = [(0,0.6), (0,0.6), (0,3), (0,3), (0,2), (20,50)], maxiter=1000, popsize=25)"
      ],
      "metadata": {
        "id": "Lo4Mg6U-Forb"
      },
      "execution_count": null,
      "outputs": []
    },
    {
      "metadata": {
        "colab": {
          "base_uri": "https://localhost:8080/",
          "height": 404
        },
        "outputId": "81bc0ba9-2001-4c0e-b206-e40682bf98f8",
        "id": "IJtrCdzKAwQo"
      },
      "cell_type": "code",
      "source": [
        "print('umax = %.2f' %resultado.x[0]) \n",
        "print('yxs = %.2f' %resultado.x[1]) \n",
        "print('ks = %.2f' %resultado.x[2])\n",
        "print('kd = %.2f' %resultado.x[3])\n",
        "print('Cx inicial = %.2f' %resultado.x[4])\n",
        "print('Cs inicial = %.2f' %resultado.x[5])\n",
        "print('-'*20)\n",
        "\n",
        "#Plotar resultados\n",
        "plt.plot(t,C_sim[:,0],label='Cx')\n",
        "plt.plot(t,C_sim[:,1],label='Cs')\n",
        "plt.plot(texp,Cx_exp,\"o\", label='Exp Cx')\n",
        "plt.plot(texp,Cs_exp,\"o\", label='Exp Cs')\n",
        "plt.xlabel('Tempo')\n",
        "plt.ylabel('Concentracao (t)')\n",
        "plt.legend()\n",
        "plt.show()"
      ],
      "execution_count": null,
      "outputs": [
        {
          "output_type": "stream",
          "name": "stdout",
          "text": [
            "umax = 0.30\n",
            "yxs = 0.26\n",
            "ks = 3.00\n",
            "kd = 0.03\n",
            "Cx inicial = 0.60\n",
            "Cs inicial = 30.82\n",
            "--------------------\n"
          ]
        },
        {
          "output_type": "display_data",
          "data": {
            "text/plain": [
              "<Figure size 432x288 with 1 Axes>"
            ],
            "image/png": "[encoded data removed]"
          },
          "metadata": {
            "needs_background": "light"
          }
        }
      ]
    },
    {
      "cell_type": "markdown",
      "source": [
        "### Balelada Alimentada"
      ],
      "metadata": {
        "id": "JLAqEh1nluMJ"
      }
    },
    {
      "cell_type": "markdown",
      "source": [
        "####Variação da taxa de alimentação de meio"
      ],
      "metadata": {
        "id": "a5aXEk4RCt61"
      }
    },
    {
      "cell_type": "markdown",
      "source": [
        "Vazão é definida como variação do volume pelo tempo: $ Q = \\frac{\\mathrm{d} V}{\\mathrm{d} t}$\n",
        "\n",
        "Para vazão constante: $\\frac{\\mathrm{d} V}{\\mathrm{d} t} = \\beta$\n",
        "\n",
        "Integrando: $V = V_{0} + \\beta t$"
      ],
      "metadata": {
        "id": "qNuNYv40C2i3"
      }
    },
    {
      "cell_type": "markdown",
      "source": [
        "Para variação linear da vazão: $\\frac{\\mathrm{d} V}{\\mathrm{d} t} =Q_{0} + \\beta $\n",
        "\n",
        "Integrando: $V = V_{0} + \\frac{\\beta t^2}{2}$"
      ],
      "metadata": {
        "id": "RJWOa41JD4Va"
      }
    },
    {
      "cell_type": "markdown",
      "source": [
        "Para variação exponencial da vazão: $\\frac{\\mathrm{d} V}{\\mathrm{d} t} =Q_{0}(1+e^{\\beta t})$\n",
        "\n",
        "Integrando: $V = V_{0}+\\frac{Q_{0}{(1+e)^{\\beta t}}}{\\beta ln(1+e)}$\n"
      ],
      "metadata": {
        "id": "4rvq5b4EGT-k"
      }
    },
    {
      "cell_type": "code",
      "source": [
        "from numpy import arange\n",
        "import matplotlib.pyplot as plt\n",
        "import numpy as np\n",
        "import math as m"
      ],
      "metadata": {
        "id": "z_WXcWiDI06b"
      },
      "execution_count": 55,
      "outputs": []
    },
    {
      "cell_type": "code",
      "source": [
        "t= np.arange(0,80,0.25)\n",
        "\n",
        "# Vazão constante\n",
        "V0 = 2.0\n",
        "Q=0.25\n",
        "\n",
        "Q_1 = [Q] * len(t)\n",
        "V_1 = V0+Q_1*t\n",
        "\n",
        "#Plotar resultados\n",
        "fig, ax1 = plt.subplots()\n",
        "ax1.plot(t,Q_1,label='Vazão Constante (β)', color ='r')\n",
        "ax1.set_ylabel('Q (t)')\n",
        "ax1.set_ylim([0, 1.5])\n",
        "ax2 = ax1.twinx()\n",
        "ax2.plot(t,V_1,label='Volume (Vazão constante)', color ='b')\n",
        "ax2.set_ylabel('Volume (t)')\n",
        "ax2.set_ylim([0, 30])\n",
        "ax1.set_xlabel('Tempo')\n",
        "plt.legend()\n",
        "plt.show()\n",
        "\n",
        "#Vazão linear\n",
        "Q0 = 0\n",
        "V0 = 2.0\n",
        "β = 0.005\n",
        "Q_2 = Q0 + β*t\n",
        "V_2 = V0 + Q0*t + (β*t**2)/2\n",
        "\n",
        "#Plotar resultados\n",
        "fig, ax1 = plt.subplots()\n",
        "ax1.plot(t,Q_2,label='Vazão Linear (Q0+βt)', color ='r')\n",
        "ax1.set_ylabel('Q (t)')\n",
        "ax1.set_ylim([0, 1.5])\n",
        "ax2 = ax1.twinx()\n",
        "ax2.plot(t,V_2,label='Volume (Vazão linear)', color ='b')\n",
        "ax2.set_ylabel('Volume (t)')\n",
        "ax2.set_ylim([0, 30])\n",
        "ax1.set_xlabel('Tempo')\n",
        "plt.legend()\n",
        "plt.show()\n",
        "\n",
        "#Vazão exponencial\n",
        "Q0 = 0.001\n",
        "V0 = 2.0\n",
        "β = 0.07\n",
        "#Q_3 = β*V0*m.log(1+2.718282)*(1+2.718282)**(β*t)\n",
        "Q_3 = Q0*((1+2.71828)**(β*t))\n",
        "V_3 = V0 + Q0*(1+2.71828)**(β*t)/(β*m.log(1+2.71828))\n",
        "\n",
        "#Plotar resultados\n",
        "fig, ax1 = plt.subplots()\n",
        "ax1.plot(t,Q_3,label='Vazão exponencial (Q0+e^βt)', color ='r')\n",
        "ax1.set_ylabel('Q (t)')\n",
        "ax1.set_ylim([0, 1.5])\n",
        "ax2 = ax1.twinx()\n",
        "ax2.plot(t,V_3,label='Volume (Vazão exponencial)', color ='b')\n",
        "ax2.set_ylabel('Volume (t)')\n",
        "ax2.set_ylim([0, 30])\n",
        "ax1.set_xlabel('Tempo')\n",
        "plt.legend()\n",
        "plt.show()"
      ],
      "metadata": {
        "colab": {
          "base_uri": "https://localhost:8080/",
          "height": 1000
        },
        "id": "iEkAysi1I2Kq",
        "outputId": "63f900bb-d463-47a0-8a8c-92a0e532e25d"
      },
      "execution_count": 72,
      "outputs": [
        {
          "output_type": "display_data",
          "data": {
            "text/plain": [
              "<Figure size 432x288 with 2 Axes>"
            ],
            "image/png": "[encoded data removed]"
          },
          "metadata": {
            "needs_background": "light"
          }
        },
        {
          "output_type": "display_data",
          "data": {
            "text/plain": [
              "<Figure size 432x288 with 2 Axes>"
            ],
            "image/png": "[encoded data removed]"
          },
          "metadata": {
            "needs_background": "light"
          }
        },
        {
          "output_type": "display_data",
          "data": {
            "text/plain": [
              "<Figure size 432x288 with 2 Axes>"
            ],
            "image/png": "[encoded data removed]"
          },
          "metadata": {
            "needs_background": "light"
          }
        },
        {
          "output_type": "stream",
          "name": "stdout",
          "text": [
            "[1.00000000e-03 1.02324819e-03 1.04703687e-03 1.07137858e-03\n",
            " 1.09628620e-03 1.12177287e-03 1.14785206e-03 1.17453755e-03\n",
            " 1.20184343e-03 1.22978412e-03 1.25837437e-03 1.28762931e-03\n",
            " 1.31756436e-03 1.34819535e-03 1.37953846e-03 1.41161024e-03\n",
            " 1.44442762e-03 1.47800796e-03 1.51236897e-03 1.54752882e-03\n",
            " 1.58350607e-03 1.62031972e-03 1.65798923e-03 1.69653448e-03\n",
            " 1.73597585e-03 1.77633415e-03 1.81763071e-03 1.85988734e-03\n",
            " 1.90312636e-03 1.94737061e-03 1.99264346e-03 2.03896882e-03\n",
            " 2.08637116e-03 2.13487552e-03 2.18450752e-03 2.23529337e-03\n",
            " 2.28725991e-03 2.34043457e-03 2.39484544e-03 2.45052127e-03\n",
            " 2.50749146e-03 2.56578611e-03 2.62543600e-03 2.68647265e-03\n",
            " 2.74892828e-03 2.81283590e-03 2.87822925e-03 2.94514288e-03\n",
            " 3.01361214e-03 3.08367317e-03 3.15536300e-03 3.22871949e-03\n",
            " 3.30378139e-03 3.38058834e-03 3.45918091e-03 3.53960062e-03\n",
            " 3.62188994e-03 3.70609234e-03 3.79225229e-03 3.88041530e-03\n",
            " 3.97062795e-03 4.06293788e-03 4.15739384e-03 4.25404574e-03\n",
            " 4.35294462e-03 4.45414271e-03 4.55769349e-03 4.66365163e-03\n",
            " 4.77207310e-03 4.88301518e-03 4.99653646e-03 5.11269691e-03\n",
            " 5.23155788e-03 5.35318215e-03 5.47763396e-03 5.60497905e-03\n",
            " 5.73528469e-03 5.86861970e-03 6.00505451e-03 6.14466117e-03\n",
            " 6.28751345e-03 6.43368678e-03 6.58325837e-03 6.73630724e-03\n",
            " 6.89291421e-03 7.05316201e-03 7.21713529e-03 7.38492065e-03\n",
            " 7.55660671e-03 7.73228416e-03 7.91204580e-03 8.09598657e-03\n",
            " 8.28420364e-03 8.47679641e-03 8.67386661e-03 8.87551834e-03\n",
            " 9.08185811e-03 9.29299490e-03 9.50904024e-03 9.73010825e-03\n",
            " 9.95631569e-03 1.01877820e-02 1.04246296e-02 1.06669834e-02\n",
            " 1.09149715e-02 1.11687248e-02 1.14283775e-02 1.16940666e-02\n",
            " 1.19659326e-02 1.22441189e-02 1.25287725e-02 1.28200439e-02\n",
            " 1.31180867e-02 1.34230585e-02 1.37351204e-02 1.40544371e-02\n",
            " 1.43811774e-02 1.47155138e-02 1.50576229e-02 1.54076855e-02\n",
            " 1.57658863e-02 1.61324147e-02 1.65074642e-02 1.68912329e-02\n",
            " 1.72839235e-02 1.76857435e-02 1.80969051e-02 1.85176255e-02\n",
            " 1.89481268e-02 1.93886365e-02 1.98393873e-02 2.03006172e-02\n",
            " 2.07725699e-02 2.12554946e-02 2.17496465e-02 2.22552865e-02\n",
            " 2.27726817e-02 2.33021054e-02 2.38438373e-02 2.43981634e-02\n",
            " 2.49653766e-02 2.55457765e-02 2.61396697e-02 2.67473698e-02\n",
            " 2.73691978e-02 2.80054822e-02 2.86565591e-02 2.93227723e-02\n",
            " 3.00044738e-02 3.07020236e-02 3.14157902e-02 3.21461506e-02\n",
            " 3.28934905e-02 3.36582047e-02 3.44406972e-02 3.52413812e-02\n",
            " 3.60606796e-02 3.68990253e-02 3.77568610e-02 3.86346398e-02\n",
            " 3.95328253e-02 4.04518921e-02 4.13923255e-02 4.23546223e-02\n",
            " 4.33392908e-02 4.43468510e-02 4.53778352e-02 4.64327879e-02\n",
            " 4.75122663e-02 4.86168407e-02 4.97470944e-02 5.09036245e-02\n",
            " 5.20870418e-02 5.32979714e-02 5.45370529e-02 5.58049409e-02\n",
            " 5.71023050e-02 5.84298304e-02 5.97882184e-02 6.11781865e-02\n",
            " 6.26004688e-02 6.40558166e-02 6.55449986e-02 6.70688014e-02\n",
            " 6.86280299e-02 7.02235076e-02 7.18560773e-02 7.35266013e-02\n",
            " 7.52359620e-02 7.69850622e-02 7.87748258e-02 8.06061982e-02\n",
            " 8.24801467e-02 8.43976611e-02 8.63597542e-02 8.83674625e-02\n",
            " 9.04218464e-02 9.25239909e-02 9.46750066e-02 9.68760295e-02\n",
            " 9.91282221e-02 1.01432774e-01 1.03790903e-01 1.06203854e-01\n",
            " 1.08672902e-01 1.11199350e-01 1.13784534e-01 1.16429819e-01\n",
            " 1.19136602e-01 1.21906313e-01 1.24740415e-01 1.27640404e-01\n",
            " 1.30607813e-01 1.33644208e-01 1.36751195e-01 1.39930413e-01\n",
            " 1.43183542e-01 1.46512301e-01 1.49918447e-01 1.53403780e-01\n",
            " 1.56970141e-01 1.60619413e-01 1.64353525e-01 1.68174447e-01\n",
            " 1.72084199e-01 1.76084846e-01 1.80178501e-01 1.84367325e-01\n",
            " 1.88653532e-01 1.93039386e-01 1.97527203e-01 2.02119354e-01\n",
            " 2.06818264e-01 2.11626415e-01 2.16546347e-01 2.21580658e-01\n",
            " 2.26732008e-01 2.32003118e-01 2.37396771e-01 2.42915817e-01\n",
            " 2.48563171e-01 2.54341816e-01 2.60254803e-01 2.66305257e-01\n",
            " 2.72496374e-01 2.78831422e-01 2.85313749e-01 2.91946778e-01\n",
            " 2.98734013e-01 3.05679039e-01 3.12785525e-01 3.20057223e-01\n",
            " 3.27497975e-01 3.35111712e-01 3.42902454e-01 3.50874316e-01\n",
            " 3.59031510e-01 3.67378344e-01 3.75919227e-01 3.84658670e-01\n",
            " 3.93601289e-01 4.02751808e-01 4.12115060e-01 4.21695991e-01\n",
            " 4.31499661e-01 4.41531248e-01 4.51796052e-01 4.62299494e-01\n",
            " 4.73047122e-01 4.84044613e-01 4.95297776e-01 5.06812555e-01\n",
            " 5.18595031e-01 5.30651429e-01 5.42988116e-01 5.55611609e-01\n",
            " 5.68528575e-01 5.81745837e-01 5.95270377e-01 6.09109338e-01\n",
            " 6.23270030e-01 6.37759932e-01 6.52586698e-01 6.67758160e-01\n",
            " 6.83282331e-01 6.99167411e-01 7.15421790e-01 7.32054054e-01\n",
            " 7.49072988e-01 7.66487582e-01 7.84307034e-01 8.02540756e-01\n",
            " 8.21198378e-01 8.40289757e-01 8.59824976e-01 8.79814353e-01\n",
            " 9.00268448e-01 9.21198063e-01 9.42614254e-01 9.64528332e-01\n",
            " 9.86951873e-01 1.00989672e+00 1.03337500e+00 1.05739910e+00\n",
            " 1.08198172e+00 1.10713584e+00 1.13287475e+00 1.15921204e+00\n",
            " 1.18616162e+00 1.21373774e+00 1.24195495e+00 1.27082816e+00\n",
            " 1.30037261e+00 1.33060393e+00 1.36153807e+00 1.39319137e+00\n",
            " 1.42558055e+00 1.45872272e+00 1.49263539e+00 1.52733647e+00]\n"
          ]
        }
      ]
    },
    {
      "cell_type": "markdown",
      "source": [
        "####Balanço de Massa"
      ],
      "metadata": {
        "id": "Ms509GvyIfOF"
      }
    },
    {
      "cell_type": "markdown",
      "source": [
        "Variação da concentração de células (Cx) - Monod:\n",
        "\n",
        "$\\frac{\\mathrm{dC_{x}} }{\\mathrm{d} t} = C_{x}(\\frac{umax*Cs}{Ks+Cs}-D-k_{d})$"
      ],
      "metadata": {
        "id": "qtP80gJg-myJ"
      }
    },
    {
      "cell_type": "markdown",
      "source": [
        "Variação da concentração de substrato (Cs) - Monod\n",
        "\n",
        "$\\frac{\\mathrm{dC_{s}} }{\\mathrm{d} t}=-\\frac{umax*Cs}{K_{s}+C_{s}}\\frac{1}{y_{x/s}} C_{x}+D(Csi - Cs)$"
      ],
      "metadata": {
        "id": "lvpllR0L-vxJ"
      }
    },
    {
      "cell_type": "markdown",
      "source": [
        "Da mesma maneira, na batelada alimentada, a variação da concentração é integrada"
      ],
      "metadata": {
        "id": "NEWS45Q2op2y"
      }
    },
    {
      "cell_type": "code",
      "source": [
        "from scipy.integrate import odeint\n",
        "from numpy import arange\n",
        "import matplotlib.pyplot as plt\n",
        "import numpy as np"
      ],
      "metadata": {
        "id": "jiNmj7iSFVG7"
      },
      "execution_count": null,
      "outputs": []
    },
    {
      "cell_type": "code",
      "source": [
        "#Função para retornar dCx/dt\n",
        "def Concentracao(state,t):\n",
        "    Cx, Cs = state\n",
        "    umax = 0.3\n",
        "    Ks= 3\n",
        "    yxs= 0.322862263410841\n",
        "    kd = 0.05\n",
        "    Q = 0.2\n",
        "    V0=2.0\n",
        "    D=Q/(V0+Q*t)\n",
        "    Csi = 169.63680561761663\n",
        "    dCx_dt = ((((umax*Cs)/(Ks+Cs))-kd)-D)*Cx\n",
        "    dCs_dt = (-(1/yxs)*(umax*Cs)/(Ks+Cs))*Cx + (D*(Csi - Cs))\n",
        "    return [dCx_dt, dCs_dt]\n",
        "\n",
        "init_state = [3.474067087310976,10.076434571773264]\n",
        "t= arange(0,80,0.5)\n",
        "state=odeint(Concentracao, init_state, t)"
      ],
      "metadata": {
        "id": "ygpd_kZXFWZN"
      },
      "execution_count": null,
      "outputs": []
    },
    {
      "metadata": {
        "id": "rHajd9VEAkJq",
        "colab": {
          "base_uri": "https://localhost:8080/",
          "height": 282
        },
        "outputId": "df1d827e-17c6-4fe2-8da3-308203c49095"
      },
      "cell_type": "code",
      "source": [
        "# Dados Experimentais\n",
        "x=np.array([4.5, 4.35, 4.04, 4.44, 3.96, 3.735, 4.09, 4.23, 5.95, 4.41, 4.17, 4.735, 4.47, 5.075, 3.66, 3.425, 4.025]) #Valores de tempo e Cx\n",
        "s=np.array([16.51, 13.43, 15.36, 26.8, 22.82, 32.25, 39.59, 41.964, 46.895, 47.739, 76.739, 61.397, 52.119, 63.9, 55.688, 57.327, 58.798]) #Valores de tempo e Cs\n",
        "texp=np.array([0,0.5,1,1.5,2,2.5,3,3.5,4,4.5,5,6,6.5,7,7.5, 8, 8.5]) #Variação do tempo experimental\n",
        "\n",
        "#Plotar resultados\n",
        "plt.plot(t,state[:,0],label='Cx')\n",
        "plt.plot(t,state[:,1],label='Cs')\n",
        "plt.plot(texp,x,\"o\", label='Exp Cx')\n",
        "plt.plot(texp,s,\"o\", label='Exp Cs')\n",
        "plt.xlabel('Tempo')\n",
        "plt.ylabel('Concentracao (t)')\n",
        "plt.legend()\n",
        "plt.show()"
      ],
      "execution_count": null,
      "outputs": [
        {
          "output_type": "display_data",
          "data": {
            "text/plain": [
              "<Figure size 432x288 with 1 Axes>"
            ],
            "image/png": "[encoded data removed]"
          },
          "metadata": {
            "needs_background": "light"
          }
        }
      ]
    },
    {
      "cell_type": "markdown",
      "source": [
        "Utilizando o algoritmo genético, ajusta-se o modelo aos dados experimentais \n",
        "(Variação do volume do reator no eixo secundário)"
      ],
      "metadata": {
        "id": "RK18EvhNo5Qp"
      }
    },
    {
      "cell_type": "code",
      "source": [
        "from scipy.integrate import odeint\n",
        "from numpy import arange\n",
        "import matplotlib.pyplot as plt\n",
        "import numpy as np\n",
        "import pandas as pd\n",
        "from scipy.optimize import differential_evolution"
      ],
      "metadata": {
        "id": "YiGcnngLEads"
      },
      "execution_count": null,
      "outputs": []
    },
    {
      "cell_type": "code",
      "source": [
        "#Conjunto de Dados\n",
        "importado = pd.read_excel(\"Dados_Batelada_Alimentada.xlsx\")\n",
        "importado_np = importado.values\n",
        "Cx_exp = importado_np[:,1]\n",
        "Cs_exp = importado_np[:,2]\n",
        "texp = importado_np[:,0]\n",
        "\n",
        "t=texp #Variação do tempo;"
      ],
      "metadata": {
        "id": "gqPGsbl7Eb_T"
      },
      "execution_count": null,
      "outputs": []
    },
    {
      "cell_type": "code",
      "source": [
        "#w[0] um\n",
        "#w[1] yxs\n",
        "#w[2] ks\n",
        "#w[3] kd\n",
        "#w[4] Cx\n",
        "#w[5] Cs\n",
        "#w[6] Csi"
      ],
      "metadata": {
        "id": "AKlE3vQNEdyS"
      },
      "execution_count": null,
      "outputs": []
    },
    {
      "cell_type": "code",
      "source": [
        "Q=0.25\n",
        "V0 = 2.0\n",
        "Volume = V0+Q*t"
      ],
      "metadata": {
        "id": "Jaellh1EEfgT"
      },
      "execution_count": null,
      "outputs": []
    },
    {
      "cell_type": "code",
      "source": [
        "#Função para retornar dCx/dt\n",
        "def Concentracao(state, t, k):\n",
        "    umax = k[0]\n",
        "    yxs = k[1]\n",
        "    ks = k[2]\n",
        "    kd = k[3]\n",
        "    Q = 0.25\n",
        "    V0 = 2\n",
        "    Csi = k[4]\n",
        "    Cx, Cs = state\n",
        "    D=Q/(V0+Q*t)\n",
        "    dCx_dt = ((((umax*Cs)/(ks+Cs))-kd)-D)*Cx\n",
        "    dCs_dt = (-(1/yxs)*(umax*Cs)/(ks+Cs))*Cx + (D*(Csi - Cs))\n",
        "    return [dCx_dt, dCs_dt]\n",
        "\n",
        "def Integração(w):\n",
        "    global C_sim\n",
        "    init_state=[w[4],w[5]] #Colocar valores de início para o Cx e Cs\n",
        "    k = [w[0], w[1], w[2], w[3], w[6]]\n",
        "    C_sim = odeint(Concentracao, init_state, t, args = (k,))\n",
        "    residuoCx = np.sqrt(sum((Cx_exp - C_sim[:,0])**2)/len(Cx_exp))\n",
        "    residuoCs = np.sqrt(sum((Cs_exp - C_sim[:,1])**2)/len(Cs_exp))\n",
        "    residuoC = np.sqrt(residuoCx**2 + residuoCs**2)\n",
        "    return residuoC\n",
        "\n",
        "resultado = differential_evolution(Integração, bounds = [(0.01,0.5), (0,0.6), (0,10), (0,1), (0,10), (5,20), (75,300)], maxiter=2000, popsize=35)\n",
        "parametros = resultado.x"
      ],
      "metadata": {
        "id": "wj-g7s2FEhwb"
      },
      "execution_count": null,
      "outputs": []
    },
    {
      "cell_type": "code",
      "source": [
        "print('umax = %.2f' %resultado.x[0]) \n",
        "print('yxs = %.2f' %resultado.x[1])\n",
        "print('ks = %.2f' %resultado.x[2])\n",
        "print('kd = %.2f' %resultado.x[3])\n",
        "print('Cx = %.2f' %resultado.x[4])\n",
        "print('Cs = %.2f' %resultado.x[5])\n",
        "print('Cs_i = %.2f' %resultado.x[6])\n",
        "print('-'*20)"
      ],
      "metadata": {
        "colab": {
          "base_uri": "https://localhost:8080/"
        },
        "id": "jIbHqrIQEtrk",
        "outputId": "daf852d5-aa75-4fd5-ce0b-61b010f1bb2c"
      },
      "execution_count": null,
      "outputs": [
        {
          "output_type": "stream",
          "name": "stdout",
          "text": [
            "umax = 0.50\n",
            "yxs = 0.46\n",
            "ks = 4.49\n",
            "kd = 0.30\n",
            "Cx = 3.64\n",
            "Cs = 8.81\n",
            "Cs_i = 181.38\n",
            "--------------------\n"
          ]
        }
      ]
    },
    {
      "cell_type": "code",
      "source": [
        "#Plotar resultados\n",
        "fig, ax1 = plt.subplots()\n",
        "\n",
        "ax1.plot(t,C_sim,label='Cx')\n",
        "ax1.plot(t,C_sim,label='Cs')\n",
        "ax1.plot(texp,Cx_exp,\"o\", label='Exp Cx')\n",
        "ax1.plot(texp,Cs_exp,\"o\", label='Exp Cs')\n",
        "ax1.set_ylabel('Concentracao (t)')\n",
        "ax2 = ax1.twinx()\n",
        "ax2.plot(t,Volume,label='Volume(t)')\n",
        "ax2.set_ylabel('Volume (t)')\n",
        "ax2.set_ylim([0, 10])\n",
        "ax1.set_xlabel('Tempo')\n",
        "plt.legend()\n",
        "plt.show()"
      ],
      "metadata": {
        "id": "7viOvM8nezcV",
        "colab": {
          "base_uri": "https://localhost:8080/",
          "height": 283
        },
        "outputId": "293bc193-0d20-4b67-9f88-7ce8b83f7670"
      },
      "execution_count": null,
      "outputs": [
        {
          "output_type": "display_data",
          "data": {
            "text/plain": [
              "<Figure size 432x288 with 2 Axes>"
            ],
            "image/png": "[encoded data removed]"
          },
          "metadata": {
            "needs_background": "light"
          }
        }
      ]
    },
    {
      "cell_type": "markdown",
      "source": [
        "#Contínuo"
      ],
      "metadata": {
        "id": "TvH6B5lT61-R"
      }
    },
    {
      "cell_type": "markdown",
      "metadata": {
        "id": "C1wJ2wGx9X-6"
      },
      "source": [
        "## Exercícios"
      ]
    },
    {
      "cell_type": "markdown",
      "metadata": {
        "id": "J2Fv1hok9X-6"
      },
      "source": [
        "### Enunciado"
      ]
    },
    {
      "cell_type": "code",
      "execution_count": null,
      "metadata": {
        "outputId": "5a45a540-7c81-411c-fe79-008e533ae803",
        "id": "9fgtAR_jEKKM"
      },
      "outputs": [
        {
          "name": "stdout",
          "output_type": "stream",
          "text": [
            "Entre com o valor em graus Celsius: 35\n",
            "A Temperatura em graus Fahrenheit é 95.0\n"
          ]
        }
      ],
      "source": [
        "# Exercício 1 - Converte graus Celsius em Fahrenheit\n",
        "C = float(input(\"Entre com o valor em graus Celsius: \"))\n",
        "F = ((9 * C)/5)+32\n",
        "print(\"A Temperatura em graus Fahrenheit é {}\".format(F))\n"
      ]
    },
    {
      "cell_type": "code",
      "execution_count": null,
      "metadata": {
        "id": "OBBsSd2r9X-7",
        "outputId": "2fdda35e-7a7b-4dc9-8998-3316e28a1ffe"
      },
      "outputs": [
        {
          "name": "stdout",
          "output_type": "stream",
          "text": [
            "Entre com o valor da distância em metros: 10\n",
            "A distância em milimetros é 10000.0\n"
          ]
        }
      ],
      "source": [
        "# Exercício 2 - Converte metros em milimetros\n",
        "M = float(input(\"Entre com o valor da distância em metros: \"))\n",
        "mm = M * 1000\n",
        "print(\"A distância em milimetros é {}\".format(mm))"
      ]
    },
    {
      "cell_type": "code",
      "execution_count": null,
      "metadata": {
        "outputId": "87bee54a-6036-46fd-c239-c5c51c966a0f",
        "id": "6kWGHa2oEKKN"
      },
      "outputs": [
        {
          "name": "stdout",
          "output_type": "stream",
          "text": [
            "Entre com o valor do lado do quadrado 15\n",
            "perímetro: 60 -área: 225\n"
          ]
        }
      ],
      "source": [
        "#Exercício 3 - Calcula o perímetro e área de um quadrado de lado l\n",
        "\n",
        "l = input(\"Entre com o valor do lado do quadrado \")\n",
        "l = int(l)\n",
        "\n",
        "x = l *4\n",
        "y = l*l\n",
        "\n",
        "print('perímetro:', x, '-área:', y)"
      ]
    },
    {
      "cell_type": "code",
      "execution_count": null,
      "metadata": {
        "id": "TvqgCj2v9X-7",
        "outputId": "9ef9b96f-cc1c-42d6-faf2-612b3da53f02"
      },
      "outputs": [
        {
          "name": "stdout",
          "output_type": "stream",
          "text": [
            "Entre com o valor da primeira nota10\n",
            "Entre com o valor da segunda nota7\n",
            "Entre com o valor da terceira nota6\n",
            "Entre com o valor da quarta nota6.5\n",
            "A média aritmética é 7.375\n"
          ]
        }
      ],
      "source": [
        "#Exercício 4 - Faça um programa em Python que receba quatro notas, calcule e imprima a média aritmética.\n",
        "\n",
        "a = input('Entre com o valor da primeira nota')\n",
        "b = input('Entre com o valor da segunda nota')\n",
        "c = input('Entre com o valor da terceira nota')\n",
        "d = input('Entre com o valor da quarta nota')\n",
        "a = float(a)\n",
        "b = float(b)\n",
        "c = float(c)\n",
        "d = float(d)\n",
        "media = (a + b + c + d) / 4\n",
        "print('A média aritmética é', media)\n"
      ]
    },
    {
      "cell_type": "code",
      "execution_count": null,
      "metadata": {
        "id": "5sH_kVZB9X-7",
        "outputId": "10405dfb-100f-492c-8e1d-9a2cb01c31a4"
      },
      "outputs": [
        {
          "name": "stdout",
          "output_type": "stream",
          "text": [
            "Entre com o peso em quilogramas: 85\n",
            "Entre com a estatura em metros: 1.82\n",
            "O índice de massa corporal é 25.661152034778407\n"
          ]
        }
      ],
      "source": [
        "# Exercício 5 - Calcule IMC\n",
        "massa = float(input(\"Entre com o peso em quilogramas: \"))\n",
        "altura = float(input(\"Entre com a estatura em metros: \"))\n",
        "IMC = (massa) / (altura**2)\n",
        "print(\"O índice de massa corporal é {}\".format(IMC))"
      ]
    },
    {
      "cell_type": "markdown",
      "metadata": {
        "id": "QkI2gnEI9X-8"
      },
      "source": [
        "Desafio - Faça um programa em que dada a quantidade de segundos, converta esse valor em dias, horas, minutos e segundos. A saída deve estar no formato: a dias, b horas, c minutos e d segundos."
      ]
    },
    {
      "cell_type": "code",
      "execution_count": null,
      "metadata": {
        "id": "2JXCYuTn9X-8",
        "outputId": "95a52630-b0fe-4985-9663-7ed8f2892821"
      },
      "outputs": [
        {
          "name": "stdout",
          "output_type": "stream",
          "text": [
            "Entre com o tempo em segundos que quer converter: 2000\n",
            "0 dias, 0 horas, 33 minutos e 20 segundos.\n"
          ]
        }
      ],
      "source": [
        "seg = int(input(\"Entre com o tempo em segundos que quer converter: \"))\n",
        "dia = seg // 86400\n",
        "dia_rest = seg % 86400\n",
        "hora = dia_rest // 3600\n",
        "hora_rest = dia_rest % 3600\n",
        "min = hora_rest // 60\n",
        "seg_rest = hora_rest % 60\n",
        "\n",
        "print(dia, \"dias,\", hora, \"horas,\", min, \"minutos e\", seg_rest, \"segundos.\" )"
      ]
    }
  ]
}