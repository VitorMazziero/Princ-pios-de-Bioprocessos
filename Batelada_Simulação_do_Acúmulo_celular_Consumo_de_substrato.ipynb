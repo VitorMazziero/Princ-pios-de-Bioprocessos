{
  "nbformat": 4,
  "nbformat_minor": 0,
  "metadata": {
    "colab": {
      "provenance": [],
      "authorship_tag": "ABX9TyP4nqspx0oGudX2EPjFUOQL",
      "include_colab_link": true
    },
    "kernelspec": {
      "name": "python3",
      "display_name": "Python 3"
    },
    "language_info": {
      "name": "python"
    }
  },
  "cells": [
    {
      "cell_type": "markdown",
      "metadata": {
        "id": "view-in-github",
        "colab_type": "text"
      },
      "source": [
        "<a href=\"https://colab.research.google.com/github/VitorMazziero/Princ-pios-de-Bioprocessos/blob/main/Batelada_Simula%C3%A7%C3%A3o_do_Ac%C3%BAmulo_celular_Consumo_de_substrato.ipynb\" target=\"_parent\"><img src=\"https://colab.research.google.com/assets/colab-badge.svg\" alt=\"Open In Colab\"/></a>"
      ]
    },
    {
      "cell_type": "markdown",
      "source": [
        "#Batelada Simples"
      ],
      "metadata": {
        "id": "5cjPri59Up4K"
      }
    },
    {
      "cell_type": "markdown",
      "source": [
        "##Balanço de Massa Celular\n"
      ],
      "metadata": {
        "id": "jdTY_xGFUtfm"
      }
    },
    {
      "cell_type": "markdown",
      "source": [
        "Acúmulo = Entra - Sai + Geração - Consumo\n",
        "\n",
        "⠀\n",
        "\n",
        "Para Batelada Simples o balanço geral de células é simplificado para: \n",
        "\n",
        "\n",
        "> Acúmulo $=$ Geração\n",
        "\n",
        "⠀⠀⠀⠀⠀⠀⠀⠀⠀$\\therefore$\n",
        "\n",
        "> $\\frac{\\mathrm{dm_{x}} }{\\mathrm{d} t} = R_{x} = r_{x}V$⠀⠀⠀⠀⠀⠀⠀⠀⠀⠀⠀⠀⠀⠀⠀⠀⠀ Eq. (1)\n",
        "\n",
        "---\n",
        "Na qual: **Variação mássica celular = $\\frac{\\mathrm{dm_{x}} }{\\mathrm{d} t}$** e **Geração mássica celular = $R_{x}$**\n",
        "\n",
        "---"
      ],
      "metadata": {
        "id": "XFQsb020U0Af"
      }
    },
    {
      "cell_type": "markdown",
      "source": [
        "#Modelo de Monod (μ variável)"
      ],
      "metadata": {
        "id": "3KRxfX-KVwIK"
      }
    },
    {
      "cell_type": "markdown",
      "source": [
        "Como visto anteriormente, para batelada simples, a variação da concetração celular é dado por:\n",
        "⠀\n",
        "\n",
        "$\\frac{\\mathrm{dm_{x}} }{\\mathrm{d} t}=\\frac{\\mathrm{dC_{x}V} }{\\mathrm{d} t}\\Rightarrow V\\frac{\\mathrm{dC_{x}} }{\\mathrm{d} t}=r_{x}V\\Rightarrow\\frac{\\mathrm{dC_{x}} }{\\mathrm{d} t}=\\mu C_{x}$       ⠀⠀⠀⠀⠀Eq. (2)\n",
        "\n",
        "⠀\n",
        "\n",
        "Para $\\mu$ variável, como descrito por Monod (1949):\n",
        "\n",
        "$\\mu = \\frac{\\mu_{max}C_{s} }{K_{s}+C_{s}}$ ⠀⠀⠀⠀⠀⠀⠀⠀⠀⠀⠀⠀⠀⠀⠀⠀⠀⠀⠀⠀⠀⠀⠀⠀⠀⠀⠀⠀⠀⠀⠀Eq. (3)\n",
        "\n",
        "⠀\n",
        "\n",
        "A variação da concetração celular passa a ser descrita por:\n",
        "\n",
        "$\\frac{\\mathrm{dC_{x}} }{\\mathrm{d} t} = \\frac{\\mu_{max}C_{s} }{K_{s}+C_{s}}C_{x}$ ⠀⠀⠀⠀⠀⠀⠀⠀⠀⠀⠀⠀⠀⠀⠀⠀⠀⠀⠀⠀⠀⠀⠀⠀⠀⠀⠀Eq. (4)"
      ],
      "metadata": {
        "id": "ttwezB8sWAnR"
      }
    },
    {
      "cell_type": "markdown",
      "source": [
        "Assim, é definida a função para integração numérica ***C_Var_Monod*** que descreve a variação de Cx com o tempo"
      ],
      "metadata": {
        "id": "uFTnTC5-hZ2L"
      }
    },
    {
      "cell_type": "code",
      "source": [
        "# Condições iniciais\n",
        "μ_max = 0.3\n",
        "Ks = 3\n",
        "Cs = 30\n",
        "\n",
        "def C_Var_Monod(Cx, t, μ):\n",
        "    μ = μ_max*Cs/(Ks+Cs)\n",
        "    dCxdt = μ*Cx #Eq. (3)\n",
        "    return dCxdt"
      ],
      "metadata": {
        "id": "1WxaKvHLhYiF"
      },
      "execution_count": null,
      "outputs": []
    },
    {
      "cell_type": "markdown",
      "source": [
        "##Balanço de Massa de Substrato"
      ],
      "metadata": {
        "id": "j9CGridyU1Dq"
      }
    },
    {
      "cell_type": "markdown",
      "source": [
        "Acúmulo = Entra - Sai + Geração - Consumo\n",
        "\n",
        "⠀\n",
        "\n",
        "Para Batelada Simples o balanço geral de substrato é simplificado para: \n",
        "\n",
        "\n",
        "> Acúmulo $=$ $-$Consumo\n",
        "\n",
        "⠀⠀⠀⠀⠀⠀⠀⠀⠀$\\therefore$\n",
        "\n",
        "> $\\frac{\\mathrm{dm_{s}} }{\\mathrm{d} t} = -R_{s} = -r_{s}V$ ⠀⠀⠀⠀⠀⠀⠀⠀⠀⠀⠀⠀⠀⠀⠀⠀⠀ Eq. (5)\n",
        "\n",
        "---\n",
        "Na qual: **Variação mássica de substrato = $\\frac{\\mathrm{dm_{s}} }{\\mathrm{d} t}$** e **Consumo de substrato = $R_{s}$**\n",
        "\n",
        "---"
      ],
      "metadata": {
        "id": "geSOL-RTU6lP"
      }
    },
    {
      "cell_type": "markdown",
      "source": [
        "De modo análogo a concentração celular, a variação da concentração de substrato é ditada pela taxa $r_{s}$, que é expressa pela Eq. (6):\n",
        "\n",
        "\n",
        "$V\\frac{\\mathrm{dC_{s}} }{\\mathrm{d} t}=-r_{s}V$ ⠀⠀⠀⠀⠀⠀⠀⠀⠀⠀⠀⠀⠀⠀Eq. (6)\n",
        "\n",
        "⠀\n",
        "\n",
        "Para relacionar o consumo de substrato com a formação celular, é necessário definir o **rendimento de crescimento celular** $Y_{\\frac{x}{s}}$ (a quantidade de célula que é formada por substrato consumido): \n",
        "\n",
        "\n",
        "$Y_{\\frac{x}{s}} = \\frac{r_{x}}{r_{s}}$ ⠀⠀⠀⠀⠀⠀⠀⠀⠀⠀⠀⠀⠀⠀⠀⠀⠀⠀⠀Eq. (7)\n"
      ],
      "metadata": {
        "id": "TCv51c_VV8V6"
      }
    },
    {
      "cell_type": "markdown",
      "source": [
        "Assim, a variação da concentração de substrato pode ser descrita em função da concentração celular naquele instante, como descrito a seguir:\n",
        "⠀\n",
        "$\\frac{\\mathrm{dC_{s}} }{\\mathrm{d} t} =-\\frac{r_{x}}{Y_{\\frac{x}{s}}}\\Rightarrow -\\frac{\\mu_{max}C_{s} }{K_{s}+C_{s}}\\frac{C_{x}}{Y_{\\frac{x}{s}}}$"
      ],
      "metadata": {
        "id": "5BtnrRR6kxxo"
      }
    },
    {
      "cell_type": "markdown",
      "source": [
        "Portanto, a função para integração numérica ***C_Var_Monod*** que descreve a variação de Cx e Cs com o tempo passa a ser dada por:"
      ],
      "metadata": {
        "id": "6KQezw-KmIFb"
      }
    },
    {
      "cell_type": "markdown",
      "source": [
        "##Simulação da variação da concentração celular e de substrato (Monod 1949)"
      ],
      "metadata": {
        "id": "l6BU4B0roz0-"
      }
    },
    {
      "cell_type": "code",
      "source": [
        "import numpy as np\n",
        "from numpy import arange\n",
        "\n",
        "# Vetor tempo\n",
        "t=np.arange(0, 12.5, 0.1) #Variação do tempo\n",
        "print(t)"
      ],
      "metadata": {
        "colab": {
          "base_uri": "https://localhost:8080/"
        },
        "id": "ckS64moHm3s_",
        "outputId": "98f4edc4-9564-4849-d053-8d61e5625fc6"
      },
      "execution_count": 9,
      "outputs": [
        {
          "output_type": "stream",
          "name": "stdout",
          "text": [
            "[ 0.   0.1  0.2  0.3  0.4  0.5  0.6  0.7  0.8  0.9  1.   1.1  1.2  1.3\n",
            "  1.4  1.5  1.6  1.7  1.8  1.9  2.   2.1  2.2  2.3  2.4  2.5  2.6  2.7\n",
            "  2.8  2.9  3.   3.1  3.2  3.3  3.4  3.5  3.6  3.7  3.8  3.9  4.   4.1\n",
            "  4.2  4.3  4.4  4.5  4.6  4.7  4.8  4.9  5.   5.1  5.2  5.3  5.4  5.5\n",
            "  5.6  5.7  5.8  5.9  6.   6.1  6.2  6.3  6.4  6.5  6.6  6.7  6.8  6.9\n",
            "  7.   7.1  7.2  7.3  7.4  7.5  7.6  7.7  7.8  7.9  8.   8.1  8.2  8.3\n",
            "  8.4  8.5  8.6  8.7  8.8  8.9  9.   9.1  9.2  9.3  9.4  9.5  9.6  9.7\n",
            "  9.8  9.9 10.  10.1 10.2 10.3 10.4 10.5 10.6 10.7 10.8 10.9 11.  11.1\n",
            " 11.2 11.3 11.4 11.5 11.6 11.7 11.8 11.9 12.  12.1 12.2 12.3 12.4]\n"
          ]
        }
      ]
    },
    {
      "cell_type": "code",
      "source": [
        "# Condições iniciais\n",
        "Cx0 = 1\n",
        "Cs0 = 40\n",
        "C0 = [Cx0, Cs0]\n",
        "mi_max = 0.3\n",
        "Ks = 3\n",
        "Yxs = 0.2\n",
        "\n",
        "def C_Var_Monod(C0, t, μ, Ks, Yxs):\n",
        "    Cx = C0[0]\n",
        "    Cs = C0[1]\n",
        "    dCxdt = (mi_max*Cs/(Ks+Cs))*Cx\n",
        "    dCsdt = -(mi_max*Cs/(Ks+Cs))*Cx/Yxs\n",
        "    return dCxdt, dCsdt"
      ],
      "metadata": {
        "id": "QA22wJBmmETA"
      },
      "execution_count": 15,
      "outputs": []
    },
    {
      "cell_type": "code",
      "source": [
        "from scipy.integrate import odeint\n",
        "import matplotlib.pyplot as plt\n",
        "\n",
        "# Contadores\n",
        "x = 0\n",
        "p = 2 # Número de condições iniciais\n",
        "\n",
        "while (x < p):\n",
        "    args=(mi_max, Ks, Yxs)\n",
        "    Result=odeint(C_Var_Monod, C0, t, args)\n",
        "    # Selecionar parâmetros para variar:\n",
        "    C0[0] += 1\n",
        "    C0[1] += 10\n",
        "    mi_max=mi_max+0.05\n",
        "    Ks=Ks+1\n",
        "    Yxs=Yxs+0.05\n",
        "    # Geração das curvas\n",
        "    plt.plot(t, Result, label='C' + str(x))\n",
        "    #print ('Cx' + str(x) + str(Result[0]))\n",
        "    #print ('Cs' + str(x) + str(Result[1]))\n",
        "    x+=1\n",
        "\n",
        "plt.xlabel('Tempo')\n",
        "plt.ylabel('Concentração')\n",
        "plt.legend()\n",
        "plt.show()"
      ],
      "metadata": {
        "colab": {
          "base_uri": "https://localhost:8080/",
          "height": 279
        },
        "id": "sZ3C1icWpG9S",
        "outputId": "07d7f100-c284-4e1a-ab25-2f2170dee1d8"
      },
      "execution_count": 16,
      "outputs": [
        {
          "output_type": "display_data",
          "data": {
            "text/plain": [
              "<Figure size 432x288 with 1 Axes>"
            ],
            "image/png": "[encoded data removed]"
          },
          "metadata": {
            "needs_background": "light"
          }
        }
      ]
    }
  ]
}