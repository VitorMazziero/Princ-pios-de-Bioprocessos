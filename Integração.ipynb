{
  "nbformat": 4,
  "nbformat_minor": 0,
  "metadata": {
    "colab": {
      "provenance": [],
      "authorship_tag": "ABX9TyOzUNy2z70YYRCCeu55Qnxl",
      "include_colab_link": true
    },
    "kernelspec": {
      "name": "python3",
      "display_name": "Python 3"
    },
    "language_info": {
      "name": "python"
    }
  },
  "cells": [
    {
      "cell_type": "markdown",
      "metadata": {
        "id": "view-in-github",
        "colab_type": "text"
      },
      "source": [
        "<a href=\"https://colab.research.google.com/github/VitorMazziero/Principios-de-Bioprocessos/blob/main/Integra%C3%A7%C3%A3o.ipynb\" target=\"_parent\"><img src=\"https://colab.research.google.com/assets/colab-badge.svg\" alt=\"Open In Colab\"/></a>"
      ]
    },
    {
      "cell_type": "code",
      "execution_count": null,
      "metadata": {
        "colab": {
          "base_uri": "https://localhost:8080/",
          "height": 54
        },
        "id": "pfCEauHP1mZm",
        "outputId": "6880985a-946a-452c-f340-7e7619f64908"
      },
      "outputs": [
        {
          "output_type": "execute_result",
          "data": {
            "text/plain": [
              "a*t**2/2 + b*t"
            ],
            "text/latex": "$\\displaystyle \\frac{a t^{2}}{2} + b t$"
          },
          "metadata": {},
          "execution_count": 6
        }
      ],
      "source": [
        "import sympy as sp \n",
        "import math as m\n",
        "t = sp.Symbol('t') \n",
        "a, b = sp.symbols('a b')\n",
        "y = a*t + b\n",
        "sp.integrate(y, (t, 0 , t))"
      ]
    }
  ]
}